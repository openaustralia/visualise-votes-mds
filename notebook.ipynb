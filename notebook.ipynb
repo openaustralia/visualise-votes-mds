{
 "cells": [
  {
   "cell_type": "markdown",
   "source": "# Visualising \"closeness\" of current members of parliament based on how they vote in divisions",
   "metadata": {
    "cell_id": "06c5b75aac7647aeab4c3ad0fcc2d48c",
    "tags": [],
    "is_collapsed": false,
    "deepnote_app_coordinates": {
     "x": 0,
     "y": null,
     "w": 12,
     "h": 5
    },
    "deepnote_cell_type": "text-cell-h1"
   }
  },
  {
   "cell_type": "markdown",
   "source": "We're going to use the similarity measure from They Vote For You on all current members of parliament and then use multi-dimensional scaling (MDS) to create a two dimensional \"map\" of all the members where their position on the map puts them close to other members who they voted similarly to and far away from those they voted very differently to.",
   "metadata": {
    "cell_id": "47665386f1ea45b79004a842370b2da2",
    "tags": [],
    "is_collapsed": false,
    "deepnote_app_coordinates": {
     "x": 0,
     "y": 6,
     "w": 8,
     "h": 2
    },
    "deepnote_cell_type": "text-cell-p"
   }
  },
  {
   "cell_type": "markdown",
   "source": "One possible improvement for the future is to use the \"strong\" votes from policies to weight certain divisions more strongly than others in the calculation of similarity. Those would be divisions that related to actual concrete changes in the law (otherwise known as substantive changes).",
   "metadata": {
    "cell_id": "20134c790aa9483194194649d2693689",
    "tags": [],
    "is_collapsed": false,
    "deepnote_app_coordinates": {
     "x": 0,
     "y": 9,
     "w": 8,
     "h": 2
    },
    "deepnote_cell_type": "text-cell-p"
   }
  },
  {
   "cell_type": "markdown",
   "source": "We can't get the data we need directly through the They Vote For You API right now so we're going to get it by running some Ruby directly from the rails console. We'll document the steps here too.",
   "metadata": {
    "cell_id": "602bd231a291400c8634c321a0dba131",
    "tags": [],
    "is_collapsed": false,
    "deepnote_app_coordinates": {
     "x": 0,
     "y": 12,
     "w": 8,
     "h": 2
    },
    "deepnote_cell_type": "text-cell-p"
   }
  },
  {
   "cell_type": "markdown",
   "source": "Get all the distances between people who are current members\n```\np = Member.current.where(house: \"representatives\").pluck(:person_id)\nd = PeopleDistance.where(person1: p, person2: p).pluck(:person1_id, :person2_id, :distance_b)\nFile.open(\"distances.csv\", \"w\") { |f| f.write([\"person1_id\", \"person2_id\", \"distance_b\"].to_csv); d.each {|l| f.write(l.to_csv)} }\n```\n\nWe'll also need some information about each person so we can make things meaningful. We'll definitely need their name and party so let's start there\n```\ninfo = Member.current.where(house: \"representatives\").map{|m| [m.person.id, m.person.name, m.person.latest_member.party]}\nFile.open(\"people.csv\", \"w\") { |f| f.write([\"id\", \"name\", \"party\"].to_csv); info.each {|l| f.write(l.to_csv)}}\n```",
   "metadata": {
    "cell_id": "cfbd74917ccd46e9aece96c3b8c7972f",
    "tags": [],
    "deepnote_app_coordinates": {
     "x": 0,
     "y": 15,
     "w": 12,
     "h": 5
    },
    "deepnote_cell_type": "markdown",
    "deepnote_cell_height": 331.6000061035156
   }
  },
  {
   "cell_type": "markdown",
   "source": "Loading the exported csv...",
   "metadata": {
    "cell_id": "14d2505f94024a0f9683e4bc22a8fe27",
    "tags": [],
    "is_collapsed": false,
    "deepnote_app_coordinates": {
     "x": 0,
     "y": 21,
     "w": 8,
     "h": 2
    },
    "deepnote_cell_type": "text-cell-p"
   }
  },
  {
   "cell_type": "code",
   "metadata": {
    "tags": [],
    "deepnote_variable_name": "distances",
    "sql_integration_id": "deepnote-dataframe-sql",
    "cell_id": "4046f8523289411daccebd51f894efe3",
    "deepnote_to_be_reexecuted": false,
    "source_hash": "701d0dd6",
    "execution_start": 1652401877813,
    "execution_millis": 1461,
    "deepnote_sql_source": "SELECT *\nFROM '/work/distances.csv' ORDER BY person1_id, person2_id;",
    "deepnote_app_coordinates": {
     "x": 0,
     "y": 24,
     "w": 12,
     "h": 5
    },
    "deepnote_cell_type": "sql",
    "deepnote_cell_height": 658
   },
   "source": "\n\ndistances = _deepnote_execute_sql(\"\"\"SELECT *\nFROM '/work/distances.csv' ORDER BY person1_id, person2_id;\n\"\"\", 'SQL_DEEPNOTE_DATAFRAME_SQL')\ndistances",
   "execution_count": 1,
   "outputs": [
    {
     "output_type": "execute_result",
     "execution_count": 1,
     "data": {
      "application/vnd.deepnote.dataframe.v3+json": {
       "column_count": 3,
       "row_count": 22500,
       "columns": [
        {
         "name": "person1_id",
         "dtype": "int64",
         "stats": {
          "unique_count": 150,
          "nan_count": 0,
          "min": "10007",
          "max": "10963",
          "histogram": [
           {
            "bin_start": 10007,
            "bin_end": 10102.6,
            "count": 1200
           },
           {
            "bin_start": 10102.6,
            "bin_end": 10198.2,
            "count": 900
           },
           {
            "bin_start": 10198.2,
            "bin_end": 10293.8,
            "count": 600
           },
           {
            "bin_start": 10293.8,
            "bin_end": 10389.4,
            "count": 1200
           },
           {
            "bin_start": 10389.4,
            "bin_end": 10485,
            "count": 450
           },
           {
            "bin_start": 10485,
            "bin_end": 10580.6,
            "count": 1350
           },
           {
            "bin_start": 10580.6,
            "bin_end": 10676.2,
            "count": 600
           },
           {
            "bin_start": 10676.2,
            "bin_end": 10771.8,
            "count": 3600
           },
           {
            "bin_start": 10771.8,
            "bin_end": 10867.4,
            "count": 4500
           },
           {
            "bin_start": 10867.4,
            "bin_end": 10963,
            "count": 8100
           }
          ]
         }
        },
        {
         "name": "person2_id",
         "dtype": "int64",
         "stats": {
          "unique_count": 150,
          "nan_count": 0,
          "min": "10007",
          "max": "10963",
          "histogram": [
           {
            "bin_start": 10007,
            "bin_end": 10102.6,
            "count": 1200
           },
           {
            "bin_start": 10102.6,
            "bin_end": 10198.2,
            "count": 900
           },
           {
            "bin_start": 10198.2,
            "bin_end": 10293.8,
            "count": 600
           },
           {
            "bin_start": 10293.8,
            "bin_end": 10389.4,
            "count": 1200
           },
           {
            "bin_start": 10389.4,
            "bin_end": 10485,
            "count": 450
           },
           {
            "bin_start": 10485,
            "bin_end": 10580.6,
            "count": 1350
           },
           {
            "bin_start": 10580.6,
            "bin_end": 10676.2,
            "count": 600
           },
           {
            "bin_start": 10676.2,
            "bin_end": 10771.8,
            "count": 3600
           },
           {
            "bin_start": 10771.8,
            "bin_end": 10867.4,
            "count": 4500
           },
           {
            "bin_start": 10867.4,
            "bin_end": 10963,
            "count": 8100
           }
          ]
         }
        },
        {
         "name": "distance_b",
         "dtype": "float64",
         "stats": {
          "unique_count": 6140,
          "nan_count": 0,
          "min": "0.0",
          "max": "1.0",
          "histogram": [
           {
            "bin_start": 0,
            "bin_end": 0.1,
            "count": 10602
           },
           {
            "bin_start": 0.1,
            "bin_end": 0.2,
            "count": 96
           },
           {
            "bin_start": 0.2,
            "bin_end": 0.30000000000000004,
            "count": 64
           },
           {
            "bin_start": 0.30000000000000004,
            "bin_end": 0.4,
            "count": 350
           },
           {
            "bin_start": 0.4,
            "bin_end": 0.5,
            "count": 136
           },
           {
            "bin_start": 0.5,
            "bin_end": 0.6000000000000001,
            "count": 156
           },
           {
            "bin_start": 0.6000000000000001,
            "bin_end": 0.7000000000000001,
            "count": 362
           },
           {
            "bin_start": 0.7000000000000001,
            "bin_end": 0.8,
            "count": 100
           },
           {
            "bin_start": 0.8,
            "bin_end": 0.9,
            "count": 108
           },
           {
            "bin_start": 0.9,
            "bin_end": 1,
            "count": 10526
           }
          ]
         }
        },
        {
         "name": "_deepnote_index_column",
         "dtype": "int64"
        }
       ],
       "rows": [
        {
         "person1_id": 10007,
         "person2_id": 10007,
         "distance_b": 0,
         "_deepnote_index_column": 0
        },
        {
         "person1_id": 10007,
         "person2_id": 10014,
         "distance_b": 0.996044,
         "_deepnote_index_column": 1
        },
        {
         "person1_id": 10007,
         "person2_id": 10043,
         "distance_b": 0,
         "_deepnote_index_column": 2
        },
        {
         "person1_id": 10007,
         "person2_id": 10060,
         "distance_b": 0.000826446,
         "_deepnote_index_column": 3
        },
        {
         "person1_id": 10007,
         "person2_id": 10069,
         "distance_b": 0.990121,
         "_deepnote_index_column": 4
        },
        {
         "person1_id": 10007,
         "person2_id": 10081,
         "distance_b": 0.00206954,
         "_deepnote_index_column": 5
        },
        {
         "person1_id": 10007,
         "person2_id": 10086,
         "distance_b": 0,
         "_deepnote_index_column": 6
        },
        {
         "person1_id": 10007,
         "person2_id": 10088,
         "distance_b": 0.00328793,
         "_deepnote_index_column": 7
        },
        {
         "person1_id": 10007,
         "person2_id": 10123,
         "distance_b": 0,
         "_deepnote_index_column": 8
        },
        {
         "person1_id": 10007,
         "person2_id": 10136,
         "distance_b": 0,
         "_deepnote_index_column": 9
        }
       ]
      },
      "text/plain": "       person1_id  person2_id  distance_b\n0           10007       10007    0.000000\n1           10007       10014    0.996044\n2           10007       10043    0.000000\n3           10007       10060    0.000826\n4           10007       10069    0.990121\n...           ...         ...         ...\n22495       10963       10940    0.000000\n22496       10963       10941    0.785124\n22497       10963       10942    0.011152\n22498       10963       10960    0.980843\n22499       10963       10963    0.000000\n\n[22500 rows x 3 columns]",
      "text/html": "<div>\n<style scoped>\n    .dataframe tbody tr th:only-of-type {\n        vertical-align: middle;\n    }\n\n    .dataframe tbody tr th {\n        vertical-align: top;\n    }\n\n    .dataframe thead th {\n        text-align: right;\n    }\n</style>\n<table border=\"1\" class=\"dataframe\">\n  <thead>\n    <tr style=\"text-align: right;\">\n      <th></th>\n      <th>person1_id</th>\n      <th>person2_id</th>\n      <th>distance_b</th>\n    </tr>\n  </thead>\n  <tbody>\n    <tr>\n      <th>0</th>\n      <td>10007</td>\n      <td>10007</td>\n      <td>0.000000</td>\n    </tr>\n    <tr>\n      <th>1</th>\n      <td>10007</td>\n      <td>10014</td>\n      <td>0.996044</td>\n    </tr>\n    <tr>\n      <th>2</th>\n      <td>10007</td>\n      <td>10043</td>\n      <td>0.000000</td>\n    </tr>\n    <tr>\n      <th>3</th>\n      <td>10007</td>\n      <td>10060</td>\n      <td>0.000826</td>\n    </tr>\n    <tr>\n      <th>4</th>\n      <td>10007</td>\n      <td>10069</td>\n      <td>0.990121</td>\n    </tr>\n    <tr>\n      <th>...</th>\n      <td>...</td>\n      <td>...</td>\n      <td>...</td>\n    </tr>\n    <tr>\n      <th>22495</th>\n      <td>10963</td>\n      <td>10940</td>\n      <td>0.000000</td>\n    </tr>\n    <tr>\n      <th>22496</th>\n      <td>10963</td>\n      <td>10941</td>\n      <td>0.785124</td>\n    </tr>\n    <tr>\n      <th>22497</th>\n      <td>10963</td>\n      <td>10942</td>\n      <td>0.011152</td>\n    </tr>\n    <tr>\n      <th>22498</th>\n      <td>10963</td>\n      <td>10960</td>\n      <td>0.980843</td>\n    </tr>\n    <tr>\n      <th>22499</th>\n      <td>10963</td>\n      <td>10963</td>\n      <td>0.000000</td>\n    </tr>\n  </tbody>\n</table>\n<p>22500 rows × 3 columns</p>\n</div>"
     },
     "metadata": {}
    }
   ]
  },
  {
   "cell_type": "code",
   "metadata": {
    "tags": [],
    "deepnote_variable_name": "people",
    "sql_integration_id": "deepnote-dataframe-sql",
    "cell_id": "88b38bf8df804f40a7eaf5c4f85e4e1e",
    "deepnote_to_be_reexecuted": false,
    "source_hash": "55cc9b71",
    "execution_start": 1652401879328,
    "execution_millis": 856,
    "deepnote_sql_source": "SELECT *\nFROM '/work/people.csv' ORDER by id",
    "deepnote_table_state": {
     "pageSize": 10,
     "pageIndex": 0,
     "filters": [],
     "sortBy": []
    },
    "deepnote_table_loading": false,
    "deepnote_app_coordinates": {
     "x": 0,
     "y": 30,
     "w": 12,
     "h": 5
    },
    "deepnote_cell_type": "sql",
    "deepnote_cell_height": 658
   },
   "source": "\n\npeople = _deepnote_execute_sql(\"\"\"SELECT *\nFROM '/work/people.csv' ORDER by id\n\"\"\", 'SQL_DEEPNOTE_DATAFRAME_SQL')\npeople",
   "execution_count": 2,
   "outputs": [
    {
     "output_type": "execute_result",
     "execution_count": 2,
     "data": {
      "application/vnd.deepnote.dataframe.v3+json": {
       "column_count": 3,
       "row_count": 150,
       "columns": [
        {
         "name": "id",
         "dtype": "int64",
         "stats": {
          "unique_count": 150,
          "nan_count": 0,
          "min": "10007",
          "max": "10963",
          "histogram": [
           {
            "bin_start": 10007,
            "bin_end": 10102.6,
            "count": 8
           },
           {
            "bin_start": 10102.6,
            "bin_end": 10198.2,
            "count": 6
           },
           {
            "bin_start": 10198.2,
            "bin_end": 10293.8,
            "count": 4
           },
           {
            "bin_start": 10293.8,
            "bin_end": 10389.4,
            "count": 8
           },
           {
            "bin_start": 10389.4,
            "bin_end": 10485,
            "count": 3
           },
           {
            "bin_start": 10485,
            "bin_end": 10580.6,
            "count": 9
           },
           {
            "bin_start": 10580.6,
            "bin_end": 10676.2,
            "count": 4
           },
           {
            "bin_start": 10676.2,
            "bin_end": 10771.8,
            "count": 24
           },
           {
            "bin_start": 10771.8,
            "bin_end": 10867.4,
            "count": 30
           },
           {
            "bin_start": 10867.4,
            "bin_end": 10963,
            "count": 54
           }
          ]
         }
        },
        {
         "name": "name",
         "dtype": "object",
         "stats": {
          "unique_count": 150,
          "nan_count": 0,
          "categories": [
           {
            "name": "Anthony Albanese",
            "count": 1
           },
           {
            "name": "Kevin Andrews",
            "count": 1
           },
           {
            "name": "148 others",
            "count": 148
           }
          ]
         }
        },
        {
         "name": "party",
         "dtype": "object",
         "stats": {
          "unique_count": 11,
          "nan_count": 0,
          "categories": [
           {
            "name": "Australian Labor Party",
            "count": 67
           },
           {
            "name": "Liberal Party",
            "count": 54
           },
           {
            "name": "9 others",
            "count": 29
           }
          ]
         }
        },
        {
         "name": "_deepnote_index_column",
         "dtype": "int64"
        }
       ],
       "rows": [
        {
         "id": 10007,
         "name": "Anthony Albanese",
         "party": "Australian Labor Party",
         "_deepnote_index_column": 0
        },
        {
         "id": 10014,
         "name": "Kevin Andrews",
         "party": "Liberal Party",
         "_deepnote_index_column": 1
        },
        {
         "id": 10043,
         "name": "Sharon Bird",
         "party": "Australian Labor Party",
         "_deepnote_index_column": 2
        },
        {
         "id": 10060,
         "name": "Chris Bowen",
         "party": "Australian Labor Party",
         "_deepnote_index_column": 3
        },
        {
         "id": 10069,
         "name": "Russell Broadbent",
         "party": "Liberal Party",
         "_deepnote_index_column": 4
        },
        {
         "id": 10081,
         "name": "Tony Burke",
         "party": "Australian Labor Party",
         "_deepnote_index_column": 5
        },
        {
         "id": 10086,
         "name": "Mark Butler",
         "party": "Australian Labor Party",
         "_deepnote_index_column": 6
        },
        {
         "id": 10088,
         "name": "Anthony Byrne",
         "party": "Australian Labor Party",
         "_deepnote_index_column": 7
        },
        {
         "id": 10123,
         "name": "Jason Clare",
         "party": "Australian Labor Party",
         "_deepnote_index_column": 8
        },
        {
         "id": 10136,
         "name": "Julie Collins",
         "party": "Australian Labor Party",
         "_deepnote_index_column": 9
        }
       ]
      },
      "text/plain": "        id               name                   party\n0    10007   Anthony Albanese  Australian Labor Party\n1    10014      Kevin Andrews           Liberal Party\n2    10043        Sharon Bird  Australian Labor Party\n3    10060        Chris Bowen  Australian Labor Party\n4    10069  Russell Broadbent           Liberal Party\n..     ...                ...                     ...\n145  10940      James Stevens           Liberal Party\n146  10941      Zali Steggall             Independent\n147  10942        Dave Sharma           Liberal Party\n148  10960      Kristy McBain  Australian Labor Party\n149  10963     Garth Hamilton  Liberal National Party\n\n[150 rows x 3 columns]",
      "text/html": "<div>\n<style scoped>\n    .dataframe tbody tr th:only-of-type {\n        vertical-align: middle;\n    }\n\n    .dataframe tbody tr th {\n        vertical-align: top;\n    }\n\n    .dataframe thead th {\n        text-align: right;\n    }\n</style>\n<table border=\"1\" class=\"dataframe\">\n  <thead>\n    <tr style=\"text-align: right;\">\n      <th></th>\n      <th>id</th>\n      <th>name</th>\n      <th>party</th>\n    </tr>\n  </thead>\n  <tbody>\n    <tr>\n      <th>0</th>\n      <td>10007</td>\n      <td>Anthony Albanese</td>\n      <td>Australian Labor Party</td>\n    </tr>\n    <tr>\n      <th>1</th>\n      <td>10014</td>\n      <td>Kevin Andrews</td>\n      <td>Liberal Party</td>\n    </tr>\n    <tr>\n      <th>2</th>\n      <td>10043</td>\n      <td>Sharon Bird</td>\n      <td>Australian Labor Party</td>\n    </tr>\n    <tr>\n      <th>3</th>\n      <td>10060</td>\n      <td>Chris Bowen</td>\n      <td>Australian Labor Party</td>\n    </tr>\n    <tr>\n      <th>4</th>\n      <td>10069</td>\n      <td>Russell Broadbent</td>\n      <td>Liberal Party</td>\n    </tr>\n    <tr>\n      <th>...</th>\n      <td>...</td>\n      <td>...</td>\n      <td>...</td>\n    </tr>\n    <tr>\n      <th>145</th>\n      <td>10940</td>\n      <td>James Stevens</td>\n      <td>Liberal Party</td>\n    </tr>\n    <tr>\n      <th>146</th>\n      <td>10941</td>\n      <td>Zali Steggall</td>\n      <td>Independent</td>\n    </tr>\n    <tr>\n      <th>147</th>\n      <td>10942</td>\n      <td>Dave Sharma</td>\n      <td>Liberal Party</td>\n    </tr>\n    <tr>\n      <th>148</th>\n      <td>10960</td>\n      <td>Kristy McBain</td>\n      <td>Australian Labor Party</td>\n    </tr>\n    <tr>\n      <th>149</th>\n      <td>10963</td>\n      <td>Garth Hamilton</td>\n      <td>Liberal National Party</td>\n    </tr>\n  </tbody>\n</table>\n<p>150 rows × 3 columns</p>\n</div>"
     },
     "metadata": {}
    }
   ]
  },
  {
   "cell_type": "markdown",
   "source": "We need to turn this into a square matrix. We'll also need another array that converts between the index in the matrix and the `person_id`",
   "metadata": {
    "cell_id": "8e2f8bc041c74ed4964f9b718fd3d66e",
    "tags": [],
    "deepnote_app_coordinates": {
     "x": 0,
     "y": 36,
     "w": 12,
     "h": 5
    },
    "deepnote_cell_type": "markdown",
    "deepnote_cell_height": 75
   }
  },
  {
   "cell_type": "code",
   "metadata": {
    "cell_id": "f17f68b5cb5a4d9e8aee19a9037cfd6d",
    "tags": [],
    "deepnote_to_be_reexecuted": false,
    "source_hash": "76d5d52e",
    "execution_start": 1652401879461,
    "execution_millis": 1122,
    "deepnote_table_state": {
     "pageSize": 10,
     "pageIndex": 4,
     "filters": [],
     "sortBy": []
    },
    "deepnote_table_loading": false,
    "deepnote_app_coordinates": {
     "x": 0,
     "y": 42,
     "w": 12,
     "h": 5
    },
    "deepnote_cell_type": "code",
    "deepnote_cell_height": 618
   },
   "source": "dist_matrix = distances.pivot(index='person1_id', columns='person2_id', values='distance_b')\ndist_matrix",
   "execution_count": 3,
   "outputs": [
    {
     "output_type": "execute_result",
     "execution_count": 3,
     "data": {
      "application/vnd.deepnote.dataframe.v3+json": {
       "column_count": 150,
       "row_count": 150,
       "columns": [
        {
         "name": 10007,
         "dtype": "float64",
         "stats": {
          "unique_count": 98,
          "nan_count": 0,
          "min": "0.0",
          "max": "0.998175",
          "histogram": [
           {
            "bin_start": 0,
            "bin_end": 0.0998175,
            "count": 68
           },
           {
            "bin_start": 0.0998175,
            "bin_end": 0.199635,
            "count": 1
           },
           {
            "bin_start": 0.199635,
            "bin_end": 0.2994525,
            "count": 2
           },
           {
            "bin_start": 0.2994525,
            "bin_end": 0.39927,
            "count": 1
           },
           {
            "bin_start": 0.39927,
            "bin_end": 0.4990875,
            "count": 0
           },
           {
            "bin_start": 0.4990875,
            "bin_end": 0.598905,
            "count": 1
           },
           {
            "bin_start": 0.598905,
            "bin_end": 0.6987225,
            "count": 0
           },
           {
            "bin_start": 0.6987225,
            "bin_end": 0.79854,
            "count": 0
           },
           {
            "bin_start": 0.79854,
            "bin_end": 0.8983575,
            "count": 0
           },
           {
            "bin_start": 0.8983575,
            "bin_end": 0.998175,
            "count": 77
           }
          ]
         }
        },
        {
         "name": 10014,
         "dtype": "float64",
         "stats": {
          "unique_count": 122,
          "nan_count": 0,
          "min": "0.0",
          "max": "0.998201",
          "histogram": [
           {
            "bin_start": 0,
            "bin_end": 0.0998201,
            "count": 77
           },
           {
            "bin_start": 0.0998201,
            "bin_end": 0.1996402,
            "count": 0
           },
           {
            "bin_start": 0.1996402,
            "bin_end": 0.2994603,
            "count": 0
           },
           {
            "bin_start": 0.2994603,
            "bin_end": 0.3992804,
            "count": 0
           },
           {
            "bin_start": 0.3992804,
            "bin_end": 0.49910049999999995,
            "count": 1
           },
           {
            "bin_start": 0.49910049999999995,
            "bin_end": 0.5989206,
            "count": 0
           },
           {
            "bin_start": 0.5989206,
            "bin_end": 0.6987407,
            "count": 2
           },
           {
            "bin_start": 0.6987407,
            "bin_end": 0.7985608,
            "count": 1
           },
           {
            "bin_start": 0.7985608,
            "bin_end": 0.8983808999999999,
            "count": 1
           },
           {
            "bin_start": 0.8983808999999999,
            "bin_end": 0.998201,
            "count": 68
           }
          ]
         }
        },
        {
         "name": 10043,
         "dtype": "float64",
         "stats": {
          "unique_count": 97,
          "nan_count": 0,
          "min": "0.0",
          "max": "0.997881",
          "histogram": [
           {
            "bin_start": 0,
            "bin_end": 0.0997881,
            "count": 68
           },
           {
            "bin_start": 0.0997881,
            "bin_end": 0.1995762,
            "count": 1
           },
           {
            "bin_start": 0.1995762,
            "bin_end": 0.2993643,
            "count": 0
           },
           {
            "bin_start": 0.2993643,
            "bin_end": 0.3991524,
            "count": 3
           },
           {
            "bin_start": 0.3991524,
            "bin_end": 0.4989405,
            "count": 0
           },
           {
            "bin_start": 0.4989405,
            "bin_end": 0.5987286,
            "count": 1
           },
           {
            "bin_start": 0.5987286,
            "bin_end": 0.6985167,
            "count": 0
           },
           {
            "bin_start": 0.6985167,
            "bin_end": 0.7983048,
            "count": 0
           },
           {
            "bin_start": 0.7983048,
            "bin_end": 0.8980929000000001,
            "count": 0
           },
           {
            "bin_start": 0.8980929000000001,
            "bin_end": 0.997881,
            "count": 77
           }
          ]
         }
        },
        {
         "name": 10060,
         "dtype": "float64",
         "stats": {
          "unique_count": 110,
          "nan_count": 0,
          "min": "0.0",
          "max": "0.995422",
          "histogram": [
           {
            "bin_start": 0,
            "bin_end": 0.0995422,
            "count": 68
           },
           {
            "bin_start": 0.0995422,
            "bin_end": 0.1990844,
            "count": 1
           },
           {
            "bin_start": 0.1990844,
            "bin_end": 0.29862659999999996,
            "count": 0
           },
           {
            "bin_start": 0.29862659999999996,
            "bin_end": 0.3981688,
            "count": 3
           },
           {
            "bin_start": 0.3981688,
            "bin_end": 0.497711,
            "count": 0
           },
           {
            "bin_start": 0.497711,
            "bin_end": 0.5972531999999999,
            "count": 1
           },
           {
            "bin_start": 0.5972531999999999,
            "bin_end": 0.6967954,
            "count": 0
           },
           {
            "bin_start": 0.6967954,
            "bin_end": 0.7963376,
            "count": 0
           },
           {
            "bin_start": 0.7963376,
            "bin_end": 0.8958798,
            "count": 0
           },
           {
            "bin_start": 0.8958798,
            "bin_end": 0.995422,
            "count": 77
           }
          ]
         }
        },
        {
         "name": 10069,
         "dtype": "float64",
         "stats": {
          "unique_count": 143,
          "nan_count": 0,
          "min": "0.0",
          "max": "0.996054",
          "histogram": [
           {
            "bin_start": 0,
            "bin_end": 0.0996054,
            "count": 77
           },
           {
            "bin_start": 0.0996054,
            "bin_end": 0.1992108,
            "count": 0
           },
           {
            "bin_start": 0.1992108,
            "bin_end": 0.2988162,
            "count": 0
           },
           {
            "bin_start": 0.2988162,
            "bin_end": 0.3984216,
            "count": 0
           },
           {
            "bin_start": 0.3984216,
            "bin_end": 0.498027,
            "count": 0
           },
           {
            "bin_start": 0.498027,
            "bin_end": 0.5976324,
            "count": 1
           },
           {
            "bin_start": 0.5976324,
            "bin_end": 0.6972378,
            "count": 2
           },
           {
            "bin_start": 0.6972378,
            "bin_end": 0.7968432,
            "count": 1
           },
           {
            "bin_start": 0.7968432,
            "bin_end": 0.8964485999999999,
            "count": 1
           },
           {
            "bin_start": 0.8964485999999999,
            "bin_end": 0.996054,
            "count": 68
           }
          ]
         }
        },
        {
         "name": 10081,
         "dtype": "float64",
         "stats": {
          "unique_count": 110,
          "nan_count": 0,
          "min": "0.0",
          "max": "0.995557",
          "histogram": [
           {
            "bin_start": 0,
            "bin_end": 0.0995557,
            "count": 68
           },
           {
            "bin_start": 0.0995557,
            "bin_end": 0.1991114,
            "count": 1
           },
           {
            "bin_start": 0.1991114,
            "bin_end": 0.29866709999999996,
            "count": 0
           },
           {
            "bin_start": 0.29866709999999996,
            "bin_end": 0.3982228,
            "count": 3
           },
           {
            "bin_start": 0.3982228,
            "bin_end": 0.4977785,
            "count": 0
           },
           {
            "bin_start": 0.4977785,
            "bin_end": 0.5973341999999999,
            "count": 1
           },
           {
            "bin_start": 0.5973341999999999,
            "bin_end": 0.6968899,
            "count": 0
           },
           {
            "bin_start": 0.6968899,
            "bin_end": 0.7964456,
            "count": 0
           },
           {
            "bin_start": 0.7964456,
            "bin_end": 0.8960013,
            "count": 0
           },
           {
            "bin_start": 0.8960013,
            "bin_end": 0.995557,
            "count": 77
           }
          ]
         }
        },
        {
         "name": 10086,
         "dtype": "float64",
         "stats": {
          "unique_count": 93,
          "nan_count": 0,
          "min": "0.0",
          "max": "0.999322",
          "histogram": [
           {
            "bin_start": 0,
            "bin_end": 0.0999322,
            "count": 68
           },
           {
            "bin_start": 0.0999322,
            "bin_end": 0.1998644,
            "count": 1
           },
           {
            "bin_start": 0.1998644,
            "bin_end": 0.29979659999999997,
            "count": 0
           },
           {
            "bin_start": 0.29979659999999997,
            "bin_end": 0.3997288,
            "count": 3
           },
           {
            "bin_start": 0.3997288,
            "bin_end": 0.499661,
            "count": 0
           },
           {
            "bin_start": 0.499661,
            "bin_end": 0.5995931999999999,
            "count": 1
           },
           {
            "bin_start": 0.5995931999999999,
            "bin_end": 0.6995254,
            "count": 0
           },
           {
            "bin_start": 0.6995254,
            "bin_end": 0.7994576,
            "count": 0
           },
           {
            "bin_start": 0.7994576,
            "bin_end": 0.8993898,
            "count": 0
           },
           {
            "bin_start": 0.8993898,
            "bin_end": 0.999322,
            "count": 77
           }
          ]
         }
        },
        {
         "name": 10088,
         "dtype": "float64",
         "stats": {
          "unique_count": 102,
          "nan_count": 0,
          "min": "0.0",
          "max": "0.995656",
          "histogram": [
           {
            "bin_start": 0,
            "bin_end": 0.0995656,
            "count": 68
           },
           {
            "bin_start": 0.0995656,
            "bin_end": 0.1991312,
            "count": 1
           },
           {
            "bin_start": 0.1991312,
            "bin_end": 0.2986968,
            "count": 0
           },
           {
            "bin_start": 0.2986968,
            "bin_end": 0.3982624,
            "count": 2
           },
           {
            "bin_start": 0.3982624,
            "bin_end": 0.49782800000000005,
            "count": 1
           },
           {
            "bin_start": 0.49782800000000005,
            "bin_end": 0.5973936,
            "count": 1
           },
           {
            "bin_start": 0.5973936,
            "bin_end": 0.6969592,
            "count": 0
           },
           {
            "bin_start": 0.6969592,
            "bin_end": 0.7965248,
            "count": 0
           },
           {
            "bin_start": 0.7965248,
            "bin_end": 0.8960904000000001,
            "count": 0
           },
           {
            "bin_start": 0.8960904000000001,
            "bin_end": 0.995656,
            "count": 77
           }
          ]
         }
        },
        {
         "name": 10123,
         "dtype": "float64",
         "stats": {
          "unique_count": 98,
          "nan_count": 0,
          "min": "0.0",
          "max": "0.998392",
          "histogram": [
           {
            "bin_start": 0,
            "bin_end": 0.09983919999999999,
            "count": 68
           },
           {
            "bin_start": 0.09983919999999999,
            "bin_end": 0.19967839999999998,
            "count": 1
           },
           {
            "bin_start": 0.19967839999999998,
            "bin_end": 0.29951759999999994,
            "count": 0
           },
           {
            "bin_start": 0.29951759999999994,
            "bin_end": 0.39935679999999996,
            "count": 3
           },
           {
            "bin_start": 0.39935679999999996,
            "bin_end": 0.499196,
            "count": 0
           },
           {
            "bin_start": 0.499196,
            "bin_end": 0.5990351999999999,
            "count": 1
           },
           {
            "bin_start": 0.5990351999999999,
            "bin_end": 0.6988743999999999,
            "count": 0
           },
           {
            "bin_start": 0.6988743999999999,
            "bin_end": 0.7987135999999999,
            "count": 0
           },
           {
            "bin_start": 0.7987135999999999,
            "bin_end": 0.8985527999999999,
            "count": 0
           },
           {
            "bin_start": 0.8985527999999999,
            "bin_end": 0.998392,
            "count": 77
           }
          ]
         }
        },
        {
         "name": 10136,
         "dtype": "float64",
         "stats": {
          "unique_count": 95,
          "nan_count": 0,
          "min": "0.0",
          "max": "0.997188",
          "histogram": [
           {
            "bin_start": 0,
            "bin_end": 0.0997188,
            "count": 68
           },
           {
            "bin_start": 0.0997188,
            "bin_end": 0.1994376,
            "count": 1
           },
           {
            "bin_start": 0.1994376,
            "bin_end": 0.2991564,
            "count": 0
           },
           {
            "bin_start": 0.2991564,
            "bin_end": 0.3988752,
            "count": 3
           },
           {
            "bin_start": 0.3988752,
            "bin_end": 0.498594,
            "count": 0
           },
           {
            "bin_start": 0.498594,
            "bin_end": 0.5983128,
            "count": 1
           },
           {
            "bin_start": 0.5983128,
            "bin_end": 0.6980316,
            "count": 0
           },
           {
            "bin_start": 0.6980316,
            "bin_end": 0.7977504,
            "count": 0
           },
           {
            "bin_start": 0.7977504,
            "bin_end": 0.8974692,
            "count": 0
           },
           {
            "bin_start": 0.8974692,
            "bin_end": 0.997188,
            "count": 77
           }
          ]
         }
        },
        {
         "name": 10152,
         "dtype": "float64",
         "stats": {
          "unique_count": 127,
          "nan_count": 0,
          "min": "0.0",
          "max": "0.999051",
          "histogram": [
           {
            "bin_start": 0,
            "bin_end": 0.0999051,
            "count": 77
           },
           {
            "bin_start": 0.0999051,
            "bin_end": 0.1998102,
            "count": 0
           },
           {
            "bin_start": 0.1998102,
            "bin_end": 0.2997153,
            "count": 0
           },
           {
            "bin_start": 0.2997153,
            "bin_end": 0.3996204,
            "count": 0
           },
           {
            "bin_start": 0.3996204,
            "bin_end": 0.49952549999999996,
            "count": 1
           },
           {
            "bin_start": 0.49952549999999996,
            "bin_end": 0.5994306,
            "count": 0
           },
           {
            "bin_start": 0.5994306,
            "bin_end": 0.6993357,
            "count": 2
           },
           {
            "bin_start": 0.6993357,
            "bin_end": 0.7992408,
            "count": 1
           },
           {
            "bin_start": 0.7992408,
            "bin_end": 0.8991458999999999,
            "count": 1
           },
           {
            "bin_start": 0.8991458999999999,
            "bin_end": 0.999051,
            "count": 68
           }
          ]
         }
        },
        {
         "name": 10181,
         "dtype": "float64",
         "stats": {
          "unique_count": 96,
          "nan_count": 0,
          "min": "0.0",
          "max": "0.994866",
          "histogram": [
           {
            "bin_start": 0,
            "bin_end": 0.09948660000000001,
            "count": 68
           },
           {
            "bin_start": 0.09948660000000001,
            "bin_end": 0.19897320000000002,
            "count": 1
           },
           {
            "bin_start": 0.19897320000000002,
            "bin_end": 0.29845980000000005,
            "count": 0
           },
           {
            "bin_start": 0.29845980000000005,
            "bin_end": 0.39794640000000003,
            "count": 3
           },
           {
            "bin_start": 0.39794640000000003,
            "bin_end": 0.497433,
            "count": 0
           },
           {
            "bin_start": 0.497433,
            "bin_end": 0.5969196000000001,
            "count": 1
           },
           {
            "bin_start": 0.5969196000000001,
            "bin_end": 0.6964062000000001,
            "count": 0
           },
           {
            "bin_start": 0.6964062000000001,
            "bin_end": 0.7958928000000001,
            "count": 0
           },
           {
            "bin_start": 0.7958928000000001,
            "bin_end": 0.8953794,
            "count": 0
           },
           {
            "bin_start": 0.8953794,
            "bin_end": 0.994866,
            "count": 77
           }
          ]
         }
        },
        {
         "name": 10188,
         "dtype": "float64",
         "stats": {
          "unique_count": 120,
          "nan_count": 0,
          "min": "0.0",
          "max": "0.999002",
          "histogram": [
           {
            "bin_start": 0,
            "bin_end": 0.0999002,
            "count": 77
           },
           {
            "bin_start": 0.0999002,
            "bin_end": 0.1998004,
            "count": 0
           },
           {
            "bin_start": 0.1998004,
            "bin_end": 0.2997006,
            "count": 0
           },
           {
            "bin_start": 0.2997006,
            "bin_end": 0.3996008,
            "count": 0
           },
           {
            "bin_start": 0.3996008,
            "bin_end": 0.499501,
            "count": 1
           },
           {
            "bin_start": 0.499501,
            "bin_end": 0.5994012,
            "count": 0
           },
           {
            "bin_start": 0.5994012,
            "bin_end": 0.6993014,
            "count": 2
           },
           {
            "bin_start": 0.6993014,
            "bin_end": 0.7992016,
            "count": 1
           },
           {
            "bin_start": 0.7992016,
            "bin_end": 0.8991018,
            "count": 1
           },
           {
            "bin_start": 0.8991018,
            "bin_end": 0.999002,
            "count": 68
           }
          ]
         }
        },
        {
         "name": 10195,
         "dtype": "float64",
         "stats": {
          "unique_count": 98,
          "nan_count": 0,
          "min": "0.0",
          "max": "0.995058",
          "histogram": [
           {
            "bin_start": 0,
            "bin_end": 0.0995058,
            "count": 68
           },
           {
            "bin_start": 0.0995058,
            "bin_end": 0.1990116,
            "count": 1
           },
           {
            "bin_start": 0.1990116,
            "bin_end": 0.29851740000000004,
            "count": 0
           },
           {
            "bin_start": 0.29851740000000004,
            "bin_end": 0.3980232,
            "count": 3
           },
           {
            "bin_start": 0.3980232,
            "bin_end": 0.497529,
            "count": 0
           },
           {
            "bin_start": 0.497529,
            "bin_end": 0.5970348000000001,
            "count": 1
           },
           {
            "bin_start": 0.5970348000000001,
            "bin_end": 0.6965406000000001,
            "count": 0
           },
           {
            "bin_start": 0.6965406000000001,
            "bin_end": 0.7960464,
            "count": 0
           },
           {
            "bin_start": 0.7960464,
            "bin_end": 0.8955522,
            "count": 0
           },
           {
            "bin_start": 0.8955522,
            "bin_end": 0.995058,
            "count": 77
           }
          ]
         }
        },
        {
         "name": 10203,
         "dtype": "float64",
         "stats": {
          "unique_count": 135,
          "nan_count": 0,
          "min": "0.0",
          "max": "0.992674",
          "histogram": [
           {
            "bin_start": 0,
            "bin_end": 0.09926739999999999,
            "count": 77
           },
           {
            "bin_start": 0.09926739999999999,
            "bin_end": 0.19853479999999998,
            "count": 0
           },
           {
            "bin_start": 0.19853479999999998,
            "bin_end": 0.29780219999999996,
            "count": 0
           },
           {
            "bin_start": 0.29780219999999996,
            "bin_end": 0.39706959999999997,
            "count": 0
           },
           {
            "bin_start": 0.39706959999999997,
            "bin_end": 0.496337,
            "count": 0
           },
           {
            "bin_start": 0.496337,
            "bin_end": 0.5956043999999999,
            "count": 1
           },
           {
            "bin_start": 0.5956043999999999,
            "bin_end": 0.6948717999999999,
            "count": 2
           },
           {
            "bin_start": 0.6948717999999999,
            "bin_end": 0.7941391999999999,
            "count": 1
           },
           {
            "bin_start": 0.7941391999999999,
            "bin_end": 0.8934065999999999,
            "count": 1
           },
           {
            "bin_start": 0.8934065999999999,
            "bin_end": 0.992674,
            "count": 68
           }
          ]
         }
        },
        {
         "name": 10230,
         "dtype": "float64",
         "stats": {
          "unique_count": 108,
          "nan_count": 0,
          "min": "0.0",
          "max": "0.999277",
          "histogram": [
           {
            "bin_start": 0,
            "bin_end": 0.0999277,
            "count": 68
           },
           {
            "bin_start": 0.0999277,
            "bin_end": 0.1998554,
            "count": 1
           },
           {
            "bin_start": 0.1998554,
            "bin_end": 0.29978309999999997,
            "count": 1
           },
           {
            "bin_start": 0.29978309999999997,
            "bin_end": 0.3997108,
            "count": 2
           },
           {
            "bin_start": 0.3997108,
            "bin_end": 0.4996385,
            "count": 1
           },
           {
            "bin_start": 0.4996385,
            "bin_end": 0.5995661999999999,
            "count": 0
           },
           {
            "bin_start": 0.5995661999999999,
            "bin_end": 0.6994939,
            "count": 0
           },
           {
            "bin_start": 0.6994939,
            "bin_end": 0.7994216,
            "count": 0
           },
           {
            "bin_start": 0.7994216,
            "bin_end": 0.8993492999999999,
            "count": 0
           },
           {
            "bin_start": 0.8993492999999999,
            "bin_end": 0.999277,
            "count": 77
           }
          ]
         }
        },
        {
         "name": 10245,
         "dtype": "float64",
         "stats": {
          "unique_count": 98,
          "nan_count": 0,
          "min": "0.0",
          "max": "0.992839",
          "histogram": [
           {
            "bin_start": 0,
            "bin_end": 0.09928390000000001,
            "count": 68
           },
           {
            "bin_start": 0.09928390000000001,
            "bin_end": 0.19856780000000002,
            "count": 1
           },
           {
            "bin_start": 0.19856780000000002,
            "bin_end": 0.29785170000000005,
            "count": 0
           },
           {
            "bin_start": 0.29785170000000005,
            "bin_end": 0.39713560000000003,
            "count": 2
           },
           {
            "bin_start": 0.39713560000000003,
            "bin_end": 0.4964195,
            "count": 1
           },
           {
            "bin_start": 0.4964195,
            "bin_end": 0.5957034000000001,
            "count": 1
           },
           {
            "bin_start": 0.5957034000000001,
            "bin_end": 0.6949873000000001,
            "count": 0
           },
           {
            "bin_start": 0.6949873000000001,
            "bin_end": 0.7942712000000001,
            "count": 0
           },
           {
            "bin_start": 0.7942712000000001,
            "bin_end": 0.8935551,
            "count": 0
           },
           {
            "bin_start": 0.8935551,
            "bin_end": 0.992839,
            "count": 77
           }
          ]
         }
        },
        {
         "name": 10290,
         "dtype": "float64",
         "stats": {
          "unique_count": 124,
          "nan_count": 0,
          "min": "0.0",
          "max": "0.999034",
          "histogram": [
           {
            "bin_start": 0,
            "bin_end": 0.0999034,
            "count": 77
           },
           {
            "bin_start": 0.0999034,
            "bin_end": 0.1998068,
            "count": 0
           },
           {
            "bin_start": 0.1998068,
            "bin_end": 0.29971020000000004,
            "count": 0
           },
           {
            "bin_start": 0.29971020000000004,
            "bin_end": 0.3996136,
            "count": 0
           },
           {
            "bin_start": 0.3996136,
            "bin_end": 0.499517,
            "count": 1
           },
           {
            "bin_start": 0.499517,
            "bin_end": 0.5994204000000001,
            "count": 0
           },
           {
            "bin_start": 0.5994204000000001,
            "bin_end": 0.6993238,
            "count": 2
           },
           {
            "bin_start": 0.6993238,
            "bin_end": 0.7992272,
            "count": 1
           },
           {
            "bin_start": 0.7992272,
            "bin_end": 0.8991306,
            "count": 1
           },
           {
            "bin_start": 0.8991306,
            "bin_end": 0.999034,
            "count": 68
           }
          ]
         }
        },
        {
         "name": 10294,
         "dtype": "float64",
         "stats": {
          "unique_count": 133,
          "nan_count": 0,
          "min": "0.0",
          "max": "0.996737",
          "histogram": [
           {
            "bin_start": 0,
            "bin_end": 0.0996737,
            "count": 68
           },
           {
            "bin_start": 0.0996737,
            "bin_end": 0.1993474,
            "count": 1
           },
           {
            "bin_start": 0.1993474,
            "bin_end": 0.29902110000000004,
            "count": 0
           },
           {
            "bin_start": 0.29902110000000004,
            "bin_end": 0.3986948,
            "count": 3
           },
           {
            "bin_start": 0.3986948,
            "bin_end": 0.4983685,
            "count": 1
           },
           {
            "bin_start": 0.4983685,
            "bin_end": 0.5980422000000001,
            "count": 0
           },
           {
            "bin_start": 0.5980422000000001,
            "bin_end": 0.6977159,
            "count": 0
           },
           {
            "bin_start": 0.6977159,
            "bin_end": 0.7973896,
            "count": 0
           },
           {
            "bin_start": 0.7973896,
            "bin_end": 0.8970633,
            "count": 0
           },
           {
            "bin_start": 0.8970633,
            "bin_end": 0.996737,
            "count": 77
           }
          ]
         }
        },
        {
         "name": 10319,
         "dtype": "float64",
         "stats": {
          "unique_count": 119,
          "nan_count": 0,
          "min": "0.0",
          "max": "0.998633",
          "histogram": [
           {
            "bin_start": 0,
            "bin_end": 0.0998633,
            "count": 77
           },
           {
            "bin_start": 0.0998633,
            "bin_end": 0.1997266,
            "count": 0
           },
           {
            "bin_start": 0.1997266,
            "bin_end": 0.2995899,
            "count": 0
           },
           {
            "bin_start": 0.2995899,
            "bin_end": 0.3994532,
            "count": 0
           },
           {
            "bin_start": 0.3994532,
            "bin_end": 0.4993165,
            "count": 1
           },
           {
            "bin_start": 0.4993165,
            "bin_end": 0.5991798,
            "count": 0
           },
           {
            "bin_start": 0.5991798,
            "bin_end": 0.6990431,
            "count": 3
           },
           {
            "bin_start": 0.6990431,
            "bin_end": 0.7989064,
            "count": 0
           },
           {
            "bin_start": 0.7989064,
            "bin_end": 0.8987697,
            "count": 1
           },
           {
            "bin_start": 0.8987697,
            "bin_end": 0.998633,
            "count": 68
           }
          ]
         }
        },
        {
         "name": 10326,
         "dtype": "float64",
         "stats": {
          "unique_count": 101,
          "nan_count": 0,
          "min": "0.0",
          "max": "1.0",
          "histogram": [
           {
            "bin_start": 0,
            "bin_end": 0.1,
            "count": 77
           },
           {
            "bin_start": 0.1,
            "bin_end": 0.2,
            "count": 0
           },
           {
            "bin_start": 0.2,
            "bin_end": 0.30000000000000004,
            "count": 0
           },
           {
            "bin_start": 0.30000000000000004,
            "bin_end": 0.4,
            "count": 0
           },
           {
            "bin_start": 0.4,
            "bin_end": 0.5,
            "count": 1
           },
           {
            "bin_start": 0.5,
            "bin_end": 0.6000000000000001,
            "count": 0
           },
           {
            "bin_start": 0.6000000000000001,
            "bin_end": 0.7000000000000001,
            "count": 3
           },
           {
            "bin_start": 0.7000000000000001,
            "bin_end": 0.8,
            "count": 0
           },
           {
            "bin_start": 0.8,
            "bin_end": 0.9,
            "count": 1
           },
           {
            "bin_start": 0.9,
            "bin_end": 1,
            "count": 68
           }
          ]
         }
        },
        {
         "name": 10350,
         "dtype": "float64",
         "stats": {
          "unique_count": 119,
          "nan_count": 0,
          "min": "0.0",
          "max": "0.999216",
          "histogram": [
           {
            "bin_start": 0,
            "bin_end": 0.0999216,
            "count": 77
           },
           {
            "bin_start": 0.0999216,
            "bin_end": 0.1998432,
            "count": 0
           },
           {
            "bin_start": 0.1998432,
            "bin_end": 0.2997648,
            "count": 0
           },
           {
            "bin_start": 0.2997648,
            "bin_end": 0.3996864,
            "count": 0
           },
           {
            "bin_start": 0.3996864,
            "bin_end": 0.499608,
            "count": 0
           },
           {
            "bin_start": 0.499608,
            "bin_end": 0.5995296,
            "count": 1
           },
           {
            "bin_start": 0.5995296,
            "bin_end": 0.6994511999999999,
            "count": 2
           },
           {
            "bin_start": 0.6994511999999999,
            "bin_end": 0.7993728,
            "count": 1
           },
           {
            "bin_start": 0.7993728,
            "bin_end": 0.8992944,
            "count": 0
           },
           {
            "bin_start": 0.8992944,
            "bin_end": 0.999216,
            "count": 69
           }
          ]
         }
        },
        {
         "name": 10352,
         "dtype": "float64",
         "stats": {
          "unique_count": 150,
          "nan_count": 0,
          "min": "0.0",
          "max": "0.668203",
          "histogram": [
           {
            "bin_start": 0,
            "bin_end": 0.0668203,
            "count": 1
           },
           {
            "bin_start": 0.0668203,
            "bin_end": 0.1336406,
            "count": 0
           },
           {
            "bin_start": 0.1336406,
            "bin_end": 0.2004609,
            "count": 0
           },
           {
            "bin_start": 0.2004609,
            "bin_end": 0.2672812,
            "count": 0
           },
           {
            "bin_start": 0.2672812,
            "bin_end": 0.3341015,
            "count": 0
           },
           {
            "bin_start": 0.3341015,
            "bin_end": 0.4009218,
            "count": 3
           },
           {
            "bin_start": 0.4009218,
            "bin_end": 0.4677421,
            "count": 25
           },
           {
            "bin_start": 0.4677421,
            "bin_end": 0.5345624,
            "count": 98
           },
           {
            "bin_start": 0.5345624,
            "bin_end": 0.6013827,
            "count": 17
           },
           {
            "bin_start": 0.6013827,
            "bin_end": 0.668203,
            "count": 6
           }
          ]
         }
        },
        {
         "name": 10368,
         "dtype": "float64",
         "stats": {
          "unique_count": 96,
          "nan_count": 0,
          "min": "0.0",
          "max": "0.9965",
          "histogram": [
           {
            "bin_start": 0,
            "bin_end": 0.09965,
            "count": 68
           },
           {
            "bin_start": 0.09965,
            "bin_end": 0.1993,
            "count": 1
           },
           {
            "bin_start": 0.1993,
            "bin_end": 0.29895,
            "count": 0
           },
           {
            "bin_start": 0.29895,
            "bin_end": 0.3986,
            "count": 3
           },
           {
            "bin_start": 0.3986,
            "bin_end": 0.49825,
            "count": 0
           },
           {
            "bin_start": 0.49825,
            "bin_end": 0.5979,
            "count": 1
           },
           {
            "bin_start": 0.5979,
            "bin_end": 0.69755,
            "count": 0
           },
           {
            "bin_start": 0.69755,
            "bin_end": 0.7972,
            "count": 0
           },
           {
            "bin_start": 0.7972,
            "bin_end": 0.89685,
            "count": 0
           },
           {
            "bin_start": 0.89685,
            "bin_end": 0.9965,
            "count": 77
           }
          ]
         }
        },
        {
         "name": 10377,
         "dtype": "float64",
         "stats": {
          "unique_count": 133,
          "nan_count": 0,
          "min": "0.0",
          "max": "0.994778",
          "histogram": [
           {
            "bin_start": 0,
            "bin_end": 0.0994778,
            "count": 77
           },
           {
            "bin_start": 0.0994778,
            "bin_end": 0.1989556,
            "count": 0
           },
           {
            "bin_start": 0.1989556,
            "bin_end": 0.2984334,
            "count": 0
           },
           {
            "bin_start": 0.2984334,
            "bin_end": 0.3979112,
            "count": 0
           },
           {
            "bin_start": 0.3979112,
            "bin_end": 0.497389,
            "count": 1
           },
           {
            "bin_start": 0.497389,
            "bin_end": 0.5968668,
            "count": 0
           },
           {
            "bin_start": 0.5968668,
            "bin_end": 0.6963446,
            "count": 3
           },
           {
            "bin_start": 0.6963446,
            "bin_end": 0.7958224,
            "count": 0
           },
           {
            "bin_start": 0.7958224,
            "bin_end": 0.8953002000000001,
            "count": 1
           },
           {
            "bin_start": 0.8953002000000001,
            "bin_end": 0.994778,
            "count": 68
           }
          ]
         }
        },
        {
         "name": 10387,
         "dtype": "float64",
         "stats": {
          "unique_count": 135,
          "nan_count": 0,
          "min": "0.0",
          "max": "0.99681",
          "histogram": [
           {
            "bin_start": 0,
            "bin_end": 0.09968099999999999,
            "count": 77
           },
           {
            "bin_start": 0.09968099999999999,
            "bin_end": 0.19936199999999998,
            "count": 0
           },
           {
            "bin_start": 0.19936199999999998,
            "bin_end": 0.29904299999999995,
            "count": 0
           },
           {
            "bin_start": 0.29904299999999995,
            "bin_end": 0.39872399999999997,
            "count": 0
           },
           {
            "bin_start": 0.39872399999999997,
            "bin_end": 0.498405,
            "count": 0
           },
           {
            "bin_start": 0.498405,
            "bin_end": 0.5980859999999999,
            "count": 1
           },
           {
            "bin_start": 0.5980859999999999,
            "bin_end": 0.6977669999999999,
            "count": 2
           },
           {
            "bin_start": 0.6977669999999999,
            "bin_end": 0.7974479999999999,
            "count": 1
           },
           {
            "bin_start": 0.7974479999999999,
            "bin_end": 0.897129,
            "count": 1
           },
           {
            "bin_start": 0.897129,
            "bin_end": 0.99681,
            "count": 68
           }
          ]
         }
        },
        {
         "name": 10416,
         "dtype": "float64",
         "stats": {
          "unique_count": 120,
          "nan_count": 0,
          "min": "0.0",
          "max": "0.997639",
          "histogram": [
           {
            "bin_start": 0,
            "bin_end": 0.0997639,
            "count": 77
           },
           {
            "bin_start": 0.0997639,
            "bin_end": 0.1995278,
            "count": 0
           },
           {
            "bin_start": 0.1995278,
            "bin_end": 0.2992917,
            "count": 0
           },
           {
            "bin_start": 0.2992917,
            "bin_end": 0.3990556,
            "count": 0
           },
           {
            "bin_start": 0.3990556,
            "bin_end": 0.4988195,
            "count": 1
           },
           {
            "bin_start": 0.4988195,
            "bin_end": 0.5985834,
            "count": 0
           },
           {
            "bin_start": 0.5985834,
            "bin_end": 0.6983473,
            "count": 3
           },
           {
            "bin_start": 0.6983473,
            "bin_end": 0.7981112,
            "count": 0
           },
           {
            "bin_start": 0.7981112,
            "bin_end": 0.8978751,
            "count": 1
           },
           {
            "bin_start": 0.8978751,
            "bin_end": 0.997639,
            "count": 68
           }
          ]
         }
        },
        {
         "name": 10418,
         "dtype": "float64",
         "stats": {
          "unique_count": 98,
          "nan_count": 0,
          "min": "0.0",
          "max": "0.995101",
          "histogram": [
           {
            "bin_start": 0,
            "bin_end": 0.0995101,
            "count": 68
           },
           {
            "bin_start": 0.0995101,
            "bin_end": 0.1990202,
            "count": 1
           },
           {
            "bin_start": 0.1990202,
            "bin_end": 0.2985303,
            "count": 0
           },
           {
            "bin_start": 0.2985303,
            "bin_end": 0.3980404,
            "count": 3
           },
           {
            "bin_start": 0.3980404,
            "bin_end": 0.4975505,
            "count": 0
           },
           {
            "bin_start": 0.4975505,
            "bin_end": 0.5970606,
            "count": 1
           },
           {
            "bin_start": 0.5970606,
            "bin_end": 0.6965707,
            "count": 0
           },
           {
            "bin_start": 0.6965707,
            "bin_end": 0.7960808,
            "count": 0
           },
           {
            "bin_start": 0.7960808,
            "bin_end": 0.8955909000000001,
            "count": 0
           },
           {
            "bin_start": 0.8955909000000001,
            "bin_end": 0.995101,
            "count": 77
           }
          ]
         }
        },
        {
         "name": 10468,
         "dtype": "float64",
         "stats": {
          "unique_count": 120,
          "nan_count": 0,
          "min": "0.0",
          "max": "0.997836",
          "histogram": [
           {
            "bin_start": 0,
            "bin_end": 0.0997836,
            "count": 77
           },
           {
            "bin_start": 0.0997836,
            "bin_end": 0.1995672,
            "count": 0
           },
           {
            "bin_start": 0.1995672,
            "bin_end": 0.29935080000000003,
            "count": 0
           },
           {
            "bin_start": 0.29935080000000003,
            "bin_end": 0.3991344,
            "count": 0
           },
           {
            "bin_start": 0.3991344,
            "bin_end": 0.498918,
            "count": 1
           },
           {
            "bin_start": 0.498918,
            "bin_end": 0.5987016000000001,
            "count": 0
           },
           {
            "bin_start": 0.5987016000000001,
            "bin_end": 0.6984852,
            "count": 3
           },
           {
            "bin_start": 0.6984852,
            "bin_end": 0.7982688,
            "count": 0
           },
           {
            "bin_start": 0.7982688,
            "bin_end": 0.8980524,
            "count": 1
           },
           {
            "bin_start": 0.8980524,
            "bin_end": 0.997836,
            "count": 68
           }
          ]
         }
        },
        {
         "name": 10485,
         "dtype": "float64",
         "stats": {
          "unique_count": 98,
          "nan_count": 0,
          "min": "0.0",
          "max": "0.99603",
          "histogram": [
           {
            "bin_start": 0,
            "bin_end": 0.099603,
            "count": 68
           },
           {
            "bin_start": 0.099603,
            "bin_end": 0.199206,
            "count": 1
           },
           {
            "bin_start": 0.199206,
            "bin_end": 0.298809,
            "count": 0
           },
           {
            "bin_start": 0.298809,
            "bin_end": 0.398412,
            "count": 2
           },
           {
            "bin_start": 0.398412,
            "bin_end": 0.498015,
            "count": 1
           },
           {
            "bin_start": 0.498015,
            "bin_end": 0.597618,
            "count": 1
           },
           {
            "bin_start": 0.597618,
            "bin_end": 0.697221,
            "count": 0
           },
           {
            "bin_start": 0.697221,
            "bin_end": 0.796824,
            "count": 0
           },
           {
            "bin_start": 0.796824,
            "bin_end": 0.896427,
            "count": 0
           },
           {
            "bin_start": 0.896427,
            "bin_end": 0.99603,
            "count": 77
           }
          ]
         }
        },
        {
         "name": 10496,
         "dtype": "float64",
         "stats": {
          "unique_count": 92,
          "nan_count": 0,
          "min": "0.0",
          "max": "0.997146",
          "histogram": [
           {
            "bin_start": 0,
            "bin_end": 0.0997146,
            "count": 68
           },
           {
            "bin_start": 0.0997146,
            "bin_end": 0.1994292,
            "count": 1
           },
           {
            "bin_start": 0.1994292,
            "bin_end": 0.2991438,
            "count": 2
           },
           {
            "bin_start": 0.2991438,
            "bin_end": 0.3988584,
            "count": 1
           },
           {
            "bin_start": 0.3988584,
            "bin_end": 0.498573,
            "count": 1
           },
           {
            "bin_start": 0.498573,
            "bin_end": 0.5982876,
            "count": 0
           },
           {
            "bin_start": 0.5982876,
            "bin_end": 0.6980022,
            "count": 0
           },
           {
            "bin_start": 0.6980022,
            "bin_end": 0.7977168,
            "count": 0
           },
           {
            "bin_start": 0.7977168,
            "bin_end": 0.8974314,
            "count": 0
           },
           {
            "bin_start": 0.8974314,
            "bin_end": 0.997146,
            "count": 77
           }
          ]
         }
        },
        {
         "name": 10503,
         "dtype": "float64",
         "stats": {
          "unique_count": 108,
          "nan_count": 0,
          "min": "0.0",
          "max": "0.997818",
          "histogram": [
           {
            "bin_start": 0,
            "bin_end": 0.0997818,
            "count": 68
           },
           {
            "bin_start": 0.0997818,
            "bin_end": 0.1995636,
            "count": 1
           },
           {
            "bin_start": 0.1995636,
            "bin_end": 0.2993454,
            "count": 0
           },
           {
            "bin_start": 0.2993454,
            "bin_end": 0.3991272,
            "count": 3
           },
           {
            "bin_start": 0.3991272,
            "bin_end": 0.49890900000000005,
            "count": 0
           },
           {
            "bin_start": 0.49890900000000005,
            "bin_end": 0.5986908,
            "count": 1
           },
           {
            "bin_start": 0.5986908,
            "bin_end": 0.6984726,
            "count": 0
           },
           {
            "bin_start": 0.6984726,
            "bin_end": 0.7982544,
            "count": 0
           },
           {
            "bin_start": 0.7982544,
            "bin_end": 0.8980362000000001,
            "count": 0
           },
           {
            "bin_start": 0.8980362000000001,
            "bin_end": 0.997818,
            "count": 77
           }
          ]
         }
        },
        {
         "name": 10512,
         "dtype": "float64",
         "stats": {
          "unique_count": 98,
          "nan_count": 0,
          "min": "0.0",
          "max": "0.996073",
          "histogram": [
           {
            "bin_start": 0,
            "bin_end": 0.0996073,
            "count": 68
           },
           {
            "bin_start": 0.0996073,
            "bin_end": 0.1992146,
            "count": 1
           },
           {
            "bin_start": 0.1992146,
            "bin_end": 0.2988219,
            "count": 0
           },
           {
            "bin_start": 0.2988219,
            "bin_end": 0.3984292,
            "count": 2
           },
           {
            "bin_start": 0.3984292,
            "bin_end": 0.4980365,
            "count": 1
           },
           {
            "bin_start": 0.4980365,
            "bin_end": 0.5976438,
            "count": 1
           },
           {
            "bin_start": 0.5976438,
            "bin_end": 0.6972511,
            "count": 0
           },
           {
            "bin_start": 0.6972511,
            "bin_end": 0.7968584,
            "count": 0
           },
           {
            "bin_start": 0.7968584,
            "bin_end": 0.8964656999999999,
            "count": 0
           },
           {
            "bin_start": 0.8964656999999999,
            "bin_end": 0.996073,
            "count": 77
           }
          ]
         }
        },
        {
         "name": 10513,
         "dtype": "float64",
         "stats": {
          "unique_count": 98,
          "nan_count": 0,
          "min": "0.0",
          "max": "0.999034",
          "histogram": [
           {
            "bin_start": 0,
            "bin_end": 0.0999034,
            "count": 68
           },
           {
            "bin_start": 0.0999034,
            "bin_end": 0.1998068,
            "count": 1
           },
           {
            "bin_start": 0.1998068,
            "bin_end": 0.29971020000000004,
            "count": 0
           },
           {
            "bin_start": 0.29971020000000004,
            "bin_end": 0.3996136,
            "count": 3
           },
           {
            "bin_start": 0.3996136,
            "bin_end": 0.499517,
            "count": 0
           },
           {
            "bin_start": 0.499517,
            "bin_end": 0.5994204000000001,
            "count": 1
           },
           {
            "bin_start": 0.5994204000000001,
            "bin_end": 0.6993238,
            "count": 0
           },
           {
            "bin_start": 0.6993238,
            "bin_end": 0.7992272,
            "count": 0
           },
           {
            "bin_start": 0.7992272,
            "bin_end": 0.8991306,
            "count": 0
           },
           {
            "bin_start": 0.8991306,
            "bin_end": 0.999034,
            "count": 77
           }
          ]
         }
        },
        {
         "name": 10529,
         "dtype": "float64",
         "stats": {
          "unique_count": 120,
          "nan_count": 0,
          "min": "0.0",
          "max": "0.998122",
          "histogram": [
           {
            "bin_start": 0,
            "bin_end": 0.09981219999999999,
            "count": 77
           },
           {
            "bin_start": 0.09981219999999999,
            "bin_end": 0.19962439999999998,
            "count": 0
           },
           {
            "bin_start": 0.19962439999999998,
            "bin_end": 0.29943659999999994,
            "count": 0
           },
           {
            "bin_start": 0.29943659999999994,
            "bin_end": 0.39924879999999996,
            "count": 0
           },
           {
            "bin_start": 0.39924879999999996,
            "bin_end": 0.499061,
            "count": 1
           },
           {
            "bin_start": 0.499061,
            "bin_end": 0.5988731999999999,
            "count": 0
           },
           {
            "bin_start": 0.5988731999999999,
            "bin_end": 0.6986853999999999,
            "count": 2
           },
           {
            "bin_start": 0.6986853999999999,
            "bin_end": 0.7984975999999999,
            "count": 1
           },
           {
            "bin_start": 0.7984975999999999,
            "bin_end": 0.8983097999999999,
            "count": 1
           },
           {
            "bin_start": 0.8983097999999999,
            "bin_end": 0.998122,
            "count": 68
           }
          ]
         }
        },
        {
         "name": 10543,
         "dtype": "float64",
         "stats": {
          "unique_count": 98,
          "nan_count": 0,
          "min": "0.0",
          "max": "0.996441",
          "histogram": [
           {
            "bin_start": 0,
            "bin_end": 0.0996441,
            "count": 68
           },
           {
            "bin_start": 0.0996441,
            "bin_end": 0.1992882,
            "count": 1
           },
           {
            "bin_start": 0.1992882,
            "bin_end": 0.2989323,
            "count": 0
           },
           {
            "bin_start": 0.2989323,
            "bin_end": 0.3985764,
            "count": 3
           },
           {
            "bin_start": 0.3985764,
            "bin_end": 0.4982205,
            "count": 0
           },
           {
            "bin_start": 0.4982205,
            "bin_end": 0.5978646,
            "count": 1
           },
           {
            "bin_start": 0.5978646,
            "bin_end": 0.6975087,
            "count": 0
           },
           {
            "bin_start": 0.6975087,
            "bin_end": 0.7971528,
            "count": 0
           },
           {
            "bin_start": 0.7971528,
            "bin_end": 0.8967969,
            "count": 0
           },
           {
            "bin_start": 0.8967969,
            "bin_end": 0.996441,
            "count": 77
           }
          ]
         }
        },
        {
         "name": 10545,
         "dtype": "float64",
         "stats": {
          "unique_count": 117,
          "nan_count": 0,
          "min": "0.0",
          "max": "0.998609",
          "histogram": [
           {
            "bin_start": 0,
            "bin_end": 0.0998609,
            "count": 77
           },
           {
            "bin_start": 0.0998609,
            "bin_end": 0.1997218,
            "count": 0
           },
           {
            "bin_start": 0.1997218,
            "bin_end": 0.2995827,
            "count": 0
           },
           {
            "bin_start": 0.2995827,
            "bin_end": 0.3994436,
            "count": 0
           },
           {
            "bin_start": 0.3994436,
            "bin_end": 0.49930450000000004,
            "count": 1
           },
           {
            "bin_start": 0.49930450000000004,
            "bin_end": 0.5991654,
            "count": 0
           },
           {
            "bin_start": 0.5991654,
            "bin_end": 0.6990263,
            "count": 3
           },
           {
            "bin_start": 0.6990263,
            "bin_end": 0.7988872,
            "count": 0
           },
           {
            "bin_start": 0.7988872,
            "bin_end": 0.8987481,
            "count": 1
           },
           {
            "bin_start": 0.8987481,
            "bin_end": 0.998609,
            "count": 68
           }
          ]
         }
        },
        {
         "name": 10580,
         "dtype": "float64",
         "stats": {
          "unique_count": 94,
          "nan_count": 0,
          "min": "0.0",
          "max": "1.0",
          "histogram": [
           {
            "bin_start": 0,
            "bin_end": 0.1,
            "count": 68
           },
           {
            "bin_start": 0.1,
            "bin_end": 0.2,
            "count": 1
           },
           {
            "bin_start": 0.2,
            "bin_end": 0.30000000000000004,
            "count": 1
           },
           {
            "bin_start": 0.30000000000000004,
            "bin_end": 0.4,
            "count": 2
           },
           {
            "bin_start": 0.4,
            "bin_end": 0.5,
            "count": 0
           },
           {
            "bin_start": 0.5,
            "bin_end": 0.6000000000000001,
            "count": 1
           },
           {
            "bin_start": 0.6000000000000001,
            "bin_end": 0.7000000000000001,
            "count": 0
           },
           {
            "bin_start": 0.7000000000000001,
            "bin_end": 0.8,
            "count": 0
           },
           {
            "bin_start": 0.8,
            "bin_end": 0.9,
            "count": 0
           },
           {
            "bin_start": 0.9,
            "bin_end": 1,
            "count": 77
           }
          ]
         }
        },
        {
         "name": 10592,
         "dtype": "float64",
         "stats": {
          "unique_count": 124,
          "nan_count": 0,
          "min": "0.0",
          "max": "1.0",
          "histogram": [
           {
            "bin_start": 0,
            "bin_end": 0.1,
            "count": 73
           },
           {
            "bin_start": 0.1,
            "bin_end": 0.2,
            "count": 3
           },
           {
            "bin_start": 0.2,
            "bin_end": 0.30000000000000004,
            "count": 0
           },
           {
            "bin_start": 0.30000000000000004,
            "bin_end": 0.4,
            "count": 1
           },
           {
            "bin_start": 0.4,
            "bin_end": 0.5,
            "count": 0
           },
           {
            "bin_start": 0.5,
            "bin_end": 0.6000000000000001,
            "count": 1
           },
           {
            "bin_start": 0.6000000000000001,
            "bin_end": 0.7000000000000001,
            "count": 0
           },
           {
            "bin_start": 0.7000000000000001,
            "bin_end": 0.8,
            "count": 0
           },
           {
            "bin_start": 0.8,
            "bin_end": 0.9,
            "count": 18
           },
           {
            "bin_start": 0.9,
            "bin_end": 1,
            "count": 54
           }
          ]
         }
        },
        {
         "name": 10599,
         "dtype": "float64",
         "stats": {
          "unique_count": 98,
          "nan_count": 0,
          "min": "0.0",
          "max": "0.99883",
          "histogram": [
           {
            "bin_start": 0,
            "bin_end": 0.099883,
            "count": 68
           },
           {
            "bin_start": 0.099883,
            "bin_end": 0.199766,
            "count": 1
           },
           {
            "bin_start": 0.199766,
            "bin_end": 0.299649,
            "count": 1
           },
           {
            "bin_start": 0.299649,
            "bin_end": 0.399532,
            "count": 2
           },
           {
            "bin_start": 0.399532,
            "bin_end": 0.499415,
            "count": 0
           },
           {
            "bin_start": 0.499415,
            "bin_end": 0.599298,
            "count": 1
           },
           {
            "bin_start": 0.599298,
            "bin_end": 0.699181,
            "count": 0
           },
           {
            "bin_start": 0.699181,
            "bin_end": 0.799064,
            "count": 0
           },
           {
            "bin_start": 0.799064,
            "bin_end": 0.8989469999999999,
            "count": 0
           },
           {
            "bin_start": 0.8989469999999999,
            "bin_end": 0.99883,
            "count": 77
           }
          ]
         }
        },
        {
         "name": 10649,
         "dtype": "float64",
         "stats": {
          "unique_count": 107,
          "nan_count": 0,
          "min": "0.0",
          "max": "0.996146",
          "histogram": [
           {
            "bin_start": 0,
            "bin_end": 0.0996146,
            "count": 68
           },
           {
            "bin_start": 0.0996146,
            "bin_end": 0.1992292,
            "count": 1
           },
           {
            "bin_start": 0.1992292,
            "bin_end": 0.2988438,
            "count": 0
           },
           {
            "bin_start": 0.2988438,
            "bin_end": 0.3984584,
            "count": 2
           },
           {
            "bin_start": 0.3984584,
            "bin_end": 0.498073,
            "count": 1
           },
           {
            "bin_start": 0.498073,
            "bin_end": 0.5976876,
            "count": 1
           },
           {
            "bin_start": 0.5976876,
            "bin_end": 0.6973022,
            "count": 0
           },
           {
            "bin_start": 0.6973022,
            "bin_end": 0.7969168,
            "count": 0
           },
           {
            "bin_start": 0.7969168,
            "bin_end": 0.8965314,
            "count": 0
           },
           {
            "bin_start": 0.8965314,
            "bin_end": 0.996146,
            "count": 77
           }
          ]
         }
        },
        {
         "name": 10651,
         "dtype": "float64",
         "stats": {
          "unique_count": 119,
          "nan_count": 0,
          "min": "0.0",
          "max": "0.997323",
          "histogram": [
           {
            "bin_start": 0,
            "bin_end": 0.0997323,
            "count": 77
           },
           {
            "bin_start": 0.0997323,
            "bin_end": 0.1994646,
            "count": 0
           },
           {
            "bin_start": 0.1994646,
            "bin_end": 0.2991969,
            "count": 0
           },
           {
            "bin_start": 0.2991969,
            "bin_end": 0.3989292,
            "count": 0
           },
           {
            "bin_start": 0.3989292,
            "bin_end": 0.4986615,
            "count": 0
           },
           {
            "bin_start": 0.4986615,
            "bin_end": 0.5983938,
            "count": 1
           },
           {
            "bin_start": 0.5983938,
            "bin_end": 0.6981261,
            "count": 1
           },
           {
            "bin_start": 0.6981261,
            "bin_end": 0.7978584,
            "count": 2
           },
           {
            "bin_start": 0.7978584,
            "bin_end": 0.8975907,
            "count": 1
           },
           {
            "bin_start": 0.8975907,
            "bin_end": 0.997323,
            "count": 68
           }
          ]
         }
        },
        {
         "name": 10679,
         "dtype": "float64",
         "stats": {
          "unique_count": 128,
          "nan_count": 0,
          "min": "0.0",
          "max": "0.998232",
          "histogram": [
           {
            "bin_start": 0,
            "bin_end": 0.0998232,
            "count": 77
           },
           {
            "bin_start": 0.0998232,
            "bin_end": 0.1996464,
            "count": 0
           },
           {
            "bin_start": 0.1996464,
            "bin_end": 0.2994696,
            "count": 0
           },
           {
            "bin_start": 0.2994696,
            "bin_end": 0.3992928,
            "count": 0
           },
           {
            "bin_start": 0.3992928,
            "bin_end": 0.499116,
            "count": 0
           },
           {
            "bin_start": 0.499116,
            "bin_end": 0.5989392,
            "count": 1
           },
           {
            "bin_start": 0.5989392,
            "bin_end": 0.6987624,
            "count": 3
           },
           {
            "bin_start": 0.6987624,
            "bin_end": 0.7985856,
            "count": 0
           },
           {
            "bin_start": 0.7985856,
            "bin_end": 0.8984088,
            "count": 0
           },
           {
            "bin_start": 0.8984088,
            "bin_end": 0.998232,
            "count": 69
           }
          ]
         }
        },
        {
         "name": 10695,
         "dtype": "float64",
         "stats": {
          "unique_count": 134,
          "nan_count": 0,
          "min": "0.0",
          "max": "0.997234",
          "histogram": [
           {
            "bin_start": 0,
            "bin_end": 0.09972339999999999,
            "count": 68
           },
           {
            "bin_start": 0.09972339999999999,
            "bin_end": 0.19944679999999998,
            "count": 1
           },
           {
            "bin_start": 0.19944679999999998,
            "bin_end": 0.29917019999999994,
            "count": 0
           },
           {
            "bin_start": 0.29917019999999994,
            "bin_end": 0.39889359999999996,
            "count": 3
           },
           {
            "bin_start": 0.39889359999999996,
            "bin_end": 0.498617,
            "count": 0
           },
           {
            "bin_start": 0.498617,
            "bin_end": 0.5983403999999999,
            "count": 1
           },
           {
            "bin_start": 0.5983403999999999,
            "bin_end": 0.6980637999999999,
            "count": 0
           },
           {
            "bin_start": 0.6980637999999999,
            "bin_end": 0.7977871999999999,
            "count": 0
           },
           {
            "bin_start": 0.7977871999999999,
            "bin_end": 0.8975105999999999,
            "count": 0
           },
           {
            "bin_start": 0.8975105999999999,
            "bin_end": 0.997234,
            "count": 77
           }
          ]
         }
        },
        {
         "name": 10703,
         "dtype": "float64",
         "stats": {
          "unique_count": 136,
          "nan_count": 0,
          "min": "0.0",
          "max": "0.996894",
          "histogram": [
           {
            "bin_start": 0,
            "bin_end": 0.0996894,
            "count": 77
           },
           {
            "bin_start": 0.0996894,
            "bin_end": 0.1993788,
            "count": 0
           },
           {
            "bin_start": 0.1993788,
            "bin_end": 0.2990682,
            "count": 0
           },
           {
            "bin_start": 0.2990682,
            "bin_end": 0.3987576,
            "count": 0
           },
           {
            "bin_start": 0.3987576,
            "bin_end": 0.498447,
            "count": 1
           },
           {
            "bin_start": 0.498447,
            "bin_end": 0.5981364,
            "count": 0
           },
           {
            "bin_start": 0.5981364,
            "bin_end": 0.6978257999999999,
            "count": 2
           },
           {
            "bin_start": 0.6978257999999999,
            "bin_end": 0.7975152,
            "count": 1
           },
           {
            "bin_start": 0.7975152,
            "bin_end": 0.8972046,
            "count": 1
           },
           {
            "bin_start": 0.8972046,
            "bin_end": 0.996894,
            "count": 68
           }
          ]
         }
        },
        {
         "name": 10723,
         "dtype": "float64",
         "stats": {
          "unique_count": 136,
          "nan_count": 0,
          "min": "0.0",
          "max": "0.99654",
          "histogram": [
           {
            "bin_start": 0,
            "bin_end": 0.09965399999999999,
            "count": 77
           },
           {
            "bin_start": 0.09965399999999999,
            "bin_end": 0.19930799999999999,
            "count": 0
           },
           {
            "bin_start": 0.19930799999999999,
            "bin_end": 0.29896199999999995,
            "count": 0
           },
           {
            "bin_start": 0.29896199999999995,
            "bin_end": 0.39861599999999997,
            "count": 0
           },
           {
            "bin_start": 0.39861599999999997,
            "bin_end": 0.49827,
            "count": 1
           },
           {
            "bin_start": 0.49827,
            "bin_end": 0.5979239999999999,
            "count": 0
           },
           {
            "bin_start": 0.5979239999999999,
            "bin_end": 0.6975779999999999,
            "count": 2
           },
           {
            "bin_start": 0.6975779999999999,
            "bin_end": 0.7972319999999999,
            "count": 1
           },
           {
            "bin_start": 0.7972319999999999,
            "bin_end": 0.896886,
            "count": 1
           },
           {
            "bin_start": 0.896886,
            "bin_end": 0.99654,
            "count": 68
           }
          ]
         }
        },
        {
         "name": 10725,
         "dtype": "float64",
         "stats": {
          "unique_count": 115,
          "nan_count": 0,
          "min": "0.0",
          "max": "0.997708",
          "histogram": [
           {
            "bin_start": 0,
            "bin_end": 0.0997708,
            "count": 77
           },
           {
            "bin_start": 0.0997708,
            "bin_end": 0.1995416,
            "count": 0
           },
           {
            "bin_start": 0.1995416,
            "bin_end": 0.29931240000000003,
            "count": 0
           },
           {
            "bin_start": 0.29931240000000003,
            "bin_end": 0.3990832,
            "count": 0
           },
           {
            "bin_start": 0.3990832,
            "bin_end": 0.498854,
            "count": 1
           },
           {
            "bin_start": 0.498854,
            "bin_end": 0.5986248000000001,
            "count": 0
           },
           {
            "bin_start": 0.5986248000000001,
            "bin_end": 0.6983956,
            "count": 2
           },
           {
            "bin_start": 0.6983956,
            "bin_end": 0.7981664,
            "count": 1
           },
           {
            "bin_start": 0.7981664,
            "bin_end": 0.8979372000000001,
            "count": 1
           },
           {
            "bin_start": 0.8979372000000001,
            "bin_end": 0.997708,
            "count": 68
           }
          ]
         }
        },
        {
         "name": 10726,
         "dtype": "float64",
         "stats": {
          "unique_count": 146,
          "nan_count": 0,
          "min": "0.0",
          "max": "0.997996",
          "histogram": [
           {
            "bin_start": 0,
            "bin_end": 0.0997996,
            "count": 77
           },
           {
            "bin_start": 0.0997996,
            "bin_end": 0.1995992,
            "count": 0
           },
           {
            "bin_start": 0.1995992,
            "bin_end": 0.2993988,
            "count": 0
           },
           {
            "bin_start": 0.2993988,
            "bin_end": 0.3991984,
            "count": 0
           },
           {
            "bin_start": 0.3991984,
            "bin_end": 0.498998,
            "count": 1
           },
           {
            "bin_start": 0.498998,
            "bin_end": 0.5987976,
            "count": 0
           },
           {
            "bin_start": 0.5987976,
            "bin_end": 0.6985972,
            "count": 3
           },
           {
            "bin_start": 0.6985972,
            "bin_end": 0.7983968,
            "count": 0
           },
           {
            "bin_start": 0.7983968,
            "bin_end": 0.8981964,
            "count": 1
           },
           {
            "bin_start": 0.8981964,
            "bin_end": 0.997996,
            "count": 68
           }
          ]
         }
        },
        {
         "name": 10727,
         "dtype": "float64",
         "stats": {
          "unique_count": 149,
          "nan_count": 0,
          "min": "0.0",
          "max": "0.971193",
          "histogram": [
           {
            "bin_start": 0,
            "bin_end": 0.09711929999999999,
            "count": 24
           },
           {
            "bin_start": 0.09711929999999999,
            "bin_end": 0.19423859999999998,
            "count": 45
           },
           {
            "bin_start": 0.19423859999999998,
            "bin_end": 0.29135789999999995,
            "count": 3
           },
           {
            "bin_start": 0.29135789999999995,
            "bin_end": 0.38847719999999997,
            "count": 0
           },
           {
            "bin_start": 0.38847719999999997,
            "bin_end": 0.4855965,
            "count": 1
           },
           {
            "bin_start": 0.4855965,
            "bin_end": 0.5827157999999999,
            "count": 0
           },
           {
            "bin_start": 0.5827157999999999,
            "bin_end": 0.6798350999999999,
            "count": 0
           },
           {
            "bin_start": 0.6798350999999999,
            "bin_end": 0.7769543999999999,
            "count": 0
           },
           {
            "bin_start": 0.7769543999999999,
            "bin_end": 0.8740737,
            "count": 2
           },
           {
            "bin_start": 0.8740737,
            "bin_end": 0.971193,
            "count": 75
           }
          ]
         }
        },
        {
         "name": 10728,
         "dtype": "float64",
         "stats": {
          "unique_count": 138,
          "nan_count": 0,
          "min": "0.0",
          "max": "0.99817",
          "histogram": [
           {
            "bin_start": 0,
            "bin_end": 0.099817,
            "count": 77
           },
           {
            "bin_start": 0.099817,
            "bin_end": 0.199634,
            "count": 0
           },
           {
            "bin_start": 0.199634,
            "bin_end": 0.299451,
            "count": 0
           },
           {
            "bin_start": 0.299451,
            "bin_end": 0.399268,
            "count": 0
           },
           {
            "bin_start": 0.399268,
            "bin_end": 0.499085,
            "count": 1
           },
           {
            "bin_start": 0.499085,
            "bin_end": 0.598902,
            "count": 0
           },
           {
            "bin_start": 0.598902,
            "bin_end": 0.698719,
            "count": 1
           },
           {
            "bin_start": 0.698719,
            "bin_end": 0.798536,
            "count": 2
           },
           {
            "bin_start": 0.798536,
            "bin_end": 0.8983530000000001,
            "count": 1
           },
           {
            "bin_start": 0.8983530000000001,
            "bin_end": 0.99817,
            "count": 68
           }
          ]
         }
        },
        {
         "name": 10729,
         "dtype": "float64",
         "stats": {
          "unique_count": 121,
          "nan_count": 0,
          "min": "0.0",
          "max": "0.997935",
          "histogram": [
           {
            "bin_start": 0,
            "bin_end": 0.09979350000000001,
            "count": 77
           },
           {
            "bin_start": 0.09979350000000001,
            "bin_end": 0.19958700000000001,
            "count": 0
           },
           {
            "bin_start": 0.19958700000000001,
            "bin_end": 0.29938050000000005,
            "count": 0
           },
           {
            "bin_start": 0.29938050000000005,
            "bin_end": 0.39917400000000003,
            "count": 0
           },
           {
            "bin_start": 0.39917400000000003,
            "bin_end": 0.4989675,
            "count": 1
           },
           {
            "bin_start": 0.4989675,
            "bin_end": 0.5987610000000001,
            "count": 0
           },
           {
            "bin_start": 0.5987610000000001,
            "bin_end": 0.6985545000000001,
            "count": 2
           },
           {
            "bin_start": 0.6985545000000001,
            "bin_end": 0.7983480000000001,
            "count": 1
           },
           {
            "bin_start": 0.7983480000000001,
            "bin_end": 0.8981415,
            "count": 1
           },
           {
            "bin_start": 0.8981415,
            "bin_end": 0.997935,
            "count": 68
           }
          ]
         }
        },
        {
         "name": 10730,
         "dtype": "float64",
         "stats": {
          "unique_count": 137,
          "nan_count": 0,
          "min": "0.0",
          "max": "0.997859",
          "histogram": [
           {
            "bin_start": 0,
            "bin_end": 0.09978590000000001,
            "count": 77
           },
           {
            "bin_start": 0.09978590000000001,
            "bin_end": 0.19957180000000002,
            "count": 0
           },
           {
            "bin_start": 0.19957180000000002,
            "bin_end": 0.29935770000000006,
            "count": 0
           },
           {
            "bin_start": 0.29935770000000006,
            "bin_end": 0.39914360000000004,
            "count": 0
           },
           {
            "bin_start": 0.39914360000000004,
            "bin_end": 0.4989295,
            "count": 1
           },
           {
            "bin_start": 0.4989295,
            "bin_end": 0.5987154000000001,
            "count": 0
           },
           {
            "bin_start": 0.5987154000000001,
            "bin_end": 0.6985013000000001,
            "count": 2
           },
           {
            "bin_start": 0.6985013000000001,
            "bin_end": 0.7982872000000001,
            "count": 1
           },
           {
            "bin_start": 0.7982872000000001,
            "bin_end": 0.8980731000000001,
            "count": 1
           },
           {
            "bin_start": 0.8980731000000001,
            "bin_end": 0.997859,
            "count": 68
           }
          ]
         }
        },
        {
         "name": 10733,
         "dtype": "float64",
         "stats": {
          "unique_count": 87,
          "nan_count": 0,
          "min": "0.0",
          "max": "0.99759",
          "histogram": [
           {
            "bin_start": 0,
            "bin_end": 0.099759,
            "count": 68
           },
           {
            "bin_start": 0.099759,
            "bin_end": 0.199518,
            "count": 1
           },
           {
            "bin_start": 0.199518,
            "bin_end": 0.299277,
            "count": 1
           },
           {
            "bin_start": 0.299277,
            "bin_end": 0.399036,
            "count": 2
           },
           {
            "bin_start": 0.399036,
            "bin_end": 0.498795,
            "count": 0
           },
           {
            "bin_start": 0.498795,
            "bin_end": 0.598554,
            "count": 1
           },
           {
            "bin_start": 0.598554,
            "bin_end": 0.698313,
            "count": 0
           },
           {
            "bin_start": 0.698313,
            "bin_end": 0.798072,
            "count": 0
           },
           {
            "bin_start": 0.798072,
            "bin_end": 0.897831,
            "count": 0
           },
           {
            "bin_start": 0.897831,
            "bin_end": 0.99759,
            "count": 77
           }
          ]
         }
        },
        {
         "name": 10734,
         "dtype": "float64",
         "stats": {
          "unique_count": 143,
          "nan_count": 0,
          "min": "0.0",
          "max": "1.0",
          "histogram": [
           {
            "bin_start": 0,
            "bin_end": 0.1,
            "count": 69
           },
           {
            "bin_start": 0.1,
            "bin_end": 0.2,
            "count": 0
           },
           {
            "bin_start": 0.2,
            "bin_end": 0.30000000000000004,
            "count": 2
           },
           {
            "bin_start": 0.30000000000000004,
            "bin_end": 0.4,
            "count": 1
           },
           {
            "bin_start": 0.4,
            "bin_end": 0.5,
            "count": 0
           },
           {
            "bin_start": 0.5,
            "bin_end": 0.6000000000000001,
            "count": 1
           },
           {
            "bin_start": 0.6000000000000001,
            "bin_end": 0.7000000000000001,
            "count": 0
           },
           {
            "bin_start": 0.7000000000000001,
            "bin_end": 0.8,
            "count": 0
           },
           {
            "bin_start": 0.8,
            "bin_end": 0.9,
            "count": 0
           },
           {
            "bin_start": 0.9,
            "bin_end": 1,
            "count": 77
           }
          ]
         }
        },
        {
         "name": 10740,
         "dtype": "float64",
         "stats": {
          "unique_count": 95,
          "nan_count": 0,
          "min": "0.0",
          "max": "1.0",
          "histogram": [
           {
            "bin_start": 0,
            "bin_end": 0.1,
            "count": 68
           },
           {
            "bin_start": 0.1,
            "bin_end": 0.2,
            "count": 1
           },
           {
            "bin_start": 0.2,
            "bin_end": 0.30000000000000004,
            "count": 0
           },
           {
            "bin_start": 0.30000000000000004,
            "bin_end": 0.4,
            "count": 3
           },
           {
            "bin_start": 0.4,
            "bin_end": 0.5,
            "count": 0
           },
           {
            "bin_start": 0.5,
            "bin_end": 0.6000000000000001,
            "count": 1
           },
           {
            "bin_start": 0.6000000000000001,
            "bin_end": 0.7000000000000001,
            "count": 0
           },
           {
            "bin_start": 0.7000000000000001,
            "bin_end": 0.8,
            "count": 0
           },
           {
            "bin_start": 0.8,
            "bin_end": 0.9,
            "count": 0
           },
           {
            "bin_start": 0.9,
            "bin_end": 1,
            "count": 77
           }
          ]
         }
        },
        {
         "name": 10741,
         "dtype": "float64",
         "stats": {
          "unique_count": 132,
          "nan_count": 0,
          "min": "0.0",
          "max": "0.997131",
          "histogram": [
           {
            "bin_start": 0,
            "bin_end": 0.0997131,
            "count": 77
           },
           {
            "bin_start": 0.0997131,
            "bin_end": 0.1994262,
            "count": 0
           },
           {
            "bin_start": 0.1994262,
            "bin_end": 0.2991393,
            "count": 0
           },
           {
            "bin_start": 0.2991393,
            "bin_end": 0.3988524,
            "count": 0
           },
           {
            "bin_start": 0.3988524,
            "bin_end": 0.4985655,
            "count": 1
           },
           {
            "bin_start": 0.4985655,
            "bin_end": 0.5982786,
            "count": 0
           },
           {
            "bin_start": 0.5982786,
            "bin_end": 0.6979917,
            "count": 2
           },
           {
            "bin_start": 0.6979917,
            "bin_end": 0.7977048,
            "count": 1
           },
           {
            "bin_start": 0.7977048,
            "bin_end": 0.8974179,
            "count": 1
           },
           {
            "bin_start": 0.8974179,
            "bin_end": 0.997131,
            "count": 68
           }
          ]
         }
        },
        {
         "name": 10742,
         "dtype": "float64",
         "stats": {
          "unique_count": 94,
          "nan_count": 0,
          "min": "0.0",
          "max": "1.0",
          "histogram": [
           {
            "bin_start": 0,
            "bin_end": 0.1,
            "count": 77
           },
           {
            "bin_start": 0.1,
            "bin_end": 0.2,
            "count": 0
           },
           {
            "bin_start": 0.2,
            "bin_end": 0.30000000000000004,
            "count": 0
           },
           {
            "bin_start": 0.30000000000000004,
            "bin_end": 0.4,
            "count": 0
           },
           {
            "bin_start": 0.4,
            "bin_end": 0.5,
            "count": 1
           },
           {
            "bin_start": 0.5,
            "bin_end": 0.6000000000000001,
            "count": 0
           },
           {
            "bin_start": 0.6000000000000001,
            "bin_end": 0.7000000000000001,
            "count": 3
           },
           {
            "bin_start": 0.7000000000000001,
            "bin_end": 0.8,
            "count": 0
           },
           {
            "bin_start": 0.8,
            "bin_end": 0.9,
            "count": 1
           },
           {
            "bin_start": 0.9,
            "bin_end": 1,
            "count": 68
           }
          ]
         }
        },
        {
         "name": 10743,
         "dtype": "float64",
         "stats": {
          "unique_count": 126,
          "nan_count": 0,
          "min": "0.0",
          "max": "0.998127",
          "histogram": [
           {
            "bin_start": 0,
            "bin_end": 0.0998127,
            "count": 77
           },
           {
            "bin_start": 0.0998127,
            "bin_end": 0.1996254,
            "count": 0
           },
           {
            "bin_start": 0.1996254,
            "bin_end": 0.29943810000000004,
            "count": 0
           },
           {
            "bin_start": 0.29943810000000004,
            "bin_end": 0.3992508,
            "count": 0
           },
           {
            "bin_start": 0.3992508,
            "bin_end": 0.4990635,
            "count": 1
           },
           {
            "bin_start": 0.4990635,
            "bin_end": 0.5988762000000001,
            "count": 0
           },
           {
            "bin_start": 0.5988762000000001,
            "bin_end": 0.6986889000000001,
            "count": 2
           },
           {
            "bin_start": 0.6986889000000001,
            "bin_end": 0.7985016,
            "count": 1
           },
           {
            "bin_start": 0.7985016,
            "bin_end": 0.8983143,
            "count": 1
           },
           {
            "bin_start": 0.8983143,
            "bin_end": 0.998127,
            "count": 68
           }
          ]
         }
        },
        {
         "name": 10745,
         "dtype": "float64",
         "stats": {
          "unique_count": 119,
          "nan_count": 0,
          "min": "0.0",
          "max": "0.998108",
          "histogram": [
           {
            "bin_start": 0,
            "bin_end": 0.0998108,
            "count": 77
           },
           {
            "bin_start": 0.0998108,
            "bin_end": 0.1996216,
            "count": 0
           },
           {
            "bin_start": 0.1996216,
            "bin_end": 0.29943240000000004,
            "count": 0
           },
           {
            "bin_start": 0.29943240000000004,
            "bin_end": 0.3992432,
            "count": 0
           },
           {
            "bin_start": 0.3992432,
            "bin_end": 0.499054,
            "count": 1
           },
           {
            "bin_start": 0.499054,
            "bin_end": 0.5988648000000001,
            "count": 0
           },
           {
            "bin_start": 0.5988648000000001,
            "bin_end": 0.6986756000000001,
            "count": 2
           },
           {
            "bin_start": 0.6986756000000001,
            "bin_end": 0.7984864,
            "count": 1
           },
           {
            "bin_start": 0.7984864,
            "bin_end": 0.8982972,
            "count": 1
           },
           {
            "bin_start": 0.8982972,
            "bin_end": 0.998108,
            "count": 68
           }
          ]
         }
        },
        {
         "name": 10746,
         "dtype": "float64",
         "stats": {
          "unique_count": 88,
          "nan_count": 0,
          "min": "0.0",
          "max": "0.995192",
          "histogram": [
           {
            "bin_start": 0,
            "bin_end": 0.0995192,
            "count": 68
           },
           {
            "bin_start": 0.0995192,
            "bin_end": 0.1990384,
            "count": 1
           },
           {
            "bin_start": 0.1990384,
            "bin_end": 0.2985576,
            "count": 1
           },
           {
            "bin_start": 0.2985576,
            "bin_end": 0.3980768,
            "count": 2
           },
           {
            "bin_start": 0.3980768,
            "bin_end": 0.49759600000000004,
            "count": 0
           },
           {
            "bin_start": 0.49759600000000004,
            "bin_end": 0.5971152,
            "count": 1
           },
           {
            "bin_start": 0.5971152,
            "bin_end": 0.6966344,
            "count": 0
           },
           {
            "bin_start": 0.6966344,
            "bin_end": 0.7961536,
            "count": 0
           },
           {
            "bin_start": 0.7961536,
            "bin_end": 0.8956728,
            "count": 0
           },
           {
            "bin_start": 0.8956728,
            "bin_end": 0.995192,
            "count": 77
           }
          ]
         }
        },
        {
         "name": 10748,
         "dtype": "float64",
         "stats": {
          "unique_count": 115,
          "nan_count": 0,
          "min": "0.0",
          "max": "0.998509",
          "histogram": [
           {
            "bin_start": 0,
            "bin_end": 0.09985089999999999,
            "count": 77
           },
           {
            "bin_start": 0.09985089999999999,
            "bin_end": 0.19970179999999998,
            "count": 0
           },
           {
            "bin_start": 0.19970179999999998,
            "bin_end": 0.2995527,
            "count": 0
           },
           {
            "bin_start": 0.2995527,
            "bin_end": 0.39940359999999997,
            "count": 0
           },
           {
            "bin_start": 0.39940359999999997,
            "bin_end": 0.49925449999999993,
            "count": 1
           },
           {
            "bin_start": 0.49925449999999993,
            "bin_end": 0.5991054,
            "count": 0
           },
           {
            "bin_start": 0.5991054,
            "bin_end": 0.6989563,
            "count": 2
           },
           {
            "bin_start": 0.6989563,
            "bin_end": 0.7988071999999999,
            "count": 1
           },
           {
            "bin_start": 0.7988071999999999,
            "bin_end": 0.8986580999999999,
            "count": 1
           },
           {
            "bin_start": 0.8986580999999999,
            "bin_end": 0.998509,
            "count": 68
           }
          ]
         }
        },
        {
         "name": 10749,
         "dtype": "float64",
         "stats": {
          "unique_count": 100,
          "nan_count": 0,
          "min": "0.0",
          "max": "0.997375",
          "histogram": [
           {
            "bin_start": 0,
            "bin_end": 0.0997375,
            "count": 68
           },
           {
            "bin_start": 0.0997375,
            "bin_end": 0.199475,
            "count": 1
           },
           {
            "bin_start": 0.199475,
            "bin_end": 0.2992125,
            "count": 0
           },
           {
            "bin_start": 0.2992125,
            "bin_end": 0.39895,
            "count": 3
           },
           {
            "bin_start": 0.39895,
            "bin_end": 0.49868750000000006,
            "count": 0
           },
           {
            "bin_start": 0.49868750000000006,
            "bin_end": 0.598425,
            "count": 1
           },
           {
            "bin_start": 0.598425,
            "bin_end": 0.6981625,
            "count": 0
           },
           {
            "bin_start": 0.6981625,
            "bin_end": 0.7979,
            "count": 0
           },
           {
            "bin_start": 0.7979,
            "bin_end": 0.8976375000000001,
            "count": 0
           },
           {
            "bin_start": 0.8976375000000001,
            "bin_end": 0.997375,
            "count": 77
           }
          ]
         }
        },
        {
         "name": 10750,
         "dtype": "float64",
         "stats": {
          "unique_count": 149,
          "nan_count": 0,
          "min": "0.0",
          "max": "0.993816",
          "histogram": [
           {
            "bin_start": 0,
            "bin_end": 0.0993816,
            "count": 77
           },
           {
            "bin_start": 0.0993816,
            "bin_end": 0.1987632,
            "count": 0
           },
           {
            "bin_start": 0.1987632,
            "bin_end": 0.2981448,
            "count": 0
           },
           {
            "bin_start": 0.2981448,
            "bin_end": 0.3975264,
            "count": 0
           },
           {
            "bin_start": 0.3975264,
            "bin_end": 0.496908,
            "count": 1
           },
           {
            "bin_start": 0.496908,
            "bin_end": 0.5962896,
            "count": 0
           },
           {
            "bin_start": 0.5962896,
            "bin_end": 0.6956712,
            "count": 3
           },
           {
            "bin_start": 0.6956712,
            "bin_end": 0.7950528,
            "count": 0
           },
           {
            "bin_start": 0.7950528,
            "bin_end": 0.8944344,
            "count": 1
           },
           {
            "bin_start": 0.8944344,
            "bin_end": 0.993816,
            "count": 68
           }
          ]
         }
        },
        {
         "name": 10751,
         "dtype": "float64",
         "stats": {
          "unique_count": 98,
          "nan_count": 0,
          "min": "0.0",
          "max": "0.998553",
          "histogram": [
           {
            "bin_start": 0,
            "bin_end": 0.09985530000000001,
            "count": 68
           },
           {
            "bin_start": 0.09985530000000001,
            "bin_end": 0.19971060000000002,
            "count": 1
           },
           {
            "bin_start": 0.19971060000000002,
            "bin_end": 0.29956590000000005,
            "count": 1
           },
           {
            "bin_start": 0.29956590000000005,
            "bin_end": 0.39942120000000003,
            "count": 2
           },
           {
            "bin_start": 0.39942120000000003,
            "bin_end": 0.4992765,
            "count": 0
           },
           {
            "bin_start": 0.4992765,
            "bin_end": 0.5991318000000001,
            "count": 1
           },
           {
            "bin_start": 0.5991318000000001,
            "bin_end": 0.6989871000000001,
            "count": 0
           },
           {
            "bin_start": 0.6989871000000001,
            "bin_end": 0.7988424000000001,
            "count": 0
           },
           {
            "bin_start": 0.7988424000000001,
            "bin_end": 0.8986977,
            "count": 0
           },
           {
            "bin_start": 0.8986977,
            "bin_end": 0.998553,
            "count": 77
           }
          ]
         }
        },
        {
         "name": 10752,
         "dtype": "float64",
         "stats": {
          "unique_count": 121,
          "nan_count": 0,
          "min": "0.0",
          "max": "0.998332",
          "histogram": [
           {
            "bin_start": 0,
            "bin_end": 0.0998332,
            "count": 77
           },
           {
            "bin_start": 0.0998332,
            "bin_end": 0.1996664,
            "count": 0
           },
           {
            "bin_start": 0.1996664,
            "bin_end": 0.2994996,
            "count": 0
           },
           {
            "bin_start": 0.2994996,
            "bin_end": 0.3993328,
            "count": 0
           },
           {
            "bin_start": 0.3993328,
            "bin_end": 0.499166,
            "count": 1
           },
           {
            "bin_start": 0.499166,
            "bin_end": 0.5989992,
            "count": 0
           },
           {
            "bin_start": 0.5989992,
            "bin_end": 0.6988324,
            "count": 3
           },
           {
            "bin_start": 0.6988324,
            "bin_end": 0.7986656,
            "count": 0
           },
           {
            "bin_start": 0.7986656,
            "bin_end": 0.8984987999999999,
            "count": 1
           },
           {
            "bin_start": 0.8984987999999999,
            "bin_end": 0.998332,
            "count": 68
           }
          ]
         }
        },
        {
         "name": 10762,
         "dtype": "float64",
         "stats": {
          "unique_count": 89,
          "nan_count": 0,
          "min": "0.0",
          "max": "0.997283",
          "histogram": [
           {
            "bin_start": 0,
            "bin_end": 0.0997283,
            "count": 69
           },
           {
            "bin_start": 0.0997283,
            "bin_end": 0.1994566,
            "count": 0
           },
           {
            "bin_start": 0.1994566,
            "bin_end": 0.29918490000000003,
            "count": 0
           },
           {
            "bin_start": 0.29918490000000003,
            "bin_end": 0.3989132,
            "count": 3
           },
           {
            "bin_start": 0.3989132,
            "bin_end": 0.4986415,
            "count": 0
           },
           {
            "bin_start": 0.4986415,
            "bin_end": 0.5983698000000001,
            "count": 1
           },
           {
            "bin_start": 0.5983698000000001,
            "bin_end": 0.6980981,
            "count": 0
           },
           {
            "bin_start": 0.6980981,
            "bin_end": 0.7978264,
            "count": 0
           },
           {
            "bin_start": 0.7978264,
            "bin_end": 0.8975547,
            "count": 0
           },
           {
            "bin_start": 0.8975547,
            "bin_end": 0.997283,
            "count": 77
           }
          ]
         }
        },
        {
         "name": 10783,
         "dtype": "float64",
         "stats": {
          "unique_count": 96,
          "nan_count": 0,
          "min": "0.0",
          "max": "0.999041",
          "histogram": [
           {
            "bin_start": 0,
            "bin_end": 0.0999041,
            "count": 77
           },
           {
            "bin_start": 0.0999041,
            "bin_end": 0.1998082,
            "count": 0
           },
           {
            "bin_start": 0.1998082,
            "bin_end": 0.2997123,
            "count": 0
           },
           {
            "bin_start": 0.2997123,
            "bin_end": 0.3996164,
            "count": 0
           },
           {
            "bin_start": 0.3996164,
            "bin_end": 0.4995205,
            "count": 0
           },
           {
            "bin_start": 0.4995205,
            "bin_end": 0.5994246,
            "count": 1
           },
           {
            "bin_start": 0.5994246,
            "bin_end": 0.6993286999999999,
            "count": 2
           },
           {
            "bin_start": 0.6993286999999999,
            "bin_end": 0.7992328,
            "count": 1
           },
           {
            "bin_start": 0.7992328,
            "bin_end": 0.8991369,
            "count": 0
           },
           {
            "bin_start": 0.8991369,
            "bin_end": 0.999041,
            "count": 69
           }
          ]
         }
        },
        {
         "name": 10784,
         "dtype": "float64",
         "stats": {
          "unique_count": 121,
          "nan_count": 0,
          "min": "0.0",
          "max": "0.999222",
          "histogram": [
           {
            "bin_start": 0,
            "bin_end": 0.0999222,
            "count": 77
           },
           {
            "bin_start": 0.0999222,
            "bin_end": 0.1998444,
            "count": 0
           },
           {
            "bin_start": 0.1998444,
            "bin_end": 0.2997666,
            "count": 0
           },
           {
            "bin_start": 0.2997666,
            "bin_end": 0.3996888,
            "count": 0
           },
           {
            "bin_start": 0.3996888,
            "bin_end": 0.499611,
            "count": 0
           },
           {
            "bin_start": 0.499611,
            "bin_end": 0.5995332,
            "count": 1
           },
           {
            "bin_start": 0.5995332,
            "bin_end": 0.6994554000000001,
            "count": 1
           },
           {
            "bin_start": 0.6994554000000001,
            "bin_end": 0.7993776,
            "count": 2
           },
           {
            "bin_start": 0.7993776,
            "bin_end": 0.8992998,
            "count": 0
           },
           {
            "bin_start": 0.8992998,
            "bin_end": 0.999222,
            "count": 69
           }
          ]
         }
        },
        {
         "name": 10787,
         "dtype": "float64",
         "stats": {
          "unique_count": 89,
          "nan_count": 0,
          "min": "0.0",
          "max": "0.996503",
          "histogram": [
           {
            "bin_start": 0,
            "bin_end": 0.0996503,
            "count": 68
           },
           {
            "bin_start": 0.0996503,
            "bin_end": 0.1993006,
            "count": 1
           },
           {
            "bin_start": 0.1993006,
            "bin_end": 0.2989509,
            "count": 2
           },
           {
            "bin_start": 0.2989509,
            "bin_end": 0.3986012,
            "count": 1
           },
           {
            "bin_start": 0.3986012,
            "bin_end": 0.49825149999999996,
            "count": 1
           },
           {
            "bin_start": 0.49825149999999996,
            "bin_end": 0.5979018,
            "count": 0
           },
           {
            "bin_start": 0.5979018,
            "bin_end": 0.6975521,
            "count": 0
           },
           {
            "bin_start": 0.6975521,
            "bin_end": 0.7972024,
            "count": 0
           },
           {
            "bin_start": 0.7972024,
            "bin_end": 0.8968527,
            "count": 0
           },
           {
            "bin_start": 0.8968527,
            "bin_end": 0.996503,
            "count": 77
           }
          ]
         }
        },
        {
         "name": 10789,
         "dtype": "float64",
         "stats": {
          "unique_count": 118,
          "nan_count": 0,
          "min": "0.0",
          "max": "0.998333",
          "histogram": [
           {
            "bin_start": 0,
            "bin_end": 0.0998333,
            "count": 77
           },
           {
            "bin_start": 0.0998333,
            "bin_end": 0.1996666,
            "count": 0
           },
           {
            "bin_start": 0.1996666,
            "bin_end": 0.2994999,
            "count": 0
           },
           {
            "bin_start": 0.2994999,
            "bin_end": 0.3993332,
            "count": 0
           },
           {
            "bin_start": 0.3993332,
            "bin_end": 0.4991665,
            "count": 1
           },
           {
            "bin_start": 0.4991665,
            "bin_end": 0.5989998,
            "count": 0
           },
           {
            "bin_start": 0.5989998,
            "bin_end": 0.6988331,
            "count": 3
           },
           {
            "bin_start": 0.6988331,
            "bin_end": 0.7986664,
            "count": 0
           },
           {
            "bin_start": 0.7986664,
            "bin_end": 0.8984997,
            "count": 0
           },
           {
            "bin_start": 0.8984997,
            "bin_end": 0.998333,
            "count": 69
           }
          ]
         }
        },
        {
         "name": 10791,
         "dtype": "float64",
         "stats": {
          "unique_count": 119,
          "nan_count": 0,
          "min": "0.0",
          "max": "0.999311",
          "histogram": [
           {
            "bin_start": 0,
            "bin_end": 0.0999311,
            "count": 77
           },
           {
            "bin_start": 0.0999311,
            "bin_end": 0.1998622,
            "count": 0
           },
           {
            "bin_start": 0.1998622,
            "bin_end": 0.2997933,
            "count": 0
           },
           {
            "bin_start": 0.2997933,
            "bin_end": 0.3997244,
            "count": 0
           },
           {
            "bin_start": 0.3997244,
            "bin_end": 0.4996555,
            "count": 0
           },
           {
            "bin_start": 0.4996555,
            "bin_end": 0.5995866,
            "count": 1
           },
           {
            "bin_start": 0.5995866,
            "bin_end": 0.6995176999999999,
            "count": 2
           },
           {
            "bin_start": 0.6995176999999999,
            "bin_end": 0.7994488,
            "count": 1
           },
           {
            "bin_start": 0.7994488,
            "bin_end": 0.8993799,
            "count": 0
           },
           {
            "bin_start": 0.8993799,
            "bin_end": 0.999311,
            "count": 69
           }
          ]
         }
        },
        {
         "name": 10794,
         "dtype": "float64",
         "stats": {
          "unique_count": 89,
          "nan_count": 0,
          "min": "0.0",
          "max": "0.997085",
          "histogram": [
           {
            "bin_start": 0,
            "bin_end": 0.0997085,
            "count": 69
           },
           {
            "bin_start": 0.0997085,
            "bin_end": 0.199417,
            "count": 0
           },
           {
            "bin_start": 0.199417,
            "bin_end": 0.29912550000000004,
            "count": 0
           },
           {
            "bin_start": 0.29912550000000004,
            "bin_end": 0.398834,
            "count": 3
           },
           {
            "bin_start": 0.398834,
            "bin_end": 0.4985425,
            "count": 0
           },
           {
            "bin_start": 0.4985425,
            "bin_end": 0.5982510000000001,
            "count": 1
           },
           {
            "bin_start": 0.5982510000000001,
            "bin_end": 0.6979595000000001,
            "count": 0
           },
           {
            "bin_start": 0.6979595000000001,
            "bin_end": 0.797668,
            "count": 0
           },
           {
            "bin_start": 0.797668,
            "bin_end": 0.8973765,
            "count": 0
           },
           {
            "bin_start": 0.8973765,
            "bin_end": 0.997085,
            "count": 77
           }
          ]
         }
        },
        {
         "name": 10797,
         "dtype": "float64",
         "stats": {
          "unique_count": 101,
          "nan_count": 0,
          "min": "0.0",
          "max": "0.999246",
          "histogram": [
           {
            "bin_start": 0,
            "bin_end": 0.0999246,
            "count": 77
           },
           {
            "bin_start": 0.0999246,
            "bin_end": 0.1998492,
            "count": 0
           },
           {
            "bin_start": 0.1998492,
            "bin_end": 0.2997738,
            "count": 0
           },
           {
            "bin_start": 0.2997738,
            "bin_end": 0.3996984,
            "count": 0
           },
           {
            "bin_start": 0.3996984,
            "bin_end": 0.49962300000000004,
            "count": 0
           },
           {
            "bin_start": 0.49962300000000004,
            "bin_end": 0.5995476,
            "count": 1
           },
           {
            "bin_start": 0.5995476,
            "bin_end": 0.6994722,
            "count": 2
           },
           {
            "bin_start": 0.6994722,
            "bin_end": 0.7993968,
            "count": 1
           },
           {
            "bin_start": 0.7993968,
            "bin_end": 0.8993214,
            "count": 0
           },
           {
            "bin_start": 0.8993214,
            "bin_end": 0.999246,
            "count": 69
           }
          ]
         }
        },
        {
         "name": 10799,
         "dtype": "float64",
         "stats": {
          "unique_count": 89,
          "nan_count": 0,
          "min": "0.0",
          "max": "0.996387",
          "histogram": [
           {
            "bin_start": 0,
            "bin_end": 0.0996387,
            "count": 69
           },
           {
            "bin_start": 0.0996387,
            "bin_end": 0.1992774,
            "count": 0
           },
           {
            "bin_start": 0.1992774,
            "bin_end": 0.2989161,
            "count": 1
           },
           {
            "bin_start": 0.2989161,
            "bin_end": 0.3985548,
            "count": 2
           },
           {
            "bin_start": 0.3985548,
            "bin_end": 0.49819349999999996,
            "count": 0
           },
           {
            "bin_start": 0.49819349999999996,
            "bin_end": 0.5978322,
            "count": 1
           },
           {
            "bin_start": 0.5978322,
            "bin_end": 0.6974709,
            "count": 0
           },
           {
            "bin_start": 0.6974709,
            "bin_end": 0.7971096,
            "count": 0
           },
           {
            "bin_start": 0.7971096,
            "bin_end": 0.8967482999999999,
            "count": 0
           },
           {
            "bin_start": 0.8967482999999999,
            "bin_end": 0.996387,
            "count": 77
           }
          ]
         }
        },
        {
         "name": 10801,
         "dtype": "float64",
         "stats": {
          "unique_count": 119,
          "nan_count": 0,
          "min": "0.0",
          "max": "0.999266",
          "histogram": [
           {
            "bin_start": 0,
            "bin_end": 0.0999266,
            "count": 77
           },
           {
            "bin_start": 0.0999266,
            "bin_end": 0.1998532,
            "count": 0
           },
           {
            "bin_start": 0.1998532,
            "bin_end": 0.29977980000000004,
            "count": 0
           },
           {
            "bin_start": 0.29977980000000004,
            "bin_end": 0.3997064,
            "count": 0
           },
           {
            "bin_start": 0.3997064,
            "bin_end": 0.499633,
            "count": 0
           },
           {
            "bin_start": 0.499633,
            "bin_end": 0.5995596000000001,
            "count": 1
           },
           {
            "bin_start": 0.5995596000000001,
            "bin_end": 0.6994862000000001,
            "count": 3
           },
           {
            "bin_start": 0.6994862000000001,
            "bin_end": 0.7994128,
            "count": 0
           },
           {
            "bin_start": 0.7994128,
            "bin_end": 0.8993394,
            "count": 0
           },
           {
            "bin_start": 0.8993394,
            "bin_end": 0.999266,
            "count": 69
           }
          ]
         }
        },
        {
         "name": 10804,
         "dtype": "float64",
         "stats": {
          "unique_count": 101,
          "nan_count": 0,
          "min": "0.0",
          "max": "0.999119",
          "histogram": [
           {
            "bin_start": 0,
            "bin_end": 0.0999119,
            "count": 77
           },
           {
            "bin_start": 0.0999119,
            "bin_end": 0.1998238,
            "count": 0
           },
           {
            "bin_start": 0.1998238,
            "bin_end": 0.2997357,
            "count": 0
           },
           {
            "bin_start": 0.2997357,
            "bin_end": 0.3996476,
            "count": 0
           },
           {
            "bin_start": 0.3996476,
            "bin_end": 0.4995595,
            "count": 0
           },
           {
            "bin_start": 0.4995595,
            "bin_end": 0.5994714,
            "count": 1
           },
           {
            "bin_start": 0.5994714,
            "bin_end": 0.6993833,
            "count": 1
           },
           {
            "bin_start": 0.6993833,
            "bin_end": 0.7992952,
            "count": 2
           },
           {
            "bin_start": 0.7992952,
            "bin_end": 0.8992070999999999,
            "count": 0
           },
           {
            "bin_start": 0.8992070999999999,
            "bin_end": 0.999119,
            "count": 69
           }
          ]
         }
        },
        {
         "name": 10805,
         "dtype": "float64",
         "stats": {
          "unique_count": 88,
          "nan_count": 0,
          "min": "0.0",
          "max": "0.994484",
          "histogram": [
           {
            "bin_start": 0,
            "bin_end": 0.0994484,
            "count": 69
           },
           {
            "bin_start": 0.0994484,
            "bin_end": 0.1988968,
            "count": 0
           },
           {
            "bin_start": 0.1988968,
            "bin_end": 0.29834520000000003,
            "count": 0
           },
           {
            "bin_start": 0.29834520000000003,
            "bin_end": 0.3977936,
            "count": 3
           },
           {
            "bin_start": 0.3977936,
            "bin_end": 0.497242,
            "count": 1
           },
           {
            "bin_start": 0.497242,
            "bin_end": 0.5966904000000001,
            "count": 0
           },
           {
            "bin_start": 0.5966904000000001,
            "bin_end": 0.6961388000000001,
            "count": 0
           },
           {
            "bin_start": 0.6961388000000001,
            "bin_end": 0.7955872,
            "count": 0
           },
           {
            "bin_start": 0.7955872,
            "bin_end": 0.8950356,
            "count": 0
           },
           {
            "bin_start": 0.8950356,
            "bin_end": 0.994484,
            "count": 77
           }
          ]
         }
        },
        {
         "name": 10806,
         "dtype": "float64",
         "stats": {
          "unique_count": 136,
          "nan_count": 0,
          "min": "0.0",
          "max": "0.995925",
          "histogram": [
           {
            "bin_start": 0,
            "bin_end": 0.0995925,
            "count": 77
           },
           {
            "bin_start": 0.0995925,
            "bin_end": 0.199185,
            "count": 0
           },
           {
            "bin_start": 0.199185,
            "bin_end": 0.29877750000000003,
            "count": 0
           },
           {
            "bin_start": 0.29877750000000003,
            "bin_end": 0.39837,
            "count": 0
           },
           {
            "bin_start": 0.39837,
            "bin_end": 0.4979625,
            "count": 0
           },
           {
            "bin_start": 0.4979625,
            "bin_end": 0.5975550000000001,
            "count": 1
           },
           {
            "bin_start": 0.5975550000000001,
            "bin_end": 0.6971475,
            "count": 3
           },
           {
            "bin_start": 0.6971475,
            "bin_end": 0.79674,
            "count": 0
           },
           {
            "bin_start": 0.79674,
            "bin_end": 0.8963325,
            "count": 0
           },
           {
            "bin_start": 0.8963325,
            "bin_end": 0.995925,
            "count": 69
           }
          ]
         }
        },
        {
         "name": 10808,
         "dtype": "float64",
         "stats": {
          "unique_count": 101,
          "nan_count": 0,
          "min": "0.0",
          "max": "0.999159",
          "histogram": [
           {
            "bin_start": 0,
            "bin_end": 0.0999159,
            "count": 77
           },
           {
            "bin_start": 0.0999159,
            "bin_end": 0.1998318,
            "count": 0
           },
           {
            "bin_start": 0.1998318,
            "bin_end": 0.2997477,
            "count": 0
           },
           {
            "bin_start": 0.2997477,
            "bin_end": 0.3996636,
            "count": 0
           },
           {
            "bin_start": 0.3996636,
            "bin_end": 0.4995795,
            "count": 1
           },
           {
            "bin_start": 0.4995795,
            "bin_end": 0.5994954,
            "count": 0
           },
           {
            "bin_start": 0.5994954,
            "bin_end": 0.6994113,
            "count": 2
           },
           {
            "bin_start": 0.6994113,
            "bin_end": 0.7993272,
            "count": 1
           },
           {
            "bin_start": 0.7993272,
            "bin_end": 0.8992431000000001,
            "count": 0
           },
           {
            "bin_start": 0.8992431000000001,
            "bin_end": 0.999159,
            "count": 69
           }
          ]
         }
        },
        {
         "name": 10809,
         "dtype": "float64",
         "stats": {
          "unique_count": 87,
          "nan_count": 0,
          "min": "0.0",
          "max": "1.0",
          "histogram": [
           {
            "bin_start": 0,
            "bin_end": 0.1,
            "count": 69
           },
           {
            "bin_start": 0.1,
            "bin_end": 0.2,
            "count": 0
           },
           {
            "bin_start": 0.2,
            "bin_end": 0.30000000000000004,
            "count": 0
           },
           {
            "bin_start": 0.30000000000000004,
            "bin_end": 0.4,
            "count": 3
           },
           {
            "bin_start": 0.4,
            "bin_end": 0.5,
            "count": 0
           },
           {
            "bin_start": 0.5,
            "bin_end": 0.6000000000000001,
            "count": 1
           },
           {
            "bin_start": 0.6000000000000001,
            "bin_end": 0.7000000000000001,
            "count": 0
           },
           {
            "bin_start": 0.7000000000000001,
            "bin_end": 0.8,
            "count": 0
           },
           {
            "bin_start": 0.8,
            "bin_end": 0.9,
            "count": 0
           },
           {
            "bin_start": 0.9,
            "bin_end": 1,
            "count": 77
           }
          ]
         }
        },
        {
         "name": 10811,
         "dtype": "float64",
         "stats": {
          "unique_count": 119,
          "nan_count": 0,
          "min": "0.0",
          "max": "0.999203",
          "histogram": [
           {
            "bin_start": 0,
            "bin_end": 0.09992029999999999,
            "count": 77
           },
           {
            "bin_start": 0.09992029999999999,
            "bin_end": 0.19984059999999998,
            "count": 0
           },
           {
            "bin_start": 0.19984059999999998,
            "bin_end": 0.2997609,
            "count": 0
           },
           {
            "bin_start": 0.2997609,
            "bin_end": 0.39968119999999996,
            "count": 0
           },
           {
            "bin_start": 0.39968119999999996,
            "bin_end": 0.4996014999999999,
            "count": 0
           },
           {
            "bin_start": 0.4996014999999999,
            "bin_end": 0.5995218,
            "count": 1
           },
           {
            "bin_start": 0.5995218,
            "bin_end": 0.6994421,
            "count": 3
           },
           {
            "bin_start": 0.6994421,
            "bin_end": 0.7993623999999999,
            "count": 0
           },
           {
            "bin_start": 0.7993623999999999,
            "bin_end": 0.8992826999999999,
            "count": 0
           },
           {
            "bin_start": 0.8992826999999999,
            "bin_end": 0.999203,
            "count": 69
           }
          ]
         }
        },
        {
         "name": 10812,
         "dtype": "float64",
         "stats": {
          "unique_count": 89,
          "nan_count": 0,
          "min": "0.0",
          "max": "0.995816",
          "histogram": [
           {
            "bin_start": 0,
            "bin_end": 0.0995816,
            "count": 69
           },
           {
            "bin_start": 0.0995816,
            "bin_end": 0.1991632,
            "count": 0
           },
           {
            "bin_start": 0.1991632,
            "bin_end": 0.29874480000000003,
            "count": 0
           },
           {
            "bin_start": 0.29874480000000003,
            "bin_end": 0.3983264,
            "count": 3
           },
           {
            "bin_start": 0.3983264,
            "bin_end": 0.497908,
            "count": 1
           },
           {
            "bin_start": 0.497908,
            "bin_end": 0.5974896000000001,
            "count": 0
           },
           {
            "bin_start": 0.5974896000000001,
            "bin_end": 0.6970712,
            "count": 0
           },
           {
            "bin_start": 0.6970712,
            "bin_end": 0.7966528,
            "count": 0
           },
           {
            "bin_start": 0.7966528,
            "bin_end": 0.8962344000000001,
            "count": 0
           },
           {
            "bin_start": 0.8962344000000001,
            "bin_end": 0.995816,
            "count": 77
           }
          ]
         }
        },
        {
         "name": 10813,
         "dtype": "float64",
         "stats": {
          "unique_count": 89,
          "nan_count": 0,
          "min": "0.0",
          "max": "0.997149",
          "histogram": [
           {
            "bin_start": 0,
            "bin_end": 0.0997149,
            "count": 69
           },
           {
            "bin_start": 0.0997149,
            "bin_end": 0.1994298,
            "count": 0
           },
           {
            "bin_start": 0.1994298,
            "bin_end": 0.2991447,
            "count": 0
           },
           {
            "bin_start": 0.2991447,
            "bin_end": 0.3988596,
            "count": 3
           },
           {
            "bin_start": 0.3988596,
            "bin_end": 0.4985745,
            "count": 0
           },
           {
            "bin_start": 0.4985745,
            "bin_end": 0.5982894,
            "count": 1
           },
           {
            "bin_start": 0.5982894,
            "bin_end": 0.6980043,
            "count": 0
           },
           {
            "bin_start": 0.6980043,
            "bin_end": 0.7977192,
            "count": 0
           },
           {
            "bin_start": 0.7977192,
            "bin_end": 0.8974340999999999,
            "count": 0
           },
           {
            "bin_start": 0.8974340999999999,
            "bin_end": 0.997149,
            "count": 77
           }
          ]
         }
        },
        {
         "name": 10814,
         "dtype": "float64",
         "stats": {
          "unique_count": 89,
          "nan_count": 0,
          "min": "0.0",
          "max": "0.998201",
          "histogram": [
           {
            "bin_start": 0,
            "bin_end": 0.0998201,
            "count": 69
           },
           {
            "bin_start": 0.0998201,
            "bin_end": 0.1996402,
            "count": 0
           },
           {
            "bin_start": 0.1996402,
            "bin_end": 0.2994603,
            "count": 0
           },
           {
            "bin_start": 0.2994603,
            "bin_end": 0.3992804,
            "count": 3
           },
           {
            "bin_start": 0.3992804,
            "bin_end": 0.49910049999999995,
            "count": 1
           },
           {
            "bin_start": 0.49910049999999995,
            "bin_end": 0.5989206,
            "count": 0
           },
           {
            "bin_start": 0.5989206,
            "bin_end": 0.6987407,
            "count": 0
           },
           {
            "bin_start": 0.6987407,
            "bin_end": 0.7985608,
            "count": 0
           },
           {
            "bin_start": 0.7985608,
            "bin_end": 0.8983808999999999,
            "count": 0
           },
           {
            "bin_start": 0.8983808999999999,
            "bin_end": 0.998201,
            "count": 77
           }
          ]
         }
        },
        {
         "name": 10815,
         "dtype": "float64",
         "stats": {
          "unique_count": 130,
          "nan_count": 0,
          "min": "0.0",
          "max": "0.99792",
          "histogram": [
           {
            "bin_start": 0,
            "bin_end": 0.099792,
            "count": 77
           },
           {
            "bin_start": 0.099792,
            "bin_end": 0.199584,
            "count": 0
           },
           {
            "bin_start": 0.199584,
            "bin_end": 0.29937600000000003,
            "count": 0
           },
           {
            "bin_start": 0.29937600000000003,
            "bin_end": 0.399168,
            "count": 0
           },
           {
            "bin_start": 0.399168,
            "bin_end": 0.49896,
            "count": 0
           },
           {
            "bin_start": 0.49896,
            "bin_end": 0.5987520000000001,
            "count": 1
           },
           {
            "bin_start": 0.5987520000000001,
            "bin_end": 0.698544,
            "count": 3
           },
           {
            "bin_start": 0.698544,
            "bin_end": 0.798336,
            "count": 0
           },
           {
            "bin_start": 0.798336,
            "bin_end": 0.898128,
            "count": 0
           },
           {
            "bin_start": 0.898128,
            "bin_end": 0.99792,
            "count": 69
           }
          ]
         }
        },
        {
         "name": 10816,
         "dtype": "float64",
         "stats": {
          "unique_count": 120,
          "nan_count": 0,
          "min": "0.0",
          "max": "0.999241",
          "histogram": [
           {
            "bin_start": 0,
            "bin_end": 0.0999241,
            "count": 77
           },
           {
            "bin_start": 0.0999241,
            "bin_end": 0.1998482,
            "count": 0
           },
           {
            "bin_start": 0.1998482,
            "bin_end": 0.2997723,
            "count": 0
           },
           {
            "bin_start": 0.2997723,
            "bin_end": 0.3996964,
            "count": 0
           },
           {
            "bin_start": 0.3996964,
            "bin_end": 0.4996205,
            "count": 0
           },
           {
            "bin_start": 0.4996205,
            "bin_end": 0.5995446,
            "count": 1
           },
           {
            "bin_start": 0.5995446,
            "bin_end": 0.6994687,
            "count": 2
           },
           {
            "bin_start": 0.6994687,
            "bin_end": 0.7993928,
            "count": 1
           },
           {
            "bin_start": 0.7993928,
            "bin_end": 0.8993169,
            "count": 0
           },
           {
            "bin_start": 0.8993169,
            "bin_end": 0.999241,
            "count": 69
           }
          ]
         }
        },
        {
         "name": 10817,
         "dtype": "float64",
         "stats": {
          "unique_count": 120,
          "nan_count": 0,
          "min": "0.0",
          "max": "0.999322",
          "histogram": [
           {
            "bin_start": 0,
            "bin_end": 0.0999322,
            "count": 77
           },
           {
            "bin_start": 0.0999322,
            "bin_end": 0.1998644,
            "count": 0
           },
           {
            "bin_start": 0.1998644,
            "bin_end": 0.29979659999999997,
            "count": 0
           },
           {
            "bin_start": 0.29979659999999997,
            "bin_end": 0.3997288,
            "count": 0
           },
           {
            "bin_start": 0.3997288,
            "bin_end": 0.499661,
            "count": 0
           },
           {
            "bin_start": 0.499661,
            "bin_end": 0.5995931999999999,
            "count": 1
           },
           {
            "bin_start": 0.5995931999999999,
            "bin_end": 0.6995254,
            "count": 2
           },
           {
            "bin_start": 0.6995254,
            "bin_end": 0.7994576,
            "count": 1
           },
           {
            "bin_start": 0.7994576,
            "bin_end": 0.8993898,
            "count": 0
           },
           {
            "bin_start": 0.8993898,
            "bin_end": 0.999322,
            "count": 69
           }
          ]
         }
        },
        {
         "name": 10818,
         "dtype": "float64",
         "stats": {
          "unique_count": 128,
          "nan_count": 0,
          "min": "0.0",
          "max": "0.998649",
          "histogram": [
           {
            "bin_start": 0,
            "bin_end": 0.0998649,
            "count": 77
           },
           {
            "bin_start": 0.0998649,
            "bin_end": 0.1997298,
            "count": 0
           },
           {
            "bin_start": 0.1997298,
            "bin_end": 0.2995947,
            "count": 0
           },
           {
            "bin_start": 0.2995947,
            "bin_end": 0.3994596,
            "count": 0
           },
           {
            "bin_start": 0.3994596,
            "bin_end": 0.49932450000000006,
            "count": 0
           },
           {
            "bin_start": 0.49932450000000006,
            "bin_end": 0.5991894,
            "count": 1
           },
           {
            "bin_start": 0.5991894,
            "bin_end": 0.6990543,
            "count": 3
           },
           {
            "bin_start": 0.6990543,
            "bin_end": 0.7989192,
            "count": 0
           },
           {
            "bin_start": 0.7989192,
            "bin_end": 0.8987841000000001,
            "count": 0
           },
           {
            "bin_start": 0.8987841000000001,
            "bin_end": 0.998649,
            "count": 69
           }
          ]
         }
        },
        {
         "name": 10825,
         "dtype": "float64",
         "stats": {
          "unique_count": 83,
          "nan_count": 0,
          "min": "0.0",
          "max": "0.997095",
          "histogram": [
           {
            "bin_start": 0,
            "bin_end": 0.09970949999999999,
            "count": 69
           },
           {
            "bin_start": 0.09970949999999999,
            "bin_end": 0.19941899999999999,
            "count": 0
           },
           {
            "bin_start": 0.19941899999999999,
            "bin_end": 0.29912849999999996,
            "count": 0
           },
           {
            "bin_start": 0.29912849999999996,
            "bin_end": 0.39883799999999997,
            "count": 3
           },
           {
            "bin_start": 0.39883799999999997,
            "bin_end": 0.4985475,
            "count": 0
           },
           {
            "bin_start": 0.4985475,
            "bin_end": 0.5982569999999999,
            "count": 1
           },
           {
            "bin_start": 0.5982569999999999,
            "bin_end": 0.6979664999999999,
            "count": 0
           },
           {
            "bin_start": 0.6979664999999999,
            "bin_end": 0.7976759999999999,
            "count": 0
           },
           {
            "bin_start": 0.7976759999999999,
            "bin_end": 0.8973855,
            "count": 0
           },
           {
            "bin_start": 0.8973855,
            "bin_end": 0.997095,
            "count": 77
           }
          ]
         }
        },
        {
         "name": 10843,
         "dtype": "float64",
         "stats": {
          "unique_count": 95,
          "nan_count": 0,
          "min": "0.0",
          "max": "1.0",
          "histogram": [
           {
            "bin_start": 0,
            "bin_end": 0.1,
            "count": 77
           },
           {
            "bin_start": 0.1,
            "bin_end": 0.2,
            "count": 0
           },
           {
            "bin_start": 0.2,
            "bin_end": 0.30000000000000004,
            "count": 0
           },
           {
            "bin_start": 0.30000000000000004,
            "bin_end": 0.4,
            "count": 0
           },
           {
            "bin_start": 0.4,
            "bin_end": 0.5,
            "count": 1
           },
           {
            "bin_start": 0.5,
            "bin_end": 0.6000000000000001,
            "count": 1
           },
           {
            "bin_start": 0.6000000000000001,
            "bin_end": 0.7000000000000001,
            "count": 2
           },
           {
            "bin_start": 0.7000000000000001,
            "bin_end": 0.8,
            "count": 0
           },
           {
            "bin_start": 0.8,
            "bin_end": 0.9,
            "count": 0
           },
           {
            "bin_start": 0.9,
            "bin_end": 1,
            "count": 69
           }
          ]
         }
        },
        {
         "name": 10844,
         "dtype": "float64",
         "stats": {
          "unique_count": 144,
          "nan_count": 0,
          "min": "0.0",
          "max": "0.991354",
          "histogram": [
           {
            "bin_start": 0,
            "bin_end": 0.0991354,
            "count": 76
           },
           {
            "bin_start": 0.0991354,
            "bin_end": 0.1982708,
            "count": 1
           },
           {
            "bin_start": 0.1982708,
            "bin_end": 0.2974062,
            "count": 0
           },
           {
            "bin_start": 0.2974062,
            "bin_end": 0.3965416,
            "count": 0
           },
           {
            "bin_start": 0.3965416,
            "bin_end": 0.495677,
            "count": 0
           },
           {
            "bin_start": 0.495677,
            "bin_end": 0.5948124,
            "count": 1
           },
           {
            "bin_start": 0.5948124,
            "bin_end": 0.6939478,
            "count": 2
           },
           {
            "bin_start": 0.6939478,
            "bin_end": 0.7930832,
            "count": 1
           },
           {
            "bin_start": 0.7930832,
            "bin_end": 0.8922186,
            "count": 0
           },
           {
            "bin_start": 0.8922186,
            "bin_end": 0.991354,
            "count": 69
           }
          ]
         }
        },
        {
         "name": 10858,
         "dtype": "float64",
         "stats": {
          "unique_count": 89,
          "nan_count": 0,
          "min": "0.0",
          "max": "0.99356",
          "histogram": [
           {
            "bin_start": 0,
            "bin_end": 0.099356,
            "count": 68
           },
           {
            "bin_start": 0.099356,
            "bin_end": 0.198712,
            "count": 1
           },
           {
            "bin_start": 0.198712,
            "bin_end": 0.298068,
            "count": 1
           },
           {
            "bin_start": 0.298068,
            "bin_end": 0.397424,
            "count": 2
           },
           {
            "bin_start": 0.397424,
            "bin_end": 0.49678,
            "count": 0
           },
           {
            "bin_start": 0.49678,
            "bin_end": 0.596136,
            "count": 1
           },
           {
            "bin_start": 0.596136,
            "bin_end": 0.695492,
            "count": 0
           },
           {
            "bin_start": 0.695492,
            "bin_end": 0.794848,
            "count": 0
           },
           {
            "bin_start": 0.794848,
            "bin_end": 0.894204,
            "count": 1
           },
           {
            "bin_start": 0.894204,
            "bin_end": 0.99356,
            "count": 76
           }
          ]
         }
        },
        {
         "name": 10861,
         "dtype": "float64",
         "stats": {
          "unique_count": 129,
          "nan_count": 0,
          "min": "0.0",
          "max": "0.99692",
          "histogram": [
           {
            "bin_start": 0,
            "bin_end": 0.099692,
            "count": 68
           },
           {
            "bin_start": 0.099692,
            "bin_end": 0.199384,
            "count": 1
           },
           {
            "bin_start": 0.199384,
            "bin_end": 0.299076,
            "count": 0
           },
           {
            "bin_start": 0.299076,
            "bin_end": 0.398768,
            "count": 2
           },
           {
            "bin_start": 0.398768,
            "bin_end": 0.49846,
            "count": 1
           },
           {
            "bin_start": 0.49846,
            "bin_end": 0.598152,
            "count": 1
           },
           {
            "bin_start": 0.598152,
            "bin_end": 0.697844,
            "count": 0
           },
           {
            "bin_start": 0.697844,
            "bin_end": 0.797536,
            "count": 0
           },
           {
            "bin_start": 0.797536,
            "bin_end": 0.897228,
            "count": 0
           },
           {
            "bin_start": 0.897228,
            "bin_end": 0.99692,
            "count": 77
           }
          ]
         }
        },
        {
         "name": 10863,
         "dtype": "float64",
         "stats": {
          "unique_count": 81,
          "nan_count": 0,
          "min": "0.0",
          "max": "1.0",
          "histogram": [
           {
            "bin_start": 0,
            "bin_end": 0.1,
            "count": 68
           },
           {
            "bin_start": 0.1,
            "bin_end": 0.2,
            "count": 1
           },
           {
            "bin_start": 0.2,
            "bin_end": 0.30000000000000004,
            "count": 0
           },
           {
            "bin_start": 0.30000000000000004,
            "bin_end": 0.4,
            "count": 3
           },
           {
            "bin_start": 0.4,
            "bin_end": 0.5,
            "count": 0
           },
           {
            "bin_start": 0.5,
            "bin_end": 0.6000000000000001,
            "count": 1
           },
           {
            "bin_start": 0.6000000000000001,
            "bin_end": 0.7000000000000001,
            "count": 0
           },
           {
            "bin_start": 0.7000000000000001,
            "bin_end": 0.8,
            "count": 0
           },
           {
            "bin_start": 0.8,
            "bin_end": 0.9,
            "count": 0
           },
           {
            "bin_start": 0.9,
            "bin_end": 1,
            "count": 77
           }
          ]
         }
        },
        {
         "name": 10864,
         "dtype": "float64",
         "stats": {
          "unique_count": 88,
          "nan_count": 0,
          "min": "0.0",
          "max": "0.998403",
          "histogram": [
           {
            "bin_start": 0,
            "bin_end": 0.0998403,
            "count": 68
           },
           {
            "bin_start": 0.0998403,
            "bin_end": 0.1996806,
            "count": 1
           },
           {
            "bin_start": 0.1996806,
            "bin_end": 0.29952090000000003,
            "count": 0
           },
           {
            "bin_start": 0.29952090000000003,
            "bin_end": 0.3993612,
            "count": 3
           },
           {
            "bin_start": 0.3993612,
            "bin_end": 0.4992015,
            "count": 0
           },
           {
            "bin_start": 0.4992015,
            "bin_end": 0.5990418000000001,
            "count": 1
           },
           {
            "bin_start": 0.5990418000000001,
            "bin_end": 0.6988821000000001,
            "count": 0
           },
           {
            "bin_start": 0.6988821000000001,
            "bin_end": 0.7987224,
            "count": 0
           },
           {
            "bin_start": 0.7987224,
            "bin_end": 0.8985627,
            "count": 1
           },
           {
            "bin_start": 0.8985627,
            "bin_end": 0.998403,
            "count": 76
           }
          ]
         }
        },
        {
         "name": 10866,
         "dtype": "float64",
         "stats": {
          "unique_count": 113,
          "nan_count": 0,
          "min": "0.0",
          "max": "0.998858",
          "histogram": [
           {
            "bin_start": 0,
            "bin_end": 0.0998858,
            "count": 77
           },
           {
            "bin_start": 0.0998858,
            "bin_end": 0.1997716,
            "count": 0
           },
           {
            "bin_start": 0.1997716,
            "bin_end": 0.29965739999999996,
            "count": 0
           },
           {
            "bin_start": 0.29965739999999996,
            "bin_end": 0.3995432,
            "count": 0
           },
           {
            "bin_start": 0.3995432,
            "bin_end": 0.499429,
            "count": 1
           },
           {
            "bin_start": 0.499429,
            "bin_end": 0.5993147999999999,
            "count": 0
           },
           {
            "bin_start": 0.5993147999999999,
            "bin_end": 0.6992006,
            "count": 3
           },
           {
            "bin_start": 0.6992006,
            "bin_end": 0.7990864,
            "count": 0
           },
           {
            "bin_start": 0.7990864,
            "bin_end": 0.8989722,
            "count": 0
           },
           {
            "bin_start": 0.8989722,
            "bin_end": 0.998858,
            "count": 69
           }
          ]
         }
        },
        {
         "name": 10871,
         "dtype": "float64",
         "stats": {
          "unique_count": 84,
          "nan_count": 0,
          "min": "0.0",
          "max": "0.997062",
          "histogram": [
           {
            "bin_start": 0,
            "bin_end": 0.0997062,
            "count": 68
           },
           {
            "bin_start": 0.0997062,
            "bin_end": 0.1994124,
            "count": 1
           },
           {
            "bin_start": 0.1994124,
            "bin_end": 0.2991186,
            "count": 0
           },
           {
            "bin_start": 0.2991186,
            "bin_end": 0.3988248,
            "count": 3
           },
           {
            "bin_start": 0.3988248,
            "bin_end": 0.49853099999999995,
            "count": 0
           },
           {
            "bin_start": 0.49853099999999995,
            "bin_end": 0.5982372,
            "count": 1
           },
           {
            "bin_start": 0.5982372,
            "bin_end": 0.6979434,
            "count": 0
           },
           {
            "bin_start": 0.6979434,
            "bin_end": 0.7976496,
            "count": 0
           },
           {
            "bin_start": 0.7976496,
            "bin_end": 0.8973557999999999,
            "count": 0
           },
           {
            "bin_start": 0.8973557999999999,
            "bin_end": 0.997062,
            "count": 77
           }
          ]
         }
        },
        {
         "name": 10872,
         "dtype": "float64",
         "stats": {
          "unique_count": 88,
          "nan_count": 0,
          "min": "0.0",
          "max": "0.992964",
          "histogram": [
           {
            "bin_start": 0,
            "bin_end": 0.09929639999999999,
            "count": 68
           },
           {
            "bin_start": 0.09929639999999999,
            "bin_end": 0.19859279999999999,
            "count": 1
           },
           {
            "bin_start": 0.19859279999999999,
            "bin_end": 0.29788919999999997,
            "count": 0
           },
           {
            "bin_start": 0.29788919999999997,
            "bin_end": 0.39718559999999997,
            "count": 3
           },
           {
            "bin_start": 0.39718559999999997,
            "bin_end": 0.496482,
            "count": 0
           },
           {
            "bin_start": 0.496482,
            "bin_end": 0.5957783999999999,
            "count": 1
           },
           {
            "bin_start": 0.5957783999999999,
            "bin_end": 0.6950748,
            "count": 0
           },
           {
            "bin_start": 0.6950748,
            "bin_end": 0.7943711999999999,
            "count": 0
           },
           {
            "bin_start": 0.7943711999999999,
            "bin_end": 0.8936675999999999,
            "count": 1
           },
           {
            "bin_start": 0.8936675999999999,
            "bin_end": 0.992964,
            "count": 76
           }
          ]
         }
        },
        {
         "name": 10873,
         "dtype": "float64",
         "stats": {
          "unique_count": 86,
          "nan_count": 0,
          "min": "0.0",
          "max": "0.994192",
          "histogram": [
           {
            "bin_start": 0,
            "bin_end": 0.0994192,
            "count": 68
           },
           {
            "bin_start": 0.0994192,
            "bin_end": 0.1988384,
            "count": 1
           },
           {
            "bin_start": 0.1988384,
            "bin_end": 0.2982576,
            "count": 0
           },
           {
            "bin_start": 0.2982576,
            "bin_end": 0.3976768,
            "count": 3
           },
           {
            "bin_start": 0.3976768,
            "bin_end": 0.497096,
            "count": 0
           },
           {
            "bin_start": 0.497096,
            "bin_end": 0.5965152,
            "count": 1
           },
           {
            "bin_start": 0.5965152,
            "bin_end": 0.6959344,
            "count": 0
           },
           {
            "bin_start": 0.6959344,
            "bin_end": 0.7953536,
            "count": 0
           },
           {
            "bin_start": 0.7953536,
            "bin_end": 0.8947728,
            "count": 1
           },
           {
            "bin_start": 0.8947728,
            "bin_end": 0.994192,
            "count": 76
           }
          ]
         }
        },
        {
         "name": 10874,
         "dtype": "float64",
         "stats": {
          "unique_count": 149,
          "nan_count": 0,
          "min": "0.0",
          "max": "0.857143",
          "histogram": [
           {
            "bin_start": 0,
            "bin_end": 0.0857143,
            "count": 3
           },
           {
            "bin_start": 0.0857143,
            "bin_end": 0.1714286,
            "count": 0
           },
           {
            "bin_start": 0.1714286,
            "bin_end": 0.25714289999999995,
            "count": 1
           },
           {
            "bin_start": 0.25714289999999995,
            "bin_end": 0.3428572,
            "count": 7
           },
           {
            "bin_start": 0.3428572,
            "bin_end": 0.4285715,
            "count": 61
           },
           {
            "bin_start": 0.4285715,
            "bin_end": 0.5142857999999999,
            "count": 1
           },
           {
            "bin_start": 0.5142857999999999,
            "bin_end": 0.6000000999999999,
            "count": 2
           },
           {
            "bin_start": 0.6000000999999999,
            "bin_end": 0.6857144,
            "count": 72
           },
           {
            "bin_start": 0.6857144,
            "bin_end": 0.7714287,
            "count": 1
           },
           {
            "bin_start": 0.7714287,
            "bin_end": 0.857143,
            "count": 2
           }
          ]
         }
        },
        {
         "name": 10875,
         "dtype": "float64",
         "stats": {
          "unique_count": 132,
          "nan_count": 0,
          "min": "0.0",
          "max": "0.994054",
          "histogram": [
           {
            "bin_start": 0,
            "bin_end": 0.0994054,
            "count": 77
           },
           {
            "bin_start": 0.0994054,
            "bin_end": 0.1988108,
            "count": 0
           },
           {
            "bin_start": 0.1988108,
            "bin_end": 0.29821620000000004,
            "count": 0
           },
           {
            "bin_start": 0.29821620000000004,
            "bin_end": 0.3976216,
            "count": 0
           },
           {
            "bin_start": 0.3976216,
            "bin_end": 0.497027,
            "count": 1
           },
           {
            "bin_start": 0.497027,
            "bin_end": 0.5964324000000001,
            "count": 0
           },
           {
            "bin_start": 0.5964324000000001,
            "bin_end": 0.6958378000000001,
            "count": 2
           },
           {
            "bin_start": 0.6958378000000001,
            "bin_end": 0.7952432,
            "count": 1
           },
           {
            "bin_start": 0.7952432,
            "bin_end": 0.8946486,
            "count": 0
           },
           {
            "bin_start": 0.8946486,
            "bin_end": 0.994054,
            "count": 69
           }
          ]
         }
        },
        {
         "name": 10876,
         "dtype": "float64",
         "stats": {
          "unique_count": 89,
          "nan_count": 0,
          "min": "0.0",
          "max": "0.994231",
          "histogram": [
           {
            "bin_start": 0,
            "bin_end": 0.0994231,
            "count": 68
           },
           {
            "bin_start": 0.0994231,
            "bin_end": 0.1988462,
            "count": 1
           },
           {
            "bin_start": 0.1988462,
            "bin_end": 0.2982693,
            "count": 1
           },
           {
            "bin_start": 0.2982693,
            "bin_end": 0.3976924,
            "count": 2
           },
           {
            "bin_start": 0.3976924,
            "bin_end": 0.4971155,
            "count": 0
           },
           {
            "bin_start": 0.4971155,
            "bin_end": 0.5965386,
            "count": 1
           },
           {
            "bin_start": 0.5965386,
            "bin_end": 0.6959617,
            "count": 0
           },
           {
            "bin_start": 0.6959617,
            "bin_end": 0.7953848,
            "count": 0
           },
           {
            "bin_start": 0.7953848,
            "bin_end": 0.8948079,
            "count": 1
           },
           {
            "bin_start": 0.8948079,
            "bin_end": 0.994231,
            "count": 76
           }
          ]
         }
        },
        {
         "name": 10877,
         "dtype": "float64",
         "stats": {
          "unique_count": 122,
          "nan_count": 0,
          "min": "0.0",
          "max": "1.0",
          "histogram": [
           {
            "bin_start": 0,
            "bin_end": 0.1,
            "count": 69
           },
           {
            "bin_start": 0.1,
            "bin_end": 0.2,
            "count": 0
           },
           {
            "bin_start": 0.2,
            "bin_end": 0.30000000000000004,
            "count": 0
           },
           {
            "bin_start": 0.30000000000000004,
            "bin_end": 0.4,
            "count": 3
           },
           {
            "bin_start": 0.4,
            "bin_end": 0.5,
            "count": 0
           },
           {
            "bin_start": 0.5,
            "bin_end": 0.6000000000000001,
            "count": 1
           },
           {
            "bin_start": 0.6000000000000001,
            "bin_end": 0.7000000000000001,
            "count": 0
           },
           {
            "bin_start": 0.7000000000000001,
            "bin_end": 0.8,
            "count": 0
           },
           {
            "bin_start": 0.8,
            "bin_end": 0.9,
            "count": 0
           },
           {
            "bin_start": 0.9,
            "bin_end": 1,
            "count": 77
           }
          ]
         }
        },
        {
         "name": 10878,
         "dtype": "float64",
         "stats": {
          "unique_count": 133,
          "nan_count": 0,
          "min": "0.0",
          "max": "1.0",
          "histogram": [
           {
            "bin_start": 0,
            "bin_end": 0.1,
            "count": 77
           },
           {
            "bin_start": 0.1,
            "bin_end": 0.2,
            "count": 0
           },
           {
            "bin_start": 0.2,
            "bin_end": 0.30000000000000004,
            "count": 0
           },
           {
            "bin_start": 0.30000000000000004,
            "bin_end": 0.4,
            "count": 0
           },
           {
            "bin_start": 0.4,
            "bin_end": 0.5,
            "count": 1
           },
           {
            "bin_start": 0.5,
            "bin_end": 0.6000000000000001,
            "count": 0
           },
           {
            "bin_start": 0.6000000000000001,
            "bin_end": 0.7000000000000001,
            "count": 1
           },
           {
            "bin_start": 0.7000000000000001,
            "bin_end": 0.8,
            "count": 2
           },
           {
            "bin_start": 0.8,
            "bin_end": 0.9,
            "count": 0
           },
           {
            "bin_start": 0.9,
            "bin_end": 1,
            "count": 69
           }
          ]
         }
        },
        {
         "name": 10880,
         "dtype": "float64",
         "stats": {
          "unique_count": 83,
          "nan_count": 0,
          "min": "0.0",
          "max": "0.996656",
          "histogram": [
           {
            "bin_start": 0,
            "bin_end": 0.0996656,
            "count": 68
           },
           {
            "bin_start": 0.0996656,
            "bin_end": 0.1993312,
            "count": 1
           },
           {
            "bin_start": 0.1993312,
            "bin_end": 0.29899679999999995,
            "count": 0
           },
           {
            "bin_start": 0.29899679999999995,
            "bin_end": 0.3986624,
            "count": 3
           },
           {
            "bin_start": 0.3986624,
            "bin_end": 0.498328,
            "count": 0
           },
           {
            "bin_start": 0.498328,
            "bin_end": 0.5979935999999999,
            "count": 1
           },
           {
            "bin_start": 0.5979935999999999,
            "bin_end": 0.6976591999999999,
            "count": 0
           },
           {
            "bin_start": 0.6976591999999999,
            "bin_end": 0.7973248,
            "count": 0
           },
           {
            "bin_start": 0.7973248,
            "bin_end": 0.8969904,
            "count": 1
           },
           {
            "bin_start": 0.8969904,
            "bin_end": 0.996656,
            "count": 76
           }
          ]
         }
        },
        {
         "name": 10881,
         "dtype": "float64",
         "stats": {
          "unique_count": 131,
          "nan_count": 0,
          "min": "0.0",
          "max": "0.989822",
          "histogram": [
           {
            "bin_start": 0,
            "bin_end": 0.09898219999999999,
            "count": 77
           },
           {
            "bin_start": 0.09898219999999999,
            "bin_end": 0.19796439999999998,
            "count": 0
           },
           {
            "bin_start": 0.19796439999999998,
            "bin_end": 0.29694659999999995,
            "count": 0
           },
           {
            "bin_start": 0.29694659999999995,
            "bin_end": 0.39592879999999997,
            "count": 0
           },
           {
            "bin_start": 0.39592879999999997,
            "bin_end": 0.494911,
            "count": 1
           },
           {
            "bin_start": 0.494911,
            "bin_end": 0.5938931999999999,
            "count": 0
           },
           {
            "bin_start": 0.5938931999999999,
            "bin_end": 0.6928753999999999,
            "count": 3
           },
           {
            "bin_start": 0.6928753999999999,
            "bin_end": 0.7918575999999999,
            "count": 0
           },
           {
            "bin_start": 0.7918575999999999,
            "bin_end": 0.8908398,
            "count": 1
           },
           {
            "bin_start": 0.8908398,
            "bin_end": 0.989822,
            "count": 68
           }
          ]
         }
        },
        {
         "name": 10882,
         "dtype": "float64",
         "stats": {
          "unique_count": 119,
          "nan_count": 0,
          "min": "0.0",
          "max": "0.998941",
          "histogram": [
           {
            "bin_start": 0,
            "bin_end": 0.0998941,
            "count": 77
           },
           {
            "bin_start": 0.0998941,
            "bin_end": 0.1997882,
            "count": 0
           },
           {
            "bin_start": 0.1997882,
            "bin_end": 0.2996823,
            "count": 0
           },
           {
            "bin_start": 0.2996823,
            "bin_end": 0.3995764,
            "count": 0
           },
           {
            "bin_start": 0.3995764,
            "bin_end": 0.4994705,
            "count": 1
           },
           {
            "bin_start": 0.4994705,
            "bin_end": 0.5993646,
            "count": 0
           },
           {
            "bin_start": 0.5993646,
            "bin_end": 0.6992587,
            "count": 3
           },
           {
            "bin_start": 0.6992587,
            "bin_end": 0.7991528,
            "count": 0
           },
           {
            "bin_start": 0.7991528,
            "bin_end": 0.8990469,
            "count": 0
           },
           {
            "bin_start": 0.8990469,
            "bin_end": 0.998941,
            "count": 69
           }
          ]
         }
        },
        {
         "name": 10883,
         "dtype": "float64",
         "stats": {
          "unique_count": 128,
          "nan_count": 0,
          "min": "0.0",
          "max": "1.0",
          "histogram": [
           {
            "bin_start": 0,
            "bin_end": 0.1,
            "count": 77
           },
           {
            "bin_start": 0.1,
            "bin_end": 0.2,
            "count": 0
           },
           {
            "bin_start": 0.2,
            "bin_end": 0.30000000000000004,
            "count": 0
           },
           {
            "bin_start": 0.30000000000000004,
            "bin_end": 0.4,
            "count": 0
           },
           {
            "bin_start": 0.4,
            "bin_end": 0.5,
            "count": 1
           },
           {
            "bin_start": 0.5,
            "bin_end": 0.6000000000000001,
            "count": 0
           },
           {
            "bin_start": 0.6000000000000001,
            "bin_end": 0.7000000000000001,
            "count": 2
           },
           {
            "bin_start": 0.7000000000000001,
            "bin_end": 0.8,
            "count": 1
           },
           {
            "bin_start": 0.8,
            "bin_end": 0.9,
            "count": 0
           },
           {
            "bin_start": 0.9,
            "bin_end": 1,
            "count": 69
           }
          ]
         }
        },
        {
         "name": 10884,
         "dtype": "float64",
         "stats": {
          "unique_count": 82,
          "nan_count": 0,
          "min": "0.0",
          "max": "1.0",
          "histogram": [
           {
            "bin_start": 0,
            "bin_end": 0.1,
            "count": 68
           },
           {
            "bin_start": 0.1,
            "bin_end": 0.2,
            "count": 1
           },
           {
            "bin_start": 0.2,
            "bin_end": 0.30000000000000004,
            "count": 1
           },
           {
            "bin_start": 0.30000000000000004,
            "bin_end": 0.4,
            "count": 2
           },
           {
            "bin_start": 0.4,
            "bin_end": 0.5,
            "count": 0
           },
           {
            "bin_start": 0.5,
            "bin_end": 0.6000000000000001,
            "count": 1
           },
           {
            "bin_start": 0.6000000000000001,
            "bin_end": 0.7000000000000001,
            "count": 0
           },
           {
            "bin_start": 0.7000000000000001,
            "bin_end": 0.8,
            "count": 0
           },
           {
            "bin_start": 0.8,
            "bin_end": 0.9,
            "count": 0
           },
           {
            "bin_start": 0.9,
            "bin_end": 1,
            "count": 77
           }
          ]
         }
        },
        {
         "name": 10885,
         "dtype": "float64",
         "stats": {
          "unique_count": 87,
          "nan_count": 0,
          "min": "0.0",
          "max": "0.992936",
          "histogram": [
           {
            "bin_start": 0,
            "bin_end": 0.09929360000000001,
            "count": 68
           },
           {
            "bin_start": 0.09929360000000001,
            "bin_end": 0.19858720000000002,
            "count": 1
           },
           {
            "bin_start": 0.19858720000000002,
            "bin_end": 0.29788080000000006,
            "count": 0
           },
           {
            "bin_start": 0.29788080000000006,
            "bin_end": 0.39717440000000004,
            "count": 3
           },
           {
            "bin_start": 0.39717440000000004,
            "bin_end": 0.496468,
            "count": 0
           },
           {
            "bin_start": 0.496468,
            "bin_end": 0.5957616000000001,
            "count": 1
           },
           {
            "bin_start": 0.5957616000000001,
            "bin_end": 0.6950552000000001,
            "count": 0
           },
           {
            "bin_start": 0.6950552000000001,
            "bin_end": 0.7943488000000001,
            "count": 0
           },
           {
            "bin_start": 0.7943488000000001,
            "bin_end": 0.8936424000000001,
            "count": 1
           },
           {
            "bin_start": 0.8936424000000001,
            "bin_end": 0.992936,
            "count": 76
           }
          ]
         }
        },
        {
         "name": 10886,
         "dtype": "float64",
         "stats": {
          "unique_count": 116,
          "nan_count": 0,
          "min": "0.0",
          "max": "0.998828",
          "histogram": [
           {
            "bin_start": 0,
            "bin_end": 0.09988280000000001,
            "count": 77
           },
           {
            "bin_start": 0.09988280000000001,
            "bin_end": 0.19976560000000002,
            "count": 0
           },
           {
            "bin_start": 0.19976560000000002,
            "bin_end": 0.29964840000000004,
            "count": 0
           },
           {
            "bin_start": 0.29964840000000004,
            "bin_end": 0.39953120000000003,
            "count": 0
           },
           {
            "bin_start": 0.39953120000000003,
            "bin_end": 0.499414,
            "count": 1
           },
           {
            "bin_start": 0.499414,
            "bin_end": 0.5992968000000001,
            "count": 0
           },
           {
            "bin_start": 0.5992968000000001,
            "bin_end": 0.6991796,
            "count": 2
           },
           {
            "bin_start": 0.6991796,
            "bin_end": 0.7990624000000001,
            "count": 1
           },
           {
            "bin_start": 0.7990624000000001,
            "bin_end": 0.8989452000000001,
            "count": 1
           },
           {
            "bin_start": 0.8989452000000001,
            "bin_end": 0.998828,
            "count": 68
           }
          ]
         }
        },
        {
         "name": 10887,
         "dtype": "float64",
         "stats": {
          "unique_count": 84,
          "nan_count": 0,
          "min": "0.0",
          "max": "0.995976",
          "histogram": [
           {
            "bin_start": 0,
            "bin_end": 0.0995976,
            "count": 68
           },
           {
            "bin_start": 0.0995976,
            "bin_end": 0.1991952,
            "count": 1
           },
           {
            "bin_start": 0.1991952,
            "bin_end": 0.29879279999999997,
            "count": 1
           },
           {
            "bin_start": 0.29879279999999997,
            "bin_end": 0.3983904,
            "count": 2
           },
           {
            "bin_start": 0.3983904,
            "bin_end": 0.497988,
            "count": 0
           },
           {
            "bin_start": 0.497988,
            "bin_end": 0.5975855999999999,
            "count": 1
           },
           {
            "bin_start": 0.5975855999999999,
            "bin_end": 0.6971832,
            "count": 0
           },
           {
            "bin_start": 0.6971832,
            "bin_end": 0.7967808,
            "count": 0
           },
           {
            "bin_start": 0.7967808,
            "bin_end": 0.8963783999999999,
            "count": 0
           },
           {
            "bin_start": 0.8963783999999999,
            "bin_end": 0.995976,
            "count": 77
           }
          ]
         }
        },
        {
         "name": 10888,
         "dtype": "float64",
         "stats": {
          "unique_count": 114,
          "nan_count": 0,
          "min": "0.0",
          "max": "0.998894",
          "histogram": [
           {
            "bin_start": 0,
            "bin_end": 0.09988939999999999,
            "count": 77
           },
           {
            "bin_start": 0.09988939999999999,
            "bin_end": 0.19977879999999998,
            "count": 0
           },
           {
            "bin_start": 0.19977879999999998,
            "bin_end": 0.29966819999999994,
            "count": 0
           },
           {
            "bin_start": 0.29966819999999994,
            "bin_end": 0.39955759999999996,
            "count": 0
           },
           {
            "bin_start": 0.39955759999999996,
            "bin_end": 0.499447,
            "count": 0
           },
           {
            "bin_start": 0.499447,
            "bin_end": 0.5993363999999999,
            "count": 1
           },
           {
            "bin_start": 0.5993363999999999,
            "bin_end": 0.6992257999999999,
            "count": 3
           },
           {
            "bin_start": 0.6992257999999999,
            "bin_end": 0.7991151999999999,
            "count": 0
           },
           {
            "bin_start": 0.7991151999999999,
            "bin_end": 0.8990045999999999,
            "count": 0
           },
           {
            "bin_start": 0.8990045999999999,
            "bin_end": 0.998894,
            "count": 69
           }
          ]
         }
        },
        {
         "name": 10890,
         "dtype": "float64",
         "stats": {
          "unique_count": 117,
          "nan_count": 0,
          "min": "0.0",
          "max": "0.99909",
          "histogram": [
           {
            "bin_start": 0,
            "bin_end": 0.099909,
            "count": 77
           },
           {
            "bin_start": 0.099909,
            "bin_end": 0.199818,
            "count": 0
           },
           {
            "bin_start": 0.199818,
            "bin_end": 0.29972699999999997,
            "count": 0
           },
           {
            "bin_start": 0.29972699999999997,
            "bin_end": 0.399636,
            "count": 0
           },
           {
            "bin_start": 0.399636,
            "bin_end": 0.499545,
            "count": 1
           },
           {
            "bin_start": 0.499545,
            "bin_end": 0.5994539999999999,
            "count": 0
           },
           {
            "bin_start": 0.5994539999999999,
            "bin_end": 0.699363,
            "count": 3
           },
           {
            "bin_start": 0.699363,
            "bin_end": 0.799272,
            "count": 0
           },
           {
            "bin_start": 0.799272,
            "bin_end": 0.899181,
            "count": 0
           },
           {
            "bin_start": 0.899181,
            "bin_end": 0.99909,
            "count": 69
           }
          ]
         }
        },
        {
         "name": 10892,
         "dtype": "float64",
         "stats": {
          "unique_count": 99,
          "nan_count": 0,
          "min": "0.0",
          "max": "0.997573",
          "histogram": [
           {
            "bin_start": 0,
            "bin_end": 0.09975730000000001,
            "count": 77
           },
           {
            "bin_start": 0.09975730000000001,
            "bin_end": 0.19951460000000001,
            "count": 0
           },
           {
            "bin_start": 0.19951460000000001,
            "bin_end": 0.29927190000000004,
            "count": 0
           },
           {
            "bin_start": 0.29927190000000004,
            "bin_end": 0.39902920000000003,
            "count": 0
           },
           {
            "bin_start": 0.39902920000000003,
            "bin_end": 0.4987865,
            "count": 1
           },
           {
            "bin_start": 0.4987865,
            "bin_end": 0.5985438000000001,
            "count": 0
           },
           {
            "bin_start": 0.5985438000000001,
            "bin_end": 0.6983011,
            "count": 2
           },
           {
            "bin_start": 0.6983011,
            "bin_end": 0.7980584000000001,
            "count": 1
           },
           {
            "bin_start": 0.7980584000000001,
            "bin_end": 0.8978157000000001,
            "count": 1
           },
           {
            "bin_start": 0.8978157000000001,
            "bin_end": 0.997573,
            "count": 68
           }
          ]
         }
        },
        {
         "name": 10893,
         "dtype": "float64",
         "stats": {
          "unique_count": 89,
          "nan_count": 0,
          "min": "0.0",
          "max": "0.997",
          "histogram": [
           {
            "bin_start": 0,
            "bin_end": 0.0997,
            "count": 68
           },
           {
            "bin_start": 0.0997,
            "bin_end": 0.1994,
            "count": 1
           },
           {
            "bin_start": 0.1994,
            "bin_end": 0.2991,
            "count": 0
           },
           {
            "bin_start": 0.2991,
            "bin_end": 0.3988,
            "count": 3
           },
           {
            "bin_start": 0.3988,
            "bin_end": 0.4985,
            "count": 0
           },
           {
            "bin_start": 0.4985,
            "bin_end": 0.5982,
            "count": 1
           },
           {
            "bin_start": 0.5982,
            "bin_end": 0.6979,
            "count": 0
           },
           {
            "bin_start": 0.6979,
            "bin_end": 0.7976,
            "count": 0
           },
           {
            "bin_start": 0.7976,
            "bin_end": 0.8973,
            "count": 0
           },
           {
            "bin_start": 0.8973,
            "bin_end": 0.997,
            "count": 77
           }
          ]
         }
        },
        {
         "name": 10894,
         "dtype": "float64",
         "stats": {
          "unique_count": 135,
          "nan_count": 0,
          "min": "0.0",
          "max": "0.993884",
          "histogram": [
           {
            "bin_start": 0,
            "bin_end": 0.0993884,
            "count": 77
           },
           {
            "bin_start": 0.0993884,
            "bin_end": 0.1987768,
            "count": 0
           },
           {
            "bin_start": 0.1987768,
            "bin_end": 0.2981652,
            "count": 0
           },
           {
            "bin_start": 0.2981652,
            "bin_end": 0.3975536,
            "count": 0
           },
           {
            "bin_start": 0.3975536,
            "bin_end": 0.496942,
            "count": 1
           },
           {
            "bin_start": 0.496942,
            "bin_end": 0.5963304,
            "count": 0
           },
           {
            "bin_start": 0.5963304,
            "bin_end": 0.6957188,
            "count": 1
           },
           {
            "bin_start": 0.6957188,
            "bin_end": 0.7951072,
            "count": 2
           },
           {
            "bin_start": 0.7951072,
            "bin_end": 0.8944956000000001,
            "count": 0
           },
           {
            "bin_start": 0.8944956000000001,
            "bin_end": 0.993884,
            "count": 69
           }
          ]
         }
        },
        {
         "name": 10895,
         "dtype": "float64",
         "stats": {
          "unique_count": 84,
          "nan_count": 0,
          "min": "0.0",
          "max": "0.992399",
          "histogram": [
           {
            "bin_start": 0,
            "bin_end": 0.0992399,
            "count": 68
           },
           {
            "bin_start": 0.0992399,
            "bin_end": 0.1984798,
            "count": 1
           },
           {
            "bin_start": 0.1984798,
            "bin_end": 0.29771970000000003,
            "count": 0
           },
           {
            "bin_start": 0.29771970000000003,
            "bin_end": 0.3969596,
            "count": 3
           },
           {
            "bin_start": 0.3969596,
            "bin_end": 0.4961995,
            "count": 0
           },
           {
            "bin_start": 0.4961995,
            "bin_end": 0.5954394000000001,
            "count": 1
           },
           {
            "bin_start": 0.5954394000000001,
            "bin_end": 0.6946793,
            "count": 0
           },
           {
            "bin_start": 0.6946793,
            "bin_end": 0.7939192,
            "count": 0
           },
           {
            "bin_start": 0.7939192,
            "bin_end": 0.8931591000000001,
            "count": 1
           },
           {
            "bin_start": 0.8931591000000001,
            "bin_end": 0.992399,
            "count": 76
           }
          ]
         }
        },
        {
         "name": 10896,
         "dtype": "float64",
         "stats": {
          "unique_count": 129,
          "nan_count": 0,
          "min": "0.0",
          "max": "0.998366",
          "histogram": [
           {
            "bin_start": 0,
            "bin_end": 0.0998366,
            "count": 77
           },
           {
            "bin_start": 0.0998366,
            "bin_end": 0.1996732,
            "count": 0
           },
           {
            "bin_start": 0.1996732,
            "bin_end": 0.2995098,
            "count": 0
           },
           {
            "bin_start": 0.2995098,
            "bin_end": 0.3993464,
            "count": 0
           },
           {
            "bin_start": 0.3993464,
            "bin_end": 0.499183,
            "count": 1
           },
           {
            "bin_start": 0.499183,
            "bin_end": 0.5990196,
            "count": 0
           },
           {
            "bin_start": 0.5990196,
            "bin_end": 0.6988562,
            "count": 1
           },
           {
            "bin_start": 0.6988562,
            "bin_end": 0.7986928,
            "count": 2
           },
           {
            "bin_start": 0.7986928,
            "bin_end": 0.8985293999999999,
            "count": 0
           },
           {
            "bin_start": 0.8985293999999999,
            "bin_end": 0.998366,
            "count": 69
           }
          ]
         }
        },
        {
         "name": 10907,
         "dtype": "float64",
         "stats": {
          "unique_count": 87,
          "nan_count": 0,
          "min": "0.0",
          "max": "0.995441",
          "histogram": [
           {
            "bin_start": 0,
            "bin_end": 0.0995441,
            "count": 69
           },
           {
            "bin_start": 0.0995441,
            "bin_end": 0.1990882,
            "count": 0
           },
           {
            "bin_start": 0.1990882,
            "bin_end": 0.29863229999999996,
            "count": 1
           },
           {
            "bin_start": 0.29863229999999996,
            "bin_end": 0.3981764,
            "count": 2
           },
           {
            "bin_start": 0.3981764,
            "bin_end": 0.4977205,
            "count": 0
           },
           {
            "bin_start": 0.4977205,
            "bin_end": 0.5972645999999999,
            "count": 0
           },
           {
            "bin_start": 0.5972645999999999,
            "bin_end": 0.6968087,
            "count": 1
           },
           {
            "bin_start": 0.6968087,
            "bin_end": 0.7963528,
            "count": 0
           },
           {
            "bin_start": 0.7963528,
            "bin_end": 0.8958969,
            "count": 1
           },
           {
            "bin_start": 0.8958969,
            "bin_end": 0.995441,
            "count": 76
           }
          ]
         }
        },
        {
         "name": 10910,
         "dtype": "float64",
         "stats": {
          "unique_count": 125,
          "nan_count": 0,
          "min": "0.0",
          "max": "0.995298",
          "histogram": [
           {
            "bin_start": 0,
            "bin_end": 0.0995298,
            "count": 69
           },
           {
            "bin_start": 0.0995298,
            "bin_end": 0.1990596,
            "count": 0
           },
           {
            "bin_start": 0.1990596,
            "bin_end": 0.2985894,
            "count": 0
           },
           {
            "bin_start": 0.2985894,
            "bin_end": 0.3981192,
            "count": 3
           },
           {
            "bin_start": 0.3981192,
            "bin_end": 0.497649,
            "count": 0
           },
           {
            "bin_start": 0.497649,
            "bin_end": 0.5971788,
            "count": 1
           },
           {
            "bin_start": 0.5971788,
            "bin_end": 0.6967086,
            "count": 0
           },
           {
            "bin_start": 0.6967086,
            "bin_end": 0.7962384,
            "count": 0
           },
           {
            "bin_start": 0.7962384,
            "bin_end": 0.8957682,
            "count": 1
           },
           {
            "bin_start": 0.8957682,
            "bin_end": 0.995298,
            "count": 76
           }
          ]
         }
        },
        {
         "name": 10911,
         "dtype": "float64",
         "stats": {
          "unique_count": 78,
          "nan_count": 0,
          "min": "0.0",
          "max": "0.998494",
          "histogram": [
           {
            "bin_start": 0,
            "bin_end": 0.0998494,
            "count": 69
           },
           {
            "bin_start": 0.0998494,
            "bin_end": 0.1996988,
            "count": 0
           },
           {
            "bin_start": 0.1996988,
            "bin_end": 0.29954820000000004,
            "count": 0
           },
           {
            "bin_start": 0.29954820000000004,
            "bin_end": 0.3993976,
            "count": 3
           },
           {
            "bin_start": 0.3993976,
            "bin_end": 0.499247,
            "count": 0
           },
           {
            "bin_start": 0.499247,
            "bin_end": 0.5990964000000001,
            "count": 0
           },
           {
            "bin_start": 0.5990964000000001,
            "bin_end": 0.6989458000000001,
            "count": 1
           },
           {
            "bin_start": 0.6989458000000001,
            "bin_end": 0.7987952,
            "count": 0
           },
           {
            "bin_start": 0.7987952,
            "bin_end": 0.8986446,
            "count": 1
           },
           {
            "bin_start": 0.8986446,
            "bin_end": 0.998494,
            "count": 76
           }
          ]
         }
        },
        {
         "name": 10917,
         "dtype": "float64",
         "stats": {
          "unique_count": 143,
          "nan_count": 0,
          "min": "0.0",
          "max": "0.993151",
          "histogram": [
           {
            "bin_start": 0,
            "bin_end": 0.0993151,
            "count": 76
           },
           {
            "bin_start": 0.0993151,
            "bin_end": 0.1986302,
            "count": 0
           },
           {
            "bin_start": 0.1986302,
            "bin_end": 0.2979453,
            "count": 0
           },
           {
            "bin_start": 0.2979453,
            "bin_end": 0.3972604,
            "count": 1
           },
           {
            "bin_start": 0.3972604,
            "bin_end": 0.4965755,
            "count": 1
           },
           {
            "bin_start": 0.4965755,
            "bin_end": 0.5958906,
            "count": 0
           },
           {
            "bin_start": 0.5958906,
            "bin_end": 0.6952057,
            "count": 3
           },
           {
            "bin_start": 0.6952057,
            "bin_end": 0.7945208,
            "count": 0
           },
           {
            "bin_start": 0.7945208,
            "bin_end": 0.8938359,
            "count": 0
           },
           {
            "bin_start": 0.8938359,
            "bin_end": 0.993151,
            "count": 69
           }
          ]
         }
        },
        {
         "name": 10918,
         "dtype": "float64",
         "stats": {
          "unique_count": 76,
          "nan_count": 0,
          "min": "0.0",
          "max": "1.0",
          "histogram": [
           {
            "bin_start": 0,
            "bin_end": 0.1,
            "count": 77
           },
           {
            "bin_start": 0.1,
            "bin_end": 0.2,
            "count": 0
           },
           {
            "bin_start": 0.2,
            "bin_end": 0.30000000000000004,
            "count": 0
           },
           {
            "bin_start": 0.30000000000000004,
            "bin_end": 0.4,
            "count": 0
           },
           {
            "bin_start": 0.4,
            "bin_end": 0.5,
            "count": 1
           },
           {
            "bin_start": 0.5,
            "bin_end": 0.6000000000000001,
            "count": 0
           },
           {
            "bin_start": 0.6000000000000001,
            "bin_end": 0.7000000000000001,
            "count": 3
           },
           {
            "bin_start": 0.7000000000000001,
            "bin_end": 0.8,
            "count": 0
           },
           {
            "bin_start": 0.8,
            "bin_end": 0.9,
            "count": 0
           },
           {
            "bin_start": 0.9,
            "bin_end": 1,
            "count": 69
           }
          ]
         }
        },
        {
         "name": 10919,
         "dtype": "float64",
         "stats": {
          "unique_count": 83,
          "nan_count": 0,
          "min": "0.0",
          "max": "0.997836",
          "histogram": [
           {
            "bin_start": 0,
            "bin_end": 0.0997836,
            "count": 69
           },
           {
            "bin_start": 0.0997836,
            "bin_end": 0.1995672,
            "count": 0
           },
           {
            "bin_start": 0.1995672,
            "bin_end": 0.29935080000000003,
            "count": 1
           },
           {
            "bin_start": 0.29935080000000003,
            "bin_end": 0.3991344,
            "count": 2
           },
           {
            "bin_start": 0.3991344,
            "bin_end": 0.498918,
            "count": 0
           },
           {
            "bin_start": 0.498918,
            "bin_end": 0.5987016000000001,
            "count": 0
           },
           {
            "bin_start": 0.5987016000000001,
            "bin_end": 0.6984852,
            "count": 1
           },
           {
            "bin_start": 0.6984852,
            "bin_end": 0.7982688,
            "count": 0
           },
           {
            "bin_start": 0.7982688,
            "bin_end": 0.8980524,
            "count": 0
           },
           {
            "bin_start": 0.8980524,
            "bin_end": 0.997836,
            "count": 77
           }
          ]
         }
        },
        {
         "name": 10920,
         "dtype": "float64",
         "stats": {
          "unique_count": 95,
          "nan_count": 0,
          "min": "0.0",
          "max": "0.998221",
          "histogram": [
           {
            "bin_start": 0,
            "bin_end": 0.0998221,
            "count": 77
           },
           {
            "bin_start": 0.0998221,
            "bin_end": 0.1996442,
            "count": 0
           },
           {
            "bin_start": 0.1996442,
            "bin_end": 0.29946629999999996,
            "count": 0
           },
           {
            "bin_start": 0.29946629999999996,
            "bin_end": 0.3992884,
            "count": 0
           },
           {
            "bin_start": 0.3992884,
            "bin_end": 0.4991105,
            "count": 1
           },
           {
            "bin_start": 0.4991105,
            "bin_end": 0.5989325999999999,
            "count": 0
           },
           {
            "bin_start": 0.5989325999999999,
            "bin_end": 0.6987547,
            "count": 3
           },
           {
            "bin_start": 0.6987547,
            "bin_end": 0.7985768,
            "count": 0
           },
           {
            "bin_start": 0.7985768,
            "bin_end": 0.8983989,
            "count": 0
           },
           {
            "bin_start": 0.8983989,
            "bin_end": 0.998221,
            "count": 69
           }
          ]
         }
        },
        {
         "name": 10921,
         "dtype": "float64",
         "stats": {
          "unique_count": 83,
          "nan_count": 0,
          "min": "0.0",
          "max": "0.996183",
          "histogram": [
           {
            "bin_start": 0,
            "bin_end": 0.0996183,
            "count": 69
           },
           {
            "bin_start": 0.0996183,
            "bin_end": 0.1992366,
            "count": 0
           },
           {
            "bin_start": 0.1992366,
            "bin_end": 0.29885490000000003,
            "count": 0
           },
           {
            "bin_start": 0.29885490000000003,
            "bin_end": 0.3984732,
            "count": 3
           },
           {
            "bin_start": 0.3984732,
            "bin_end": 0.4980915,
            "count": 0
           },
           {
            "bin_start": 0.4980915,
            "bin_end": 0.5977098000000001,
            "count": 0
           },
           {
            "bin_start": 0.5977098000000001,
            "bin_end": 0.6973281,
            "count": 1
           },
           {
            "bin_start": 0.6973281,
            "bin_end": 0.7969464,
            "count": 0
           },
           {
            "bin_start": 0.7969464,
            "bin_end": 0.8965647000000001,
            "count": 1
           },
           {
            "bin_start": 0.8965647000000001,
            "bin_end": 0.996183,
            "count": 76
           }
          ]
         }
        },
        {
         "name": 10922,
         "dtype": "float64",
         "stats": {
          "unique_count": 80,
          "nan_count": 0,
          "min": "0.0",
          "max": "1.0",
          "histogram": [
           {
            "bin_start": 0,
            "bin_end": 0.1,
            "count": 77
           },
           {
            "bin_start": 0.1,
            "bin_end": 0.2,
            "count": 0
           },
           {
            "bin_start": 0.2,
            "bin_end": 0.30000000000000004,
            "count": 0
           },
           {
            "bin_start": 0.30000000000000004,
            "bin_end": 0.4,
            "count": 0
           },
           {
            "bin_start": 0.4,
            "bin_end": 0.5,
            "count": 1
           },
           {
            "bin_start": 0.5,
            "bin_end": 0.6000000000000001,
            "count": 0
           },
           {
            "bin_start": 0.6000000000000001,
            "bin_end": 0.7000000000000001,
            "count": 2
           },
           {
            "bin_start": 0.7000000000000001,
            "bin_end": 0.8,
            "count": 1
           },
           {
            "bin_start": 0.8,
            "bin_end": 0.9,
            "count": 0
           },
           {
            "bin_start": 0.9,
            "bin_end": 1,
            "count": 69
           }
          ]
         }
        },
        {
         "name": 10923,
         "dtype": "float64",
         "stats": {
          "unique_count": 74,
          "nan_count": 0,
          "min": "0.0",
          "max": "1.0",
          "histogram": [
           {
            "bin_start": 0,
            "bin_end": 0.1,
            "count": 77
           },
           {
            "bin_start": 0.1,
            "bin_end": 0.2,
            "count": 0
           },
           {
            "bin_start": 0.2,
            "bin_end": 0.30000000000000004,
            "count": 0
           },
           {
            "bin_start": 0.30000000000000004,
            "bin_end": 0.4,
            "count": 0
           },
           {
            "bin_start": 0.4,
            "bin_end": 0.5,
            "count": 1
           },
           {
            "bin_start": 0.5,
            "bin_end": 0.6000000000000001,
            "count": 0
           },
           {
            "bin_start": 0.6000000000000001,
            "bin_end": 0.7000000000000001,
            "count": 2
           },
           {
            "bin_start": 0.7000000000000001,
            "bin_end": 0.8,
            "count": 1
           },
           {
            "bin_start": 0.8,
            "bin_end": 0.9,
            "count": 0
           },
           {
            "bin_start": 0.9,
            "bin_end": 1,
            "count": 69
           }
          ]
         }
        },
        {
         "name": 10924,
         "dtype": "float64",
         "stats": {
          "unique_count": 82,
          "nan_count": 0,
          "min": "0.0",
          "max": "0.99823",
          "histogram": [
           {
            "bin_start": 0,
            "bin_end": 0.099823,
            "count": 69
           },
           {
            "bin_start": 0.099823,
            "bin_end": 0.199646,
            "count": 0
           },
           {
            "bin_start": 0.199646,
            "bin_end": 0.299469,
            "count": 1
           },
           {
            "bin_start": 0.299469,
            "bin_end": 0.399292,
            "count": 2
           },
           {
            "bin_start": 0.399292,
            "bin_end": 0.499115,
            "count": 0
           },
           {
            "bin_start": 0.499115,
            "bin_end": 0.598938,
            "count": 1
           },
           {
            "bin_start": 0.598938,
            "bin_end": 0.698761,
            "count": 0
           },
           {
            "bin_start": 0.698761,
            "bin_end": 0.798584,
            "count": 0
           },
           {
            "bin_start": 0.798584,
            "bin_end": 0.898407,
            "count": 0
           },
           {
            "bin_start": 0.898407,
            "bin_end": 0.99823,
            "count": 77
           }
          ]
         }
        },
        {
         "name": 10925,
         "dtype": "float64",
         "stats": {
          "unique_count": 86,
          "nan_count": 0,
          "min": "0.0",
          "max": "0.996146",
          "histogram": [
           {
            "bin_start": 0,
            "bin_end": 0.0996146,
            "count": 69
           },
           {
            "bin_start": 0.0996146,
            "bin_end": 0.1992292,
            "count": 0
           },
           {
            "bin_start": 0.1992292,
            "bin_end": 0.2988438,
            "count": 1
           },
           {
            "bin_start": 0.2988438,
            "bin_end": 0.3984584,
            "count": 2
           },
           {
            "bin_start": 0.3984584,
            "bin_end": 0.498073,
            "count": 0
           },
           {
            "bin_start": 0.498073,
            "bin_end": 0.5976876,
            "count": 1
           },
           {
            "bin_start": 0.5976876,
            "bin_end": 0.6973022,
            "count": 0
           },
           {
            "bin_start": 0.6973022,
            "bin_end": 0.7969168,
            "count": 0
           },
           {
            "bin_start": 0.7969168,
            "bin_end": 0.8965314,
            "count": 0
           },
           {
            "bin_start": 0.8965314,
            "bin_end": 0.996146,
            "count": 77
           }
          ]
         }
        },
        {
         "name": 10926,
         "dtype": "float64",
         "stats": {
          "unique_count": 86,
          "nan_count": 0,
          "min": "0.0",
          "max": "0.9947",
          "histogram": [
           {
            "bin_start": 0,
            "bin_end": 0.09947,
            "count": 69
           },
           {
            "bin_start": 0.09947,
            "bin_end": 0.19894,
            "count": 0
           },
           {
            "bin_start": 0.19894,
            "bin_end": 0.29841,
            "count": 0
           },
           {
            "bin_start": 0.29841,
            "bin_end": 0.39788,
            "count": 3
           },
           {
            "bin_start": 0.39788,
            "bin_end": 0.49735,
            "count": 0
           },
           {
            "bin_start": 0.49735,
            "bin_end": 0.59682,
            "count": 1
           },
           {
            "bin_start": 0.59682,
            "bin_end": 0.6962900000000001,
            "count": 0
           },
           {
            "bin_start": 0.6962900000000001,
            "bin_end": 0.79576,
            "count": 0
           },
           {
            "bin_start": 0.79576,
            "bin_end": 0.89523,
            "count": 1
           },
           {
            "bin_start": 0.89523,
            "bin_end": 0.9947,
            "count": 76
           }
          ]
         }
        },
        {
         "name": 10927,
         "dtype": "float64",
         "stats": {
          "unique_count": 81,
          "nan_count": 0,
          "min": "0.0",
          "max": "1.0",
          "histogram": [
           {
            "bin_start": 0,
            "bin_end": 0.1,
            "count": 77
           },
           {
            "bin_start": 0.1,
            "bin_end": 0.2,
            "count": 0
           },
           {
            "bin_start": 0.2,
            "bin_end": 0.30000000000000004,
            "count": 0
           },
           {
            "bin_start": 0.30000000000000004,
            "bin_end": 0.4,
            "count": 0
           },
           {
            "bin_start": 0.4,
            "bin_end": 0.5,
            "count": 1
           },
           {
            "bin_start": 0.5,
            "bin_end": 0.6000000000000001,
            "count": 0
           },
           {
            "bin_start": 0.6000000000000001,
            "bin_end": 0.7000000000000001,
            "count": 3
           },
           {
            "bin_start": 0.7000000000000001,
            "bin_end": 0.8,
            "count": 0
           },
           {
            "bin_start": 0.8,
            "bin_end": 0.9,
            "count": 0
           },
           {
            "bin_start": 0.9,
            "bin_end": 1,
            "count": 69
           }
          ]
         }
        },
        {
         "name": 10928,
         "dtype": "float64",
         "stats": {
          "unique_count": 133,
          "nan_count": 0,
          "min": "0.0",
          "max": "0.996769",
          "histogram": [
           {
            "bin_start": 0,
            "bin_end": 0.0996769,
            "count": 77
           },
           {
            "bin_start": 0.0996769,
            "bin_end": 0.1993538,
            "count": 0
           },
           {
            "bin_start": 0.1993538,
            "bin_end": 0.2990307,
            "count": 0
           },
           {
            "bin_start": 0.2990307,
            "bin_end": 0.3987076,
            "count": 0
           },
           {
            "bin_start": 0.3987076,
            "bin_end": 0.4983845,
            "count": 1
           },
           {
            "bin_start": 0.4983845,
            "bin_end": 0.5980614,
            "count": 0
           },
           {
            "bin_start": 0.5980614,
            "bin_end": 0.6977383,
            "count": 2
           },
           {
            "bin_start": 0.6977383,
            "bin_end": 0.7974152,
            "count": 1
           },
           {
            "bin_start": 0.7974152,
            "bin_end": 0.8970921,
            "count": 0
           },
           {
            "bin_start": 0.8970921,
            "bin_end": 0.996769,
            "count": 69
           }
          ]
         }
        },
        {
         "name": 10929,
         "dtype": "float64",
         "stats": {
          "unique_count": 150,
          "nan_count": 0,
          "min": "0.0",
          "max": "0.90625",
          "histogram": [
           {
            "bin_start": 0,
            "bin_end": 0.090625,
            "count": 3
           },
           {
            "bin_start": 0.090625,
            "bin_end": 0.18125,
            "count": 0
           },
           {
            "bin_start": 0.18125,
            "bin_end": 0.271875,
            "count": 4
           },
           {
            "bin_start": 0.271875,
            "bin_end": 0.3625,
            "count": 65
           },
           {
            "bin_start": 0.3625,
            "bin_end": 0.453125,
            "count": 0
           },
           {
            "bin_start": 0.453125,
            "bin_end": 0.54375,
            "count": 1
           },
           {
            "bin_start": 0.54375,
            "bin_end": 0.634375,
            "count": 0
           },
           {
            "bin_start": 0.634375,
            "bin_end": 0.725,
            "count": 68
           },
           {
            "bin_start": 0.725,
            "bin_end": 0.8156249999999999,
            "count": 8
           },
           {
            "bin_start": 0.8156249999999999,
            "bin_end": 0.90625,
            "count": 1
           }
          ]
         }
        },
        {
         "name": 10930,
         "dtype": "float64",
         "stats": {
          "unique_count": 83,
          "nan_count": 0,
          "min": "0.0",
          "max": "0.995772",
          "histogram": [
           {
            "bin_start": 0,
            "bin_end": 0.0995772,
            "count": 69
           },
           {
            "bin_start": 0.0995772,
            "bin_end": 0.1991544,
            "count": 0
           },
           {
            "bin_start": 0.1991544,
            "bin_end": 0.2987316,
            "count": 1
           },
           {
            "bin_start": 0.2987316,
            "bin_end": 0.3983088,
            "count": 2
           },
           {
            "bin_start": 0.3983088,
            "bin_end": 0.49788600000000005,
            "count": 0
           },
           {
            "bin_start": 0.49788600000000005,
            "bin_end": 0.5974632,
            "count": 1
           },
           {
            "bin_start": 0.5974632,
            "bin_end": 0.6970404,
            "count": 0
           },
           {
            "bin_start": 0.6970404,
            "bin_end": 0.7966176,
            "count": 0
           },
           {
            "bin_start": 0.7966176,
            "bin_end": 0.8961948000000001,
            "count": 0
           },
           {
            "bin_start": 0.8961948000000001,
            "bin_end": 0.995772,
            "count": 77
           }
          ]
         }
        },
        {
         "name": 10931,
         "dtype": "float64",
         "stats": {
          "unique_count": 76,
          "nan_count": 0,
          "min": "0.0",
          "max": "1.0",
          "histogram": [
           {
            "bin_start": 0,
            "bin_end": 0.1,
            "count": 69
           },
           {
            "bin_start": 0.1,
            "bin_end": 0.2,
            "count": 0
           },
           {
            "bin_start": 0.2,
            "bin_end": 0.30000000000000004,
            "count": 1
           },
           {
            "bin_start": 0.30000000000000004,
            "bin_end": 0.4,
            "count": 2
           },
           {
            "bin_start": 0.4,
            "bin_end": 0.5,
            "count": 0
           },
           {
            "bin_start": 0.5,
            "bin_end": 0.6000000000000001,
            "count": 0
           },
           {
            "bin_start": 0.6000000000000001,
            "bin_end": 0.7000000000000001,
            "count": 1
           },
           {
            "bin_start": 0.7000000000000001,
            "bin_end": 0.8,
            "count": 0
           },
           {
            "bin_start": 0.8,
            "bin_end": 0.9,
            "count": 0
           },
           {
            "bin_start": 0.9,
            "bin_end": 1,
            "count": 77
           }
          ]
         }
        },
        {
         "name": 10932,
         "dtype": "float64",
         "stats": {
          "unique_count": 110,
          "nan_count": 0,
          "min": "0.0",
          "max": "1.0",
          "histogram": [
           {
            "bin_start": 0,
            "bin_end": 0.1,
            "count": 77
           },
           {
            "bin_start": 0.1,
            "bin_end": 0.2,
            "count": 0
           },
           {
            "bin_start": 0.2,
            "bin_end": 0.30000000000000004,
            "count": 0
           },
           {
            "bin_start": 0.30000000000000004,
            "bin_end": 0.4,
            "count": 1
           },
           {
            "bin_start": 0.4,
            "bin_end": 0.5,
            "count": 0
           },
           {
            "bin_start": 0.5,
            "bin_end": 0.6000000000000001,
            "count": 0
           },
           {
            "bin_start": 0.6000000000000001,
            "bin_end": 0.7000000000000001,
            "count": 2
           },
           {
            "bin_start": 0.7000000000000001,
            "bin_end": 0.8,
            "count": 1
           },
           {
            "bin_start": 0.8,
            "bin_end": 0.9,
            "count": 0
           },
           {
            "bin_start": 0.9,
            "bin_end": 1,
            "count": 69
           }
          ]
         }
        },
        {
         "name": 10933,
         "dtype": "float64",
         "stats": {
          "unique_count": 102,
          "nan_count": 0,
          "min": "0.0",
          "max": "1.0",
          "histogram": [
           {
            "bin_start": 0,
            "bin_end": 0.1,
            "count": 76
           },
           {
            "bin_start": 0.1,
            "bin_end": 0.2,
            "count": 1
           },
           {
            "bin_start": 0.2,
            "bin_end": 0.30000000000000004,
            "count": 0
           },
           {
            "bin_start": 0.30000000000000004,
            "bin_end": 0.4,
            "count": 0
           },
           {
            "bin_start": 0.4,
            "bin_end": 0.5,
            "count": 1
           },
           {
            "bin_start": 0.5,
            "bin_end": 0.6000000000000001,
            "count": 0
           },
           {
            "bin_start": 0.6000000000000001,
            "bin_end": 0.7000000000000001,
            "count": 3
           },
           {
            "bin_start": 0.7000000000000001,
            "bin_end": 0.8,
            "count": 0
           },
           {
            "bin_start": 0.8,
            "bin_end": 0.9,
            "count": 0
           },
           {
            "bin_start": 0.9,
            "bin_end": 1,
            "count": 69
           }
          ]
         }
        },
        {
         "name": 10934,
         "dtype": "float64",
         "stats": {
          "unique_count": 87,
          "nan_count": 0,
          "min": "0.0",
          "max": "0.991087",
          "histogram": [
           {
            "bin_start": 0,
            "bin_end": 0.09910870000000001,
            "count": 69
           },
           {
            "bin_start": 0.09910870000000001,
            "bin_end": 0.19821740000000002,
            "count": 0
           },
           {
            "bin_start": 0.19821740000000002,
            "bin_end": 0.29732610000000004,
            "count": 0
           },
           {
            "bin_start": 0.29732610000000004,
            "bin_end": 0.39643480000000003,
            "count": 3
           },
           {
            "bin_start": 0.39643480000000003,
            "bin_end": 0.4955435,
            "count": 0
           },
           {
            "bin_start": 0.4955435,
            "bin_end": 0.5946522000000001,
            "count": 1
           },
           {
            "bin_start": 0.5946522000000001,
            "bin_end": 0.6937609,
            "count": 0
           },
           {
            "bin_start": 0.6937609,
            "bin_end": 0.7928696000000001,
            "count": 0
           },
           {
            "bin_start": 0.7928696000000001,
            "bin_end": 0.8919783000000001,
            "count": 1
           },
           {
            "bin_start": 0.8919783000000001,
            "bin_end": 0.991087,
            "count": 76
           }
          ]
         }
        },
        {
         "name": 10935,
         "dtype": "float64",
         "stats": {
          "unique_count": 95,
          "nan_count": 0,
          "min": "0.0",
          "max": "0.998175",
          "histogram": [
           {
            "bin_start": 0,
            "bin_end": 0.0998175,
            "count": 77
           },
           {
            "bin_start": 0.0998175,
            "bin_end": 0.199635,
            "count": 0
           },
           {
            "bin_start": 0.199635,
            "bin_end": 0.2994525,
            "count": 0
           },
           {
            "bin_start": 0.2994525,
            "bin_end": 0.39927,
            "count": 0
           },
           {
            "bin_start": 0.39927,
            "bin_end": 0.4990875,
            "count": 1
           },
           {
            "bin_start": 0.4990875,
            "bin_end": 0.598905,
            "count": 0
           },
           {
            "bin_start": 0.598905,
            "bin_end": 0.6987225,
            "count": 2
           },
           {
            "bin_start": 0.6987225,
            "bin_end": 0.79854,
            "count": 1
           },
           {
            "bin_start": 0.79854,
            "bin_end": 0.8983575,
            "count": 0
           },
           {
            "bin_start": 0.8983575,
            "bin_end": 0.998175,
            "count": 69
           }
          ]
         }
        },
        {
         "name": 10936,
         "dtype": "float64",
         "stats": {
          "unique_count": 98,
          "nan_count": 0,
          "min": "0.0",
          "max": "0.998302",
          "histogram": [
           {
            "bin_start": 0,
            "bin_end": 0.09983020000000001,
            "count": 77
           },
           {
            "bin_start": 0.09983020000000001,
            "bin_end": 0.19966040000000002,
            "count": 0
           },
           {
            "bin_start": 0.19966040000000002,
            "bin_end": 0.29949060000000005,
            "count": 0
           },
           {
            "bin_start": 0.29949060000000005,
            "bin_end": 0.39932080000000003,
            "count": 0
           },
           {
            "bin_start": 0.39932080000000003,
            "bin_end": 0.499151,
            "count": 1
           },
           {
            "bin_start": 0.499151,
            "bin_end": 0.5989812000000001,
            "count": 0
           },
           {
            "bin_start": 0.5989812000000001,
            "bin_end": 0.6988114000000001,
            "count": 3
           },
           {
            "bin_start": 0.6988114000000001,
            "bin_end": 0.7986416000000001,
            "count": 0
           },
           {
            "bin_start": 0.7986416000000001,
            "bin_end": 0.8984718,
            "count": 0
           },
           {
            "bin_start": 0.8984718,
            "bin_end": 0.998302,
            "count": 69
           }
          ]
         }
        },
        {
         "name": 10937,
         "dtype": "float64",
         "stats": {
          "unique_count": 136,
          "nan_count": 0,
          "min": "0.0",
          "max": "0.998333",
          "histogram": [
           {
            "bin_start": 0,
            "bin_end": 0.0998333,
            "count": 76
           },
           {
            "bin_start": 0.0998333,
            "bin_end": 0.1996666,
            "count": 1
           },
           {
            "bin_start": 0.1996666,
            "bin_end": 0.2994999,
            "count": 0
           },
           {
            "bin_start": 0.2994999,
            "bin_end": 0.3993332,
            "count": 0
           },
           {
            "bin_start": 0.3993332,
            "bin_end": 0.4991665,
            "count": 1
           },
           {
            "bin_start": 0.4991665,
            "bin_end": 0.5989998,
            "count": 0
           },
           {
            "bin_start": 0.5989998,
            "bin_end": 0.6988331,
            "count": 2
           },
           {
            "bin_start": 0.6988331,
            "bin_end": 0.7986664,
            "count": 1
           },
           {
            "bin_start": 0.7986664,
            "bin_end": 0.8984997,
            "count": 0
           },
           {
            "bin_start": 0.8984997,
            "bin_end": 0.998333,
            "count": 69
           }
          ]
         }
        },
        {
         "name": 10938,
         "dtype": "float64",
         "stats": {
          "unique_count": 98,
          "nan_count": 0,
          "min": "0.0",
          "max": "0.998319",
          "histogram": [
           {
            "bin_start": 0,
            "bin_end": 0.0998319,
            "count": 77
           },
           {
            "bin_start": 0.0998319,
            "bin_end": 0.1996638,
            "count": 0
           },
           {
            "bin_start": 0.1996638,
            "bin_end": 0.29949570000000003,
            "count": 0
           },
           {
            "bin_start": 0.29949570000000003,
            "bin_end": 0.3993276,
            "count": 0
           },
           {
            "bin_start": 0.3993276,
            "bin_end": 0.4991595,
            "count": 1
           },
           {
            "bin_start": 0.4991595,
            "bin_end": 0.5989914000000001,
            "count": 0
           },
           {
            "bin_start": 0.5989914000000001,
            "bin_end": 0.6988233,
            "count": 2
           },
           {
            "bin_start": 0.6988233,
            "bin_end": 0.7986552,
            "count": 1
           },
           {
            "bin_start": 0.7986552,
            "bin_end": 0.8984871,
            "count": 0
           },
           {
            "bin_start": 0.8984871,
            "bin_end": 0.998319,
            "count": 69
           }
          ]
         }
        },
        {
         "name": 10939,
         "dtype": "float64",
         "stats": {
          "unique_count": 71,
          "nan_count": 0,
          "min": "0.0",
          "max": "1.0",
          "histogram": [
           {
            "bin_start": 0,
            "bin_end": 0.1,
            "count": 77
           },
           {
            "bin_start": 0.1,
            "bin_end": 0.2,
            "count": 0
           },
           {
            "bin_start": 0.2,
            "bin_end": 0.30000000000000004,
            "count": 0
           },
           {
            "bin_start": 0.30000000000000004,
            "bin_end": 0.4,
            "count": 1
           },
           {
            "bin_start": 0.4,
            "bin_end": 0.5,
            "count": 0
           },
           {
            "bin_start": 0.5,
            "bin_end": 0.6000000000000001,
            "count": 0
           },
           {
            "bin_start": 0.6000000000000001,
            "bin_end": 0.7000000000000001,
            "count": 3
           },
           {
            "bin_start": 0.7000000000000001,
            "bin_end": 0.8,
            "count": 0
           },
           {
            "bin_start": 0.8,
            "bin_end": 0.9,
            "count": 0
           },
           {
            "bin_start": 0.9,
            "bin_end": 1,
            "count": 69
           }
          ]
         }
        },
        {
         "name": 10940,
         "dtype": "float64",
         "stats": {
          "unique_count": 98,
          "nan_count": 0,
          "min": "0.0",
          "max": "0.998221",
          "histogram": [
           {
            "bin_start": 0,
            "bin_end": 0.0998221,
            "count": 77
           },
           {
            "bin_start": 0.0998221,
            "bin_end": 0.1996442,
            "count": 0
           },
           {
            "bin_start": 0.1996442,
            "bin_end": 0.29946629999999996,
            "count": 0
           },
           {
            "bin_start": 0.29946629999999996,
            "bin_end": 0.3992884,
            "count": 0
           },
           {
            "bin_start": 0.3992884,
            "bin_end": 0.4991105,
            "count": 1
           },
           {
            "bin_start": 0.4991105,
            "bin_end": 0.5989325999999999,
            "count": 0
           },
           {
            "bin_start": 0.5989325999999999,
            "bin_end": 0.6987547,
            "count": 2
           },
           {
            "bin_start": 0.6987547,
            "bin_end": 0.7985768,
            "count": 1
           },
           {
            "bin_start": 0.7985768,
            "bin_end": 0.8983989,
            "count": 0
           },
           {
            "bin_start": 0.8983989,
            "bin_end": 0.998221,
            "count": 69
           }
          ]
         }
        },
        {
         "name": 10941,
         "dtype": "float64",
         "stats": {
          "unique_count": 150,
          "nan_count": 0,
          "min": "0.0",
          "max": "0.83871",
          "histogram": [
           {
            "bin_start": 0,
            "bin_end": 0.083871,
            "count": 3
           },
           {
            "bin_start": 0.083871,
            "bin_end": 0.167742,
            "count": 0
           },
           {
            "bin_start": 0.167742,
            "bin_end": 0.251613,
            "count": 1
           },
           {
            "bin_start": 0.251613,
            "bin_end": 0.335484,
            "count": 43
           },
           {
            "bin_start": 0.335484,
            "bin_end": 0.41935500000000003,
            "count": 25
           },
           {
            "bin_start": 0.41935500000000003,
            "bin_end": 0.503226,
            "count": 1
           },
           {
            "bin_start": 0.503226,
            "bin_end": 0.587097,
            "count": 0
           },
           {
            "bin_start": 0.587097,
            "bin_end": 0.670968,
            "count": 20
           },
           {
            "bin_start": 0.670968,
            "bin_end": 0.754839,
            "count": 55
           },
           {
            "bin_start": 0.754839,
            "bin_end": 0.83871,
            "count": 2
           }
          ]
         }
        },
        {
         "name": 10942,
         "dtype": "float64",
         "stats": {
          "unique_count": 132,
          "nan_count": 0,
          "min": "0.0",
          "max": "0.996441",
          "histogram": [
           {
            "bin_start": 0,
            "bin_end": 0.0996441,
            "count": 77
           },
           {
            "bin_start": 0.0996441,
            "bin_end": 0.1992882,
            "count": 0
           },
           {
            "bin_start": 0.1992882,
            "bin_end": 0.2989323,
            "count": 0
           },
           {
            "bin_start": 0.2989323,
            "bin_end": 0.3985764,
            "count": 0
           },
           {
            "bin_start": 0.3985764,
            "bin_end": 0.4982205,
            "count": 1
           },
           {
            "bin_start": 0.4982205,
            "bin_end": 0.5978646,
            "count": 0
           },
           {
            "bin_start": 0.5978646,
            "bin_end": 0.6975087,
            "count": 2
           },
           {
            "bin_start": 0.6975087,
            "bin_end": 0.7971528,
            "count": 1
           },
           {
            "bin_start": 0.7971528,
            "bin_end": 0.8967969,
            "count": 0
           },
           {
            "bin_start": 0.8967969,
            "bin_end": 0.996441,
            "count": 69
           }
          ]
         }
        },
        {
         "name": 10960,
         "dtype": "float64",
         "stats": {
          "unique_count": 81,
          "nan_count": 0,
          "min": "0.0",
          "max": "1.0",
          "histogram": [
           {
            "bin_start": 0,
            "bin_end": 0.1,
            "count": 69
           },
           {
            "bin_start": 0.1,
            "bin_end": 0.2,
            "count": 0
           },
           {
            "bin_start": 0.2,
            "bin_end": 0.30000000000000004,
            "count": 3
           },
           {
            "bin_start": 0.30000000000000004,
            "bin_end": 0.4,
            "count": 0
           },
           {
            "bin_start": 0.4,
            "bin_end": 0.5,
            "count": 0
           },
           {
            "bin_start": 0.5,
            "bin_end": 0.6000000000000001,
            "count": 0
           },
           {
            "bin_start": 0.6000000000000001,
            "bin_end": 0.7000000000000001,
            "count": 1
           },
           {
            "bin_start": 0.7000000000000001,
            "bin_end": 0.8,
            "count": 0
           },
           {
            "bin_start": 0.8,
            "bin_end": 0.9,
            "count": 1
           },
           {
            "bin_start": 0.9,
            "bin_end": 1,
            "count": 76
           }
          ]
         }
        },
        {
         "name": 10963,
         "dtype": "float64",
         "stats": {
          "unique_count": 92,
          "nan_count": 0,
          "min": "0.0",
          "max": "1.0",
          "histogram": [
           {
            "bin_start": 0,
            "bin_end": 0.1,
            "count": 77
           },
           {
            "bin_start": 0.1,
            "bin_end": 0.2,
            "count": 0
           },
           {
            "bin_start": 0.2,
            "bin_end": 0.30000000000000004,
            "count": 0
           },
           {
            "bin_start": 0.30000000000000004,
            "bin_end": 0.4,
            "count": 1
           },
           {
            "bin_start": 0.4,
            "bin_end": 0.5,
            "count": 0
           },
           {
            "bin_start": 0.5,
            "bin_end": 0.6000000000000001,
            "count": 0
           },
           {
            "bin_start": 0.6000000000000001,
            "bin_end": 0.7000000000000001,
            "count": 0
           },
           {
            "bin_start": 0.7000000000000001,
            "bin_end": 0.8,
            "count": 2
           },
           {
            "bin_start": 0.8,
            "bin_end": 0.9,
            "count": 1
           },
           {
            "bin_start": 0.9,
            "bin_end": 1,
            "count": 69
           }
          ]
         }
        },
        {
         "name": "_deepnote_index_column",
         "dtype": "int64"
        }
       ],
       "rows": [
        {
         "10007": 0.000475285,
         "10014": 0.994437,
         "10043": 0.00044603,
         "10060": 0.000453309,
         "10069": 0.989401,
         "10081": 0.00184758,
         "10086": 0.000517063,
         "10088": 0.00283152,
         "10123": 0.000540833,
         "10136": 0.000524934,
         "10152": 0.994851,
         "10181": 0.000542888,
         "10188": 0.996146,
         "10195": 0.000448229,
         "10203": 0.9872,
         "10230": 0,
         "10245": 0.000550661,
         "10290": 0.995772,
         "10294": 0.00340136,
         "10319": 0.993848,
         "10326": 0.992904,
         "10350": 0.995591,
         "10352": 0.504228,
         "10368": 0.000485673,
         "10377": 0.98971,
         "10387": 0.987705,
         "10416": 0.992727,
         "10418": 0.000532765,
         "10468": 0.993896,
         "10485": 0,
         "10496": 0,
         "10503": 0,
         "10512": 0.000534188,
         "10513": 0.000492611,
         "10529": 0.990774,
         "10543": 0.000548847,
         "10545": 0.992236,
         "10580": 0.000621891,
         "10592": 0.993223,
         "10599": 0.000499002,
         "10649": 0,
         "10651": 0.991982,
         "10679": 0.99113,
         "10695": 0.000505051,
         "10703": 0.99277,
         "10723": 0.990241,
         "10725": 0.989222,
         "10726": 0.991082,
         "10727": 0.132353,
         "10728": 0.990154,
         "10729": 0.990527,
         "10730": 0.990379,
         "10733": 0,
         "10734": 0.0609074,
         "10740": 0.000598086,
         "10741": 0.992505,
         "10742": 0.994079,
         "10743": 0.990087,
         "10745": 0.991066,
         "10746": 0,
         "10748": 0.991995,
         "10749": 0,
         "10750": 0.990344,
         "10751": 0,
         "10752": 0.991495,
         "10762": 0,
         "10783": 0.992958,
         "10784": 0.991357,
         "10787": 0,
         "10789": 0.990501,
         "10791": 0.994123,
         "10794": 0,
         "10797": 0.99063,
         "10799": 0,
         "10801": 0.990212,
         "10804": 0.991826,
         "10805": 0,
         "10806": 0.987993,
         "10808": 0.992914,
         "10809": 0,
         "10811": 0.991364,
         "10812": 0,
         "10813": 0,
         "10814": 0,
         "10815": 0.989103,
         "10816": 0.990939,
         "10817": 0.992659,
         "10818": 0.989916,
         "10825": 0,
         "10843": 0.988764,
         "10844": 0.977925,
         "10858": 0,
         "10861": 0.00126103,
         "10863": 0,
         "10864": 0,
         "10866": 0.984848,
         "10871": 0,
         "10872": 0,
         "10873": 0,
         "10874": 0.40411,
         "10875": 0.980117,
         "10876": 0,
         "10877": 0.00125,
         "10878": 0.98776,
         "10880": 0,
         "10881": 0.977128,
         "10882": 0.98568,
         "10883": 0.985663,
         "10884": 0,
         "10885": 0,
         "10886": 0.989899,
         "10887": 0,
         "10888": 0.983951,
         "10890": 0.99051,
         "10892": 0.986111,
         "10893": 0,
         "10894": 0.979543,
         "10895": 0,
         "10896": 0.985401,
         "10907": 0,
         "10910": 0.00253165,
         "10911": 0,
         "10917": 0.974555,
         "10918": 0.985876,
         "10919": 0,
         "10920": 0.982968,
         "10921": 0,
         "10922": 0.982587,
         "10923": 0.985366,
         "10924": 0,
         "10925": 0,
         "10926": 0,
         "10927": 0.982188,
         "10928": 0.980535,
         "10929": 0.3275,
         "10930": 0,
         "10931": 0,
         "10932": 0.985258,
         "10933": 0.98263,
         "10934": 0,
         "10935": 0.981383,
         "10936": 0.982716,
         "10937": 0.98301,
         "10938": 0.98063,
         "10939": 0.987113,
         "10940": 0.980535,
         "10941": 0.379679,
         "10942": 0.979849,
         "10960": 0,
         "10963": 0.968504,
         "_deepnote_index_column": 10649
        },
        {
         "10007": 0.993517,
         "10014": 0.000543183,
         "10043": 0.994183,
         "10060": 0.991228,
         "10069": 0.00763359,
         "10081": 0.990266,
         "10086": 0.995575,
         "10088": 0.988263,
         "10123": 0.99349,
         "10136": 0.992391,
         "10152": 0,
         "10181": 0.988882,
         "10188": 0,
         "10195": 0.991095,
         "10203": 0.00709995,
         "10230": 0.996206,
         "10245": 0.987274,
         "10290": 0.00121729,
         "10294": 0.988474,
         "10319": 0.00267953,
         "10326": 0,
         "10350": 0.00090009,
         "10352": 0.513419,
         "10368": 0.993778,
         "10377": 0.00449186,
         "10387": 0.00670449,
         "10416": 0,
         "10418": 0.989835,
         "10468": 0,
         "10485": 0.990234,
         "10496": 0.995063,
         "10503": 0.994044,
         "10512": 0.991258,
         "10513": 0.996029,
         "10529": 0,
         "10543": 0.991503,
         "10545": 0,
         "10580": 0.994853,
         "10592": 0.00373832,
         "10599": 0.997167,
         "10649": 0.991982,
         "10651": 0,
         "10679": 0.0055205,
         "10695": 0.992034,
         "10703": 0.00125707,
         "10723": 0.00118624,
         "10725": 0.000621118,
         "10726": 0.00191083,
         "10727": 0.878162,
         "10728": 0.000592066,
         "10729": 0.000588581,
         "10730": 0.0012012,
         "10733": 0.993972,
         "10734": 0.949905,
         "10740": 0.993393,
         "10741": 0.000621891,
         "10742": 0,
         "10743": 0,
         "10745": 0,
         "10746": 0.9905,
         "10748": 0,
         "10749": 0.993797,
         "10750": 0.00700191,
         "10751": 0.994441,
         "10752": 0.00066313,
         "10762": 0.993688,
         "10783": 0,
         "10784": 0.000877963,
         "10787": 0.992813,
         "10789": 0,
         "10791": 0.000830565,
         "10794": 0.991174,
         "10797": 0,
         "10799": 0.993086,
         "10801": 0.000831255,
         "10804": 0,
         "10805": 0.990967,
         "10806": 0.00292683,
         "10808": 0,
         "10809": 0.99636,
         "10811": 0.000880282,
         "10812": 0.99063,
         "10813": 0.992674,
         "10814": 0.996907,
         "10815": 0.000874126,
         "10816": 0.000865052,
         "10817": 0.000821018,
         "10818": 0.000859845,
         "10825": 0.993204,
         "10843": 0,
         "10844": 0.0136209,
         "10858": 0.986369,
         "10861": 0.99422,
         "10863": 0.992032,
         "10864": 0.991139,
         "10866": 0.0013624,
         "10871": 0.991826,
         "10872": 0.986585,
         "10873": 0.987044,
         "10874": 0.625,
         "10875": 0.00471698,
         "10876": 0.988889,
         "10877": 0.997323,
         "10878": 0.00487211,
         "10880": 0.989924,
         "10881": 0.0107034,
         "10882": 0.00127551,
         "10883": 0.00472255,
         "10884": 0.996114,
         "10885": 0.984395,
         "10886": 0.00146199,
         "10887": 0.990956,
         "10888": 0,
         "10890": 0.00116822,
         "10892": 0,
         "10893": 0.991859,
         "10894": 0.00498753,
         "10895": 0.985832,
         "10896": 0.002442,
         "10907": 0.987421,
         "10910": 0.986486,
         "10911": 0.99,
         "10917": 0.031746,
         "10918": 0,
         "10919": 0.989967,
         "10920": 0,
         "10921": 0.984293,
         "10922": 0,
         "10923": 0,
         "10924": 0.992443,
         "10925": 0.991826,
         "10926": 0.984496,
         "10927": 0,
         "10928": 0.00666667,
         "10929": 0.743304,
         "10930": 0.993378,
         "10931": 0.993651,
         "10932": 0.00224719,
         "10933": 0.00286533,
         "10934": 0.981283,
         "10935": 0,
         "10936": 0,
         "10937": 0.00943396,
         "10938": 0,
         "10939": 0,
         "10940": 0,
         "10941": 0.719048,
         "10942": 0.0075,
         "10960": 0.988764,
         "10963": 0,
         "_deepnote_index_column": 10651
        },
        {
         "10007": 0.991736,
         "10014": 0.00397501,
         "10043": 0.992337,
         "10060": 0.992139,
         "10069": 0.00404157,
         "10081": 0.99375,
         "10086": 0.996635,
         "10088": 0.994114,
         "10123": 0.996521,
         "10136": 0.993927,
         "10152": 0.00195312,
         "10181": 0.989583,
         "10188": 0.00410557,
         "10195": 0.988993,
         "10203": 0.00424028,
         "10230": 0.994193,
         "10245": 0.986121,
         "10290": 0.000668896,
         "10294": 0.9947,
         "10319": 0.000581058,
         "10326": 0.000682128,
         "10350": 0.000865801,
         "10352": 0.518182,
         "10368": 0.993206,
         "10377": 0.00289185,
         "10387": 0.0033389,
         "10416": 0.000641849,
         "10418": 0.991339,
         "10468": 0.000707714,
         "10485": 0.993338,
         "10496": 0.992253,
         "10503": 0.992729,
         "10512": 0.993094,
         "10513": 0.993899,
         "10529": 0.000653595,
         "10543": 0.992821,
         "10545": 0.000649773,
         "10580": 0.996675,
         "10592": 0.00432432,
         "10599": 0.993854,
         "10649": 0.99113,
         "10651": 0.0055205,
         "10679": 0,
         "10695": 0.994197,
         "10703": 0.000713267,
         "10723": 0.000784314,
         "10725": 0,
         "10726": 0.00255537,
         "10727": 0.907649,
         "10728": 0.0017452,
         "10729": 0.000812348,
         "10730": 0,
         "10733": 0.995652,
         "10734": 0.983971,
         "10740": 0.995864,
         "10741": 0,
         "10742": 0,
         "10743": 0.000801925,
         "10745": 0.000829187,
         "10746": 0.991438,
         "10748": 0.000880282,
         "10749": 0.995875,
         "10750": 0.0084317,
         "10751": 0.996567,
         "10752": 0.000801282,
         "10762": 0.995066,
         "10783": 0,
         "10784": 0.000853242,
         "10787": 0.991543,
         "10789": 0.00082713,
         "10791": 0.000823045,
         "10794": 0.993328,
         "10797": 0.00084317,
         "10799": 0.992593,
         "10801": 0.000804505,
         "10804": 0.000888099,
         "10805": 0.990351,
         "10806": 0.00160901,
         "10808": 0.000827815,
         "10809": 0.998232,
         "10811": 0.000853971,
         "10812": 0.991042,
         "10813": 0.992405,
         "10814": 0.995327,
         "10815": 0,
         "10816": 0.000819001,
         "10817": 0.000803213,
         "10818": 0,
         "10825": 0.992707,
         "10843": 0.00115075,
         "10844": 0.0111857,
         "10858": 0.988127,
         "10861": 0.991094,
         "10863": 0.993719,
         "10864": 0.992647,
         "10866": 0.00131926,
         "10871": 0.993378,
         "10872": 0.988998,
         "10873": 0.986634,
         "10874": 0.611264,
         "10875": 0.00592417,
         "10876": 0.988778,
         "10877": 0.996193,
         "10878": 0.0037037,
         "10880": 0.98973,
         "10881": 0.00740741,
         "10882": 0.001221,
         "10883": 0.00368098,
         "10884": 0.993858,
         "10885": 0.986163,
         "10886": 0.00120337,
         "10887": 0.991463,
         "10888": 0.00124844,
         "10890": 0.00119904,
         "10892": 0,
         "10893": 0.994859,
         "10894": 0.00362757,
         "10895": 0.984394,
         "10896": 0.00374532,
         "10907": 0.989879,
         "10910": 0.980149,
         "10911": 0.989083,
         "10917": 0.0291005,
         "10918": 0,
         "10919": 0.989556,
         "10920": 0,
         "10921": 0.984085,
         "10922": 0,
         "10923": 0,
         "10924": 0.988338,
         "10925": 0.98708,
         "10926": 0.97971,
         "10927": 0,
         "10928": 0.00744417,
         "10929": 0.680101,
         "10930": 0.992228,
         "10931": 0.989583,
         "10932": 0,
         "10933": 0,
         "10934": 0.979695,
         "10935": 0,
         "10936": 0,
         "10937": 0.00731707,
         "10938": 0,
         "10939": 0,
         "10940": 0,
         "10941": 0.63807,
         "10942": 0.00737101,
         "10960": 0.976378,
         "10963": 0,
         "_deepnote_index_column": 10679
        },
        {
         "10007": 0.000921234,
         "10014": 0.993874,
         "10043": 0.000903751,
         "10060": 0.000447227,
         "10069": 0.991549,
         "10081": 0.000444642,
         "10086": 0.000446429,
         "10088": 0,
         "10123": 0.000928074,
         "10136": 0.000450045,
         "10152": 0.994776,
         "10181": 0.00095057,
         "10188": 0.993984,
         "10195": 0.000898473,
         "10203": 0.989955,
         "10230": 0.000476872,
         "10245": 0.00112931,
         "10290": 0.994633,
         "10294": 0,
         "10319": 0.995444,
         "10326": 0.994189,
         "10350": 0.99478,
         "10352": 0.525386,
         "10368": 0.000978474,
         "10377": 0.991862,
         "10387": 0.991259,
         "10416": 0.993877,
         "10418": 0.000922509,
         "10468": 0.993381,
         "10485": 0,
         "10496": 0.000475059,
         "10503": 0.000463607,
         "10512": 0.000946522,
         "10513": 0.000977995,
         "10529": 0.992583,
         "10543": 0.000928505,
         "10545": 0.995156,
         "10580": 0.00108284,
         "10592": 0.99046,
         "10599": 0.00099108,
         "10649": 0.000505051,
         "10651": 0.992034,
         "10679": 0.994197,
         "10695": 0,
         "10703": 0.993774,
         "10723": 0.992118,
         "10725": 0.991471,
         "10726": 0.995106,
         "10727": 0.124217,
         "10728": 0.993161,
         "10729": 0.993391,
         "10730": 0.991273,
         "10733": 0.000581058,
         "10734": 0.0533927,
         "10740": 0.00102881,
         "10741": 0.992585,
         "10742": 0.996928,
         "10743": 0.993021,
         "10745": 0.993354,
         "10746": 0.000539374,
         "10748": 0.996245,
         "10749": 0,
         "10750": 0.988317,
         "10751": 0,
         "10752": 0.992693,
         "10762": 0.000708717,
         "10783": 0.99276,
         "10784": 0.993558,
         "10787": 0.000913242,
         "10789": 0.993779,
         "10791": 0.993902,
         "10794": 0.000740192,
         "10797": 0.99449,
         "10799": 0.000719942,
         "10801": 0.993776,
         "10804": 0.994544,
         "10805": 0.000779423,
         "10806": 0.991577,
         "10808": 0.994466,
         "10809": 0.000712758,
         "10811": 0.994681,
         "10812": 0.000697837,
         "10813": 0.000709723,
         "10814": 0.000843882,
         "10815": 0.99381,
         "10816": 0.99359,
         "10817": 0.994036,
         "10818": 0.997234,
         "10825": 0,
         "10843": 0.996948,
         "10844": 0.984601,
         "10858": 0.00100604,
         "10861": 0,
         "10863": 0,
         "10864": 0.000988142,
         "10866": 0.990625,
         "10871": 0,
         "10872": 0.000959693,
         "10873": 0.00097371,
         "10874": 0.385621,
         "10875": 0.988439,
         "10876": 0.00102459,
         "10877": 0,
         "10878": 0.989341,
         "10880": 0,
         "10881": 0.983871,
         "10882": 0.991509,
         "10883": 0.994419,
         "10884": 0,
         "10885": 0.00101729,
         "10886": 0.989819,
         "10887": 0.00104384,
         "10888": 0.99697,
         "10890": 0.992606,
         "10892": 0.992933,
         "10893": 0.0010929,
         "10894": 0.988258,
         "10895": 0,
         "10896": 0.995127,
         "10907": 0.00163399,
         "10910": 0,
         "10911": 0,
         "10917": 0.981387,
         "10918": 0.988827,
         "10919": 0.00214592,
         "10920": 0.996377,
         "10921": 0.00185874,
         "10922": 0.988506,
         "10923": 0.996599,
         "10924": 0.00190476,
         "10925": 0.00206612,
         "10926": 0.00168067,
         "10927": 0.986408,
         "10928": 0.984051,
         "10929": 0.3126,
         "10930": 0.002331,
         "10931": 0,
         "10932": 0.986254,
         "10933": 0.994455,
         "10934": 0.00185529,
         "10935": 0.996473,
         "10936": 0.987868,
         "10937": 0.987322,
         "10938": 0.990276,
         "10939": 0.996491,
         "10940": 0.988115,
         "10941": 0.32646,
         "10942": 0.985025,
         "10960": 0.003125,
         "10963": 0.973799,
         "_deepnote_index_column": 10695
        },
        {
         "10007": 0.994071,
         "10014": 0.0014985,
         "10043": 0.994242,
         "10060": 0.992315,
         "10069": 0.00254582,
         "10081": 0.99237,
         "10086": 0.996557,
         "10088": 0.993555,
         "10123": 0.994478,
         "10136": 0.995017,
         "10152": 0.000934143,
         "10181": 0.991803,
         "10188": 0.000988142,
         "10195": 0.992806,
         "10203": 0.00282805,
         "10230": 0.995441,
         "10245": 0.989684,
         "10290": 0.00193143,
         "10294": 0.99237,
         "10319": 0.000483325,
         "10326": 0.00105764,
         "10350": 0.00228833,
         "10352": 0.458094,
         "10368": 0.993915,
         "10377": 0.00208551,
         "10387": 0.00232775,
         "10416": 0.000516262,
         "10418": 0.99221,
         "10468": 0.001,
         "10485": 0.993421,
         "10496": 0.994301,
         "10503": 0.994544,
         "10512": 0.993852,
         "10513": 0.995298,
         "10529": 0.000941176,
         "10543": 0.993846,
         "10545": 0.00093985,
         "10580": 0.995511,
         "10592": 0.000985222,
         "10599": 0.99523,
         "10649": 0.99277,
         "10651": 0.00125707,
         "10679": 0.000713267,
         "10695": 0.993774,
         "10703": 0,
         "10723": 0,
         "10725": 0.000544959,
         "10726": 0.00286041,
         "10727": 0.887574,
         "10728": 0.00224215,
         "10729": 0.00157068,
         "10730": 0.00106952,
         "10733": 0.994012,
         "10734": 0.95416,
         "10740": 0.994105,
         "10741": 0.000549753,
         "10742": 0.000540833,
         "10743": 0.00103093,
         "10745": 0.00106326,
         "10746": 0.991643,
         "10748": 0.00111359,
         "10749": 0.993999,
         "10750": 0.0105322,
         "10751": 0.993961,
         "10752": 0.00175747,
         "10762": 0.994815,
         "10783": 0.000956023,
         "10784": 0.00222717,
         "10787": 0.991228,
         "10789": 0.00166389,
         "10791": 0.00210231,
         "10794": 0.991091,
         "10797": 0.000718907,
         "10799": 0.992727,
         "10801": 0.00211416,
         "10804": 0.00169348,
         "10805": 0.989617,
         "10806": 0.00080064,
         "10808": 0.00164204,
         "10809": 0.996212,
         "10811": 0.00234192,
         "10812": 0.990708,
         "10813": 0.994007,
         "10814": 0.99556,
         "10815": 0.000729395,
         "10816": 0.00218182,
         "10817": 0.00206186,
         "10818": 0.000720981,
         "10825": 0.993615,
         "10843": 0.00206612,
         "10844": 0.00925069,
         "10858": 0.985656,
         "10861": 0.994388,
         "10863": 0.995829,
         "10864": 0.990891,
         "10866": 0.00316122,
         "10871": 0.994565,
         "10872": 0.991133,
         "10873": 0.990449,
         "10874": 0.62959,
         "10875": 0.00548948,
         "10876": 0.991862,
         "10877": 0.996894,
         "10878": 0.00196271,
         "10880": 0.990982,
         "10881": 0.00601685,
         "10882": 0.00299103,
         "10883": 0.00188857,
         "10884": 0.993827,
         "10885": 0.988589,
         "10886": 0.00338219,
         "10887": 0.993763,
         "10888": 0.00199005,
         "10890": 0.00280899,
         "10892": 0,
         "10893": 0.992465,
         "10894": 0.0039801,
         "10895": 0.987747,
         "10896": 0.00406091,
         "10907": 0.992284,
         "10910": 0.989655,
         "10911": 0.993344,
         "10917": 0.0205128,
         "10918": 0,
         "10919": 0.991684,
         "10920": 0,
         "10921": 0.989673,
         "10922": 0,
         "10923": 0,
         "10924": 0.994633,
         "10925": 0.992218,
         "10926": 0.98725,
         "10927": 0,
         "10928": 0.00463679,
         "10929": 0.700311,
         "10930": 0.991247,
         "10931": 0.993964,
         "10932": 0.00156006,
         "10933": 0.00185185,
         "10934": 0.987179,
         "10935": 0,
         "10936": 0,
         "10937": 0.00615385,
         "10938": 0,
         "10939": 0,
         "10940": 0,
         "10941": 0.668863,
         "10942": 0.00492611,
         "10960": 0.987421,
         "10963": 0,
         "_deepnote_index_column": 10703
        },
        {
         "10007": 0.992428,
         "10014": 0.00157895,
         "10043": 0.992393,
         "10060": 0.990366,
         "10069": 0.00213789,
         "10081": 0.990371,
         "10086": 0.99501,
         "10088": 0.99082,
         "10123": 0.99375,
         "10136": 0.993398,
         "10152": 0.000943841,
         "10181": 0.98923,
         "10188": 0.00100452,
         "10195": 0.990571,
         "10203": 0.00163666,
         "10230": 0.995225,
         "10245": 0.986859,
         "10290": 0.00195791,
         "10294": 0.99126,
         "10319": 0.000491642,
         "10326": 0.00111982,
         "10350": 0.0021645,
         "10352": 0.481395,
         "10368": 0.99148,
         "10377": 0.00164114,
         "10387": 0.00141844,
         "10416": 0.000551876,
         "10418": 0.990649,
         "10468": 0.00103788,
         "10485": 0.990766,
         "10496": 0.993165,
         "10503": 0.992727,
         "10512": 0.991242,
         "10513": 0.994664,
         "10529": 0.000954654,
         "10543": 0.991658,
         "10545": 0.000952835,
         "10580": 0.993969,
         "10592": 0.00116959,
         "10599": 0.99559,
         "10649": 0.990241,
         "10651": 0.00118624,
         "10679": 0.000784314,
         "10695": 0.992118,
         "10703": 0,
         "10723": 0,
         "10725": 0.000523286,
         "10726": 0.00275027,
         "10727": 0.883853,
         "10728": 0.00205973,
         "10729": 0.0014549,
         "10730": 0.000986193,
         "10733": 0.991399,
         "10734": 0.955556,
         "10740": 0.993561,
         "10741": 0.000507872,
         "10742": 0.00049776,
         "10743": 0.00142789,
         "10745": 0.000981836,
         "10746": 0.991173,
         "10748": 0.00102249,
         "10749": 0.992351,
         "10750": 0.00992167,
         "10751": 0.993048,
         "10752": 0.00169205,
         "10762": 0.994532,
         "10783": 0.000909091,
         "10784": 0.00203666,
         "10787": 0.99041,
         "10789": 0.00159109,
         "10791": 0.00190597,
         "10794": 0.992318,
         "10797": 0.000649773,
         "10799": 0.992329,
         "10801": 0.0019685,
         "10804": 0.00155885,
         "10805": 0.990144,
         "10806": 0.000765697,
         "10808": 0.00157109,
         "10809": 0.99654,
         "10811": 0.00216763,
         "10812": 0.989987,
         "10813": 0.992398,
         "10814": 0.994832,
         "10815": 0.000656168,
         "10816": 0.002079,
         "10817": 0.00187735,
         "10818": 0.000652316,
         "10825": 0.992722,
         "10843": 0.00196271,
         "10844": 0.00587248,
         "10858": 0.988139,
         "10861": 0.991812,
         "10863": 0.994403,
         "10864": 0.991885,
         "10866": 0.00301811,
         "10871": 0.993171,
         "10872": 0.986922,
         "10873": 0.988516,
         "10874": 0.626113,
         "10875": 0.00351185,
         "10876": 0.988626,
         "10877": 0.996237,
         "10878": 0.000881834,
         "10880": 0.990766,
         "10881": 0.00346821,
         "10882": 0.00263852,
         "10883": 0.000839631,
         "10884": 0.994302,
         "10885": 0.988604,
         "10886": 0.00324675,
         "10887": 0.99204,
         "10888": 0.00182315,
         "10890": 0.00250836,
         "10892": 0,
         "10893": 0.991976,
         "10894": 0.00277521,
         "10895": 0.987427,
         "10896": 0.00271003,
         "10907": 0.991045,
         "10910": 0.989231,
         "10911": 0.992593,
         "10917": 0.0165165,
         "10918": 0,
         "10919": 0.992141,
         "10920": 0,
         "10921": 0.98843,
         "10922": 0,
         "10923": 0,
         "10924": 0.993631,
         "10925": 0.990706,
         "10926": 0.989264,
         "10927": 0,
         "10928": 0.00397878,
         "10929": 0.705805,
         "10930": 0.993658,
         "10931": 0.994264,
         "10932": 0.00142045,
         "10933": 0.00176678,
         "10934": 0.984238,
         "10935": 0,
         "10936": 0,
         "10937": 0.00409277,
         "10938": 0,
         "10939": 0,
         "10940": 0,
         "10941": 0.689362,
         "10942": 0.00428571,
         "10960": 0.990476,
         "10963": 0,
         "_deepnote_index_column": 10723
        },
        {
         "10007": 0.993285,
         "10014": 0,
         "10043": 0.993048,
         "10060": 0.990395,
         "10069": 0.000553097,
         "10081": 0.989282,
         "10086": 0.995014,
         "10088": 0.990521,
         "10123": 0.993693,
         "10136": 0.992183,
         "10152": 0.000521376,
         "10181": 0.986433,
         "10188": 0.000558347,
         "10195": 0.989362,
         "10203": 0.00055371,
         "10230": 0.996573,
         "10245": 0.985386,
         "10290": 0.000539084,
         "10294": 0.990196,
         "10319": 0.000548246,
         "10326": 0,
         "10350": 0,
         "10352": 0.485,
         "10368": 0.992036,
         "10377": 0,
         "10387": 0.000524384,
         "10416": 0.000570125,
         "10418": 0.989555,
         "10468": 0.000571755,
         "10485": 0.989308,
         "10496": 0.993015,
         "10503": 0.993443,
         "10512": 0.991359,
         "10513": 0.994665,
         "10529": 0.000526316,
         "10543": 0.99082,
         "10545": 0.000532198,
         "10580": 0.996122,
         "10592": 0.00242131,
         "10599": 0.995911,
         "10649": 0.989222,
         "10651": 0.000621118,
         "10679": 0,
         "10695": 0.991471,
         "10703": 0.000544959,
         "10723": 0.000523286,
         "10725": 0,
         "10726": 0.00111545,
         "10727": 0.886825,
         "10728": 0.000547345,
         "10729": 0,
         "10730": 0,
         "10733": 0.993545,
         "10734": 0.955207,
         "10740": 0.99414,
         "10741": 0.000548246,
         "10742": 0,
         "10743": 0.00102775,
         "10745": 0.00052687,
         "10746": 0.990608,
         "10748": 0.00055371,
         "10749": 0.993018,
         "10750": 0.00870511,
         "10751": 0.994118,
         "10752": 0,
         "10762": 0.994857,
         "10783": 0,
         "10784": 0,
         "10787": 0.991262,
         "10789": 0.000794913,
         "10791": 0,
         "10794": 0.992652,
         "10797": 0,
         "10799": 0.992695,
         "10801": 0,
         "10804": 0,
         "10805": 0.989707,
         "10806": 0.000772201,
         "10808": 0,
         "10809": 0.997708,
         "10811": 0,
         "10812": 0.989488,
         "10813": 0.993368,
         "10814": 0.996552,
         "10815": 0.000730994,
         "10816": 0,
         "10817": 0,
         "10818": 0.000720981,
         "10825": 0.992817,
         "10843": 0,
         "10844": 0.00562852,
         "10858": 0.984144,
         "10861": 0.990847,
         "10863": 0.99359,
         "10864": 0.992922,
         "10866": 0,
         "10871": 0.992257,
         "10872": 0.983952,
         "10873": 0.988235,
         "10874": 0.623464,
         "10875": 0.000953289,
         "10876": 0.9875,
         "10877": 0.996832,
         "10878": 0.0010101,
         "10880": 0.990674,
         "10881": 0.00119332,
         "10882": 0,
         "10883": 0,
         "10884": 0.994715,
         "10885": 0.984194,
         "10886": 0,
         "10887": 0.991693,
         "10888": 0.00101317,
         "10890": 0,
         "10892": 0.00117233,
         "10893": 0.993485,
         "10894": 0.00100806,
         "10895": 0.980469,
         "10896": 0,
         "10907": 0.990581,
         "10910": 0.9839,
         "10911": 0.99115,
         "10917": 0.0228873,
         "10918": 0,
         "10919": 0.991718,
         "10920": 0.00176056,
         "10921": 0.989529,
         "10922": 0,
         "10923": 0,
         "10924": 0.990909,
         "10925": 0.990138,
         "10926": 0.986965,
         "10927": 0,
         "10928": 0.00641026,
         "10929": 0.710526,
         "10930": 0.991285,
         "10931": 0.991803,
         "10932": 0,
         "10933": 0,
         "10934": 0.981785,
         "10935": 0.0018018,
         "10936": 0.00165563,
         "10937": 0.00798722,
         "10938": 0.00169492,
         "10939": 0,
         "10940": 0.00172414,
         "10941": 0.680628,
         "10942": 0.00664452,
         "10960": 0.987302,
         "10963": 0.00374532,
         "_deepnote_index_column": 10725
        },
        {
         "10007": 0.996489,
         "10014": 0.00114416,
         "10043": 0.994992,
         "10060": 0.993848,
         "10069": 0.00339751,
         "10081": 0.99381,
         "10086": 0.996608,
         "10088": 0.994591,
         "10123": 0.995308,
         "10136": 0.994312,
         "10152": 0.00163666,
         "10181": 0.993027,
         "10188": 0.00176783,
         "10195": 0.992794,
         "10203": 0.00585823,
         "10230": 0.996499,
         "10245": 0.991329,
         "10290": 0.00170455,
         "10294": 0.993987,
         "10319": 0.00172612,
         "10326": 0.000586854,
         "10350": 0.0015748,
         "10352": 0.483544,
         "10368": 0.994633,
         "10377": 0.00287687,
         "10387": 0.00550055,
         "10416": 0.00174622,
         "10418": 0.99425,
         "10468": 0.00120048,
         "10485": 0.992529,
         "10496": 0.996339,
         "10503": 0.994869,
         "10512": 0.994104,
         "10513": 0.996921,
         "10529": 0.00165472,
         "10543": 0.995833,
         "10545": 0.00166389,
         "10580": 0.997314,
         "10592": 0.00375469,
         "10599": 0.9969,
         "10649": 0.991082,
         "10651": 0.00191083,
         "10679": 0.00255537,
         "10695": 0.995106,
         "10703": 0.00286041,
         "10723": 0.00275027,
         "10725": 0.00111545,
         "10726": 0,
         "10727": 0.879857,
         "10728": 0.00170843,
         "10729": 0.00110011,
         "10730": 0.00166389,
         "10733": 0.995169,
         "10734": 0.953434,
         "10740": 0.997205,
         "10741": 0.00230282,
         "10742": 0.00110314,
         "10743": 0.00161987,
         "10745": 0.00164745,
         "10746": 0.994189,
         "10748": 0.00172018,
         "10749": 0.994912,
         "10750": 0.00680272,
         "10751": 0.996287,
         "10752": 0.00117509,
         "10762": 0.995374,
         "10783": 0.00189215,
         "10784": 0.0015456,
         "10787": 0.993909,
         "10789": 0.00244698,
         "10791": 0.0014782,
         "10794": 0.995316,
         "10797": 0.00151976,
         "10799": 0.993949,
         "10801": 0.00146843,
         "10804": 0.000874891,
         "10805": 0.993311,
         "10806": 0.00485437,
         "10808": 0.000833333,
         "10809": 0.99687,
         "10811": 0.00159236,
         "10812": 0.993228,
         "10813": 0.994561,
         "10814": 0.995516,
         "10815": 0.00302801,
         "10816": 0.00148699,
         "10817": 0.00145666,
         "10818": 0.00301432,
         "10825": 0.995086,
         "10843": 0.00105708,
         "10844": 0.0100604,
         "10858": 0.992009,
         "10861": 0.989387,
         "10863": 0.991285,
         "10864": 0.994369,
         "10866": 0.00112994,
         "10871": 0.991917,
         "10872": 0.986971,
         "10873": 0.989384,
         "10874": 0.623049,
         "10875": 0.00722394,
         "10876": 0.989189,
         "10877": 0.994413,
         "10878": 0.0077951,
         "10880": 0.993399,
         "10881": 0.0124069,
         "10882": 0.00214362,
         "10883": 0.00635593,
         "10884": 0.994363,
         "10885": 0.9874,
         "10886": 0.00242718,
         "10887": 0.990011,
         "10888": 0.00221484,
         "10890": 0.00209205,
         "10892": 0.00378788,
         "10893": 0.991755,
         "10894": 0.00757576,
         "10895": 0.988409,
         "10896": 0.0031679,
         "10907": 0.993115,
         "10910": 0.991416,
         "10911": 0.997996,
         "10917": 0.00814664,
         "10918": 0,
         "10919": 0.992593,
         "10920": 0.0039604,
         "10921": 0.995918,
         "10922": 0.00201207,
         "10923": 0.0019305,
         "10924": 0.991111,
         "10925": 0.990888,
         "10926": 0.993506,
         "10927": 0.0021097,
         "10928": 0.00387597,
         "10929": 0.697628,
         "10930": 0.99455,
         "10931": 0.995146,
         "10932": 0.00200401,
         "10933": 0.00199601,
         "10934": 0.987448,
         "10935": 0.00431965,
         "10936": 0.00404858,
         "10937": 0.00389864,
         "10938": 0.00387597,
         "10939": 0,
         "10940": 0.00423729,
         "10941": 0.675214,
         "10942": 0.00417537,
         "10960": 0.991561,
         "10963": 0.00465116,
         "_deepnote_index_column": 10726
        },
        {
         "10007": 0.120866,
         "10014": 0.882495,
         "10043": 0.125808,
         "10060": 0.127807,
         "10069": 0.879762,
         "10081": 0.124855,
         "10086": 0.122786,
         "10088": 0.137092,
         "10123": 0.112874,
         "10136": 0.123369,
         "10152": 0.884485,
         "10181": 0.128205,
         "10188": 0.88997,
         "10195": 0.125581,
         "10203": 0.880923,
         "10230": 0.119048,
         "10245": 0.153323,
         "10290": 0.882941,
         "10294": 0.129478,
         "10319": 0.880838,
         "10326": 0.87862,
         "10350": 0.914894,
         "10352": 0.459036,
         "10368": 0.121696,
         "10377": 0.874237,
         "10387": 0.879271,
         "10416": 0.873697,
         "10418": 0.126852,
         "10468": 0.876627,
         "10485": 0.130779,
         "10496": 0.121307,
         "10503": 0.12629,
         "10512": 0.13218,
         "10513": 0.129771,
         "10529": 0.884769,
         "10543": 0.127907,
         "10545": 0.883411,
         "10580": 0.133333,
         "10592": 0.855528,
         "10599": 0.124838,
         "10649": 0.132353,
         "10651": 0.878162,
         "10679": 0.907649,
         "10695": 0.124217,
         "10703": 0.887574,
         "10723": 0.883853,
         "10725": 0.886825,
         "10726": 0.879857,
         "10727": 0,
         "10728": 0.886053,
         "10729": 0.889015,
         "10730": 0.885189,
         "10733": 0.131429,
         "10734": 0.079784,
         "10740": 0.123771,
         "10741": 0.887358,
         "10742": 0.882217,
         "10743": 0.885109,
         "10745": 0.883228,
         "10746": 0.129831,
         "10748": 0.880624,
         "10749": 0.122581,
         "10750": 0.878322,
         "10751": 0.116188,
         "10752": 0.876161,
         "10762": 0.0912863,
         "10783": 0.905051,
         "10784": 0.918519,
         "10787": 0.101677,
         "10789": 0.910382,
         "10791": 0.92041,
         "10794": 0.0890355,
         "10797": 0.921285,
         "10799": 0.088853,
         "10801": 0.919342,
         "10804": 0.914679,
         "10805": 0.0959147,
         "10806": 0.90625,
         "10808": 0.908514,
         "10809": 0.0870647,
         "10811": 0.916382,
         "10812": 0.0934505,
         "10813": 0.0871752,
         "10814": 0.0741811,
         "10815": 0.918725,
         "10816": 0.919586,
         "10817": 0.920061,
         "10818": 0.916328,
         "10825": 0.087931,
         "10843": 0.901806,
         "10844": 0.894068,
         "10858": 0.112544,
         "10861": 0.113184,
         "10863": 0.106007,
         "10864": 0.109005,
         "10866": 0.901891,
         "10871": 0.111111,
         "10872": 0.115075,
         "10873": 0.107143,
         "10874": 0.252142,
         "10875": 0.903537,
         "10876": 0.112922,
         "10877": 0.0948992,
         "10878": 0.902326,
         "10880": 0.108333,
         "10881": 0.885486,
         "10882": 0.906924,
         "10883": 0.901345,
         "10884": 0.100478,
         "10885": 0.118788,
         "10886": 0.889908,
         "10887": 0.107143,
         "10888": 0.9073,
         "10890": 0.906696,
         "10892": 0.89071,
         "10893": 0.10641,
         "10894": 0.898749,
         "10895": 0.111973,
         "10896": 0.899415,
         "10907": 0.0736086,
         "10910": 0.0607375,
         "10911": 0.0818363,
         "10917": 0.940358,
         "10918": 0.963753,
         "10919": 0.0569948,
         "10920": 0.960239,
         "10921": 0.0507099,
         "10922": 0.962891,
         "10923": 0.962302,
         "10924": 0.0466102,
         "10925": 0.041958,
         "10926": 0.045929,
         "10927": 0.961783,
         "10928": 0.957935,
         "10929": 0.226415,
         "10930": 0.0450928,
         "10931": 0.0539216,
         "10932": 0.965251,
         "10933": 0.962887,
         "10934": 0.0588235,
         "10935": 0.962733,
         "10936": 0.962672,
         "10937": 0.954887,
         "10938": 0.962477,
         "10939": 0.961039,
         "10940": 0.971193,
         "10941": 0.266272,
         "10942": 0.953535,
         "10960": 0.0403226,
         "10963": 0.96789,
         "_deepnote_index_column": 10727
        },
        {
         "10007": 0.99506,
         "10014": 0.000564972,
         "10043": 0.993949,
         "10060": 0.992118,
         "10069": 0.00285388,
         "10081": 0.991761,
         "10086": 0.996179,
         "10088": 0.992025,
         "10123": 0.994851,
         "10136": 0.992927,
         "10152": 0.00102669,
         "10181": 0.989583,
         "10188": 0.0010989,
         "10195": 0.991931,
         "10203": 0.00515759,
         "10230": 0.996007,
         "10245": 0.988157,
         "10290": 0.00106101,
         "10294": 0.99209,
         "10319": 0.00107643,
         "10326": 0.000595238,
         "10350": 0.000761035,
         "10352": 0.486318,
         "10368": 0.99297,
         "10377": 0.00291206,
         "10387": 0.00463918,
         "10416": 0.00118413,
         "10418": 0.991472,
         "10468": 0.00112931,
         "10485": 0.990719,
         "10496": 0.995493,
         "10503": 0.993841,
         "10512": 0.99346,
         "10513": 0.996497,
         "10529": 0.00103573,
         "10543": 0.992635,
         "10545": 0.00104548,
         "10580": 0.996706,
         "10592": 0.00360577,
         "10599": 0.997061,
         "10649": 0.990154,
         "10651": 0.000592066,
         "10679": 0.0017452,
         "10695": 0.993161,
         "10703": 0.00224215,
         "10723": 0.00205973,
         "10725": 0.000547345,
         "10726": 0.00170843,
         "10727": 0.886053,
         "10728": 0,
         "10729": 0.000515464,
         "10730": 0.00104275,
         "10733": 0.99398,
         "10734": 0.954545,
         "10740": 0.995796,
         "10741": 0.00162602,
         "10742": 0.000531067,
         "10743": 0.00101368,
         "10745": 0.0010395,
         "10746": 0.992841,
         "10748": 0.00109051,
         "10749": 0.99407,
         "10750": 0.00940266,
         "10751": 0.994545,
         "10752": 0.000587199,
         "10762": 0.994807,
         "10783": 0.000890472,
         "10784": 0.000727802,
         "10787": 0.993031,
         "10789": 0.00167084,
         "10791": 0.000692521,
         "10794": 0.99393,
         "10797": 0.000688231,
         "10799": 0.994087,
         "10801": 0.000701754,
         "10804": 0.000806452,
         "10805": 0.99239,
         "10806": 0.00406504,
         "10808": 0.000831947,
         "10809": 0.99699,
         "10811": 0.00077101,
         "10812": 0.99141,
         "10813": 0.99476,
         "10814": 0.99817,
         "10815": 0.00215517,
         "10816": 0.000735835,
         "10817": 0.000673854,
         "10818": 0.00211715,
         "10825": 0.993735,
         "10843": 0,
         "10844": 0.0120037,
         "10858": 0.988956,
         "10861": 0.991879,
         "10863": 0.993624,
         "10864": 0.995939,
         "10866": 0,
         "10871": 0.992299,
         "10872": 0.987205,
         "10873": 0.98996,
         "10874": 0.643098,
         "10875": 0.00506586,
         "10876": 0.990506,
         "10877": 0.996771,
         "10878": 0.00502008,
         "10880": 0.992655,
         "10881": 0.0103627,
         "10882": 0,
         "10883": 0.00382044,
         "10884": 0.995749,
         "10885": 0.989293,
         "10886": 0,
         "10887": 0.993385,
         "10888": 0.00104384,
         "10890": 0,
         "10892": 0.00126582,
         "10893": 0.993182,
         "10894": 0.00518135,
         "10895": 0.984805,
         "10896": 0.001998,
         "10907": 0.992945,
         "10910": 0.990348,
         "10911": 0.994604,
         "10917": 0.0205993,
         "10918": 0,
         "10919": 0.992788,
         "10920": 0.00209205,
         "10921": 0.991525,
         "10922": 0,
         "10923": 0,
         "10924": 0.99422,
         "10925": 0.990868,
         "10926": 0.992606,
         "10927": 0,
         "10928": 0.00653595,
         "10929": 0.73127,
         "10930": 0.992021,
         "10931": 0.992974,
         "10932": 0,
         "10933": 0,
         "10934": 0.985169,
         "10935": 0.00175747,
         "10936": 0.00177936,
         "10937": 0.00854701,
         "10938": 0.00179211,
         "10939": 0,
         "10940": 0.00180832,
         "10941": 0.720848,
         "10942": 0.00706714,
         "10960": 0.997416,
         "10963": 0.00373134,
         "_deepnote_index_column": 10728
        }
       ]
      },
      "text/plain": "person2_id     10007     10014     10043     10060     10069     10081  \\\nperson1_id                                                               \n10007       0.000000  0.996044  0.000000  0.000826  0.990121  0.002070   \n10014       0.996044  0.000000  0.996231  0.994093  0.005240  0.992366   \n10043       0.000000  0.996231  0.000000  0.000814  0.991139  0.002030   \n10060       0.000826  0.994093  0.000814  0.000000  0.990529  0.001186   \n10069       0.990121  0.005240  0.991139  0.990529  0.000000  0.989243   \n...              ...       ...       ...       ...       ...       ...   \n10940       0.987719  0.001901  0.990893  0.985714  0.001942  0.977600   \n10941       0.282095  0.686792  0.348540  0.321375  0.684524  0.325265   \n10942       0.984429  0.007143  0.991349  0.983206  0.007421  0.975498   \n10960       0.000000  0.985019  0.000000  0.000000  0.987952  0.000000   \n10963       0.971292  0.004132  0.991667  0.970339  0.004202  0.962547   \n\nperson2_id     10086     10088     10123     10136  ...     10935     10936  \\\nperson1_id                                          ...                       \n10007       0.000000  0.003288  0.000000  0.000000  ...  0.994575  0.989673   \n10014       0.997079  0.991874  0.996991  0.995115  ...  0.002028  0.001789   \n10043       0.000000  0.003065  0.000000  0.000000  ...  0.990909  0.991304   \n10060       0.000448  0.001347  0.000467  0.000460  ...  0.992063  0.987673   \n10069       0.995086  0.990934  0.994464  0.993637  ...  0.001969  0.001869   \n...              ...       ...       ...       ...  ...       ...       ...   \n10940       0.994774  0.987893  0.994434  0.991213  ...  0.000000  0.000000   \n10941       0.334944  0.359223  0.329879  0.320205  ...  0.693679  0.676145   \n10942       0.995033  0.982222  0.989565  0.986464  ...  0.000000  0.004777   \n10960       0.000000  0.000000  0.000000  0.000000  ...  0.992268  0.986111   \n10963       0.994792  0.983516  0.990909  0.990291  ...  0.000000  0.000000   \n\nperson2_id     10937     10938     10939     10940     10941     10942  \\\nperson1_id                                                               \n10007       0.983553  0.989492  0.998175  0.987719  0.282095  0.984429   \n10014       0.008696  0.001883  0.000000  0.001901  0.686792  0.007143   \n10043       0.993355  0.990876  0.994728  0.990893  0.348540  0.991349   \n10060       0.982558  0.987711  0.995106  0.985714  0.321375  0.983206   \n10069       0.009025  0.001805  0.000000  0.001942  0.684524  0.007421   \n...              ...       ...       ...       ...       ...       ...   \n10940       0.005997  0.000000  0.000000  0.000000  0.691935  0.004644   \n10941       0.686765  0.672414  0.672185  0.691935  0.000000  0.693374   \n10942       0.001437  0.004666  0.000000  0.004644  0.693374  0.000000   \n10960       0.979112  0.986072  0.997191  0.985507  0.246649  0.979112   \n10963       0.014760  0.000000  0.000000  0.000000  0.785124  0.011152   \n\nperson2_id     10960     10963  \nperson1_id                      \n10007       0.000000  0.971292  \n10014       0.985019  0.004132  \n10043       0.000000  0.991667  \n10060       0.000000  0.970339  \n10069       0.987952  0.004202  \n...              ...       ...  \n10940       0.985507  0.000000  \n10941       0.246649  0.785124  \n10942       0.979112  0.011152  \n10960       0.000000  0.980843  \n10963       0.980843  0.000000  \n\n[150 rows x 150 columns]",
      "text/html": "<div>\n<style scoped>\n    .dataframe tbody tr th:only-of-type {\n        vertical-align: middle;\n    }\n\n    .dataframe tbody tr th {\n        vertical-align: top;\n    }\n\n    .dataframe thead th {\n        text-align: right;\n    }\n</style>\n<table border=\"1\" class=\"dataframe\">\n  <thead>\n    <tr style=\"text-align: right;\">\n      <th>person2_id</th>\n      <th>10007</th>\n      <th>10014</th>\n      <th>10043</th>\n      <th>10060</th>\n      <th>10069</th>\n      <th>10081</th>\n      <th>10086</th>\n      <th>10088</th>\n      <th>10123</th>\n      <th>10136</th>\n      <th>...</th>\n      <th>10935</th>\n      <th>10936</th>\n      <th>10937</th>\n      <th>10938</th>\n      <th>10939</th>\n      <th>10940</th>\n      <th>10941</th>\n      <th>10942</th>\n      <th>10960</th>\n      <th>10963</th>\n    </tr>\n    <tr>\n      <th>person1_id</th>\n      <th></th>\n      <th></th>\n      <th></th>\n      <th></th>\n      <th></th>\n      <th></th>\n      <th></th>\n      <th></th>\n      <th></th>\n      <th></th>\n      <th></th>\n      <th></th>\n      <th></th>\n      <th></th>\n      <th></th>\n      <th></th>\n      <th></th>\n      <th></th>\n      <th></th>\n      <th></th>\n      <th></th>\n    </tr>\n  </thead>\n  <tbody>\n    <tr>\n      <th>10007</th>\n      <td>0.000000</td>\n      <td>0.996044</td>\n      <td>0.000000</td>\n      <td>0.000826</td>\n      <td>0.990121</td>\n      <td>0.002070</td>\n      <td>0.000000</td>\n      <td>0.003288</td>\n      <td>0.000000</td>\n      <td>0.000000</td>\n      <td>...</td>\n      <td>0.994575</td>\n      <td>0.989673</td>\n      <td>0.983553</td>\n      <td>0.989492</td>\n      <td>0.998175</td>\n      <td>0.987719</td>\n      <td>0.282095</td>\n      <td>0.984429</td>\n      <td>0.000000</td>\n      <td>0.971292</td>\n    </tr>\n    <tr>\n      <th>10014</th>\n      <td>0.996044</td>\n      <td>0.000000</td>\n      <td>0.996231</td>\n      <td>0.994093</td>\n      <td>0.005240</td>\n      <td>0.992366</td>\n      <td>0.997079</td>\n      <td>0.991874</td>\n      <td>0.996991</td>\n      <td>0.995115</td>\n      <td>...</td>\n      <td>0.002028</td>\n      <td>0.001789</td>\n      <td>0.008696</td>\n      <td>0.001883</td>\n      <td>0.000000</td>\n      <td>0.001901</td>\n      <td>0.686792</td>\n      <td>0.007143</td>\n      <td>0.985019</td>\n      <td>0.004132</td>\n    </tr>\n    <tr>\n      <th>10043</th>\n      <td>0.000000</td>\n      <td>0.996231</td>\n      <td>0.000000</td>\n      <td>0.000814</td>\n      <td>0.991139</td>\n      <td>0.002030</td>\n      <td>0.000000</td>\n      <td>0.003065</td>\n      <td>0.000000</td>\n      <td>0.000000</td>\n      <td>...</td>\n      <td>0.990909</td>\n      <td>0.991304</td>\n      <td>0.993355</td>\n      <td>0.990876</td>\n      <td>0.994728</td>\n      <td>0.990893</td>\n      <td>0.348540</td>\n      <td>0.991349</td>\n      <td>0.000000</td>\n      <td>0.991667</td>\n    </tr>\n    <tr>\n      <th>10060</th>\n      <td>0.000826</td>\n      <td>0.994093</td>\n      <td>0.000814</td>\n      <td>0.000000</td>\n      <td>0.990529</td>\n      <td>0.001186</td>\n      <td>0.000448</td>\n      <td>0.001347</td>\n      <td>0.000467</td>\n      <td>0.000460</td>\n      <td>...</td>\n      <td>0.992063</td>\n      <td>0.987673</td>\n      <td>0.982558</td>\n      <td>0.987711</td>\n      <td>0.995106</td>\n      <td>0.985714</td>\n      <td>0.321375</td>\n      <td>0.983206</td>\n      <td>0.000000</td>\n      <td>0.970339</td>\n    </tr>\n    <tr>\n      <th>10069</th>\n      <td>0.990121</td>\n      <td>0.005240</td>\n      <td>0.991139</td>\n      <td>0.990529</td>\n      <td>0.000000</td>\n      <td>0.989243</td>\n      <td>0.995086</td>\n      <td>0.990934</td>\n      <td>0.994464</td>\n      <td>0.993637</td>\n      <td>...</td>\n      <td>0.001969</td>\n      <td>0.001869</td>\n      <td>0.009025</td>\n      <td>0.001805</td>\n      <td>0.000000</td>\n      <td>0.001942</td>\n      <td>0.684524</td>\n      <td>0.007421</td>\n      <td>0.987952</td>\n      <td>0.004202</td>\n    </tr>\n    <tr>\n      <th>...</th>\n      <td>...</td>\n      <td>...</td>\n      <td>...</td>\n      <td>...</td>\n      <td>...</td>\n      <td>...</td>\n      <td>...</td>\n      <td>...</td>\n      <td>...</td>\n      <td>...</td>\n      <td>...</td>\n      <td>...</td>\n      <td>...</td>\n      <td>...</td>\n      <td>...</td>\n      <td>...</td>\n      <td>...</td>\n      <td>...</td>\n      <td>...</td>\n      <td>...</td>\n      <td>...</td>\n    </tr>\n    <tr>\n      <th>10940</th>\n      <td>0.987719</td>\n      <td>0.001901</td>\n      <td>0.990893</td>\n      <td>0.985714</td>\n      <td>0.001942</td>\n      <td>0.977600</td>\n      <td>0.994774</td>\n      <td>0.987893</td>\n      <td>0.994434</td>\n      <td>0.991213</td>\n      <td>...</td>\n      <td>0.000000</td>\n      <td>0.000000</td>\n      <td>0.005997</td>\n      <td>0.000000</td>\n      <td>0.000000</td>\n      <td>0.000000</td>\n      <td>0.691935</td>\n      <td>0.004644</td>\n      <td>0.985507</td>\n      <td>0.000000</td>\n    </tr>\n    <tr>\n      <th>10941</th>\n      <td>0.282095</td>\n      <td>0.686792</td>\n      <td>0.348540</td>\n      <td>0.321375</td>\n      <td>0.684524</td>\n      <td>0.325265</td>\n      <td>0.334944</td>\n      <td>0.359223</td>\n      <td>0.329879</td>\n      <td>0.320205</td>\n      <td>...</td>\n      <td>0.693679</td>\n      <td>0.676145</td>\n      <td>0.686765</td>\n      <td>0.672414</td>\n      <td>0.672185</td>\n      <td>0.691935</td>\n      <td>0.000000</td>\n      <td>0.693374</td>\n      <td>0.246649</td>\n      <td>0.785124</td>\n    </tr>\n    <tr>\n      <th>10942</th>\n      <td>0.984429</td>\n      <td>0.007143</td>\n      <td>0.991349</td>\n      <td>0.983206</td>\n      <td>0.007421</td>\n      <td>0.975498</td>\n      <td>0.995033</td>\n      <td>0.982222</td>\n      <td>0.989565</td>\n      <td>0.986464</td>\n      <td>...</td>\n      <td>0.000000</td>\n      <td>0.004777</td>\n      <td>0.001437</td>\n      <td>0.004666</td>\n      <td>0.000000</td>\n      <td>0.004644</td>\n      <td>0.693374</td>\n      <td>0.000000</td>\n      <td>0.979112</td>\n      <td>0.011152</td>\n    </tr>\n    <tr>\n      <th>10960</th>\n      <td>0.000000</td>\n      <td>0.985019</td>\n      <td>0.000000</td>\n      <td>0.000000</td>\n      <td>0.987952</td>\n      <td>0.000000</td>\n      <td>0.000000</td>\n      <td>0.000000</td>\n      <td>0.000000</td>\n      <td>0.000000</td>\n      <td>...</td>\n      <td>0.992268</td>\n      <td>0.986111</td>\n      <td>0.979112</td>\n      <td>0.986072</td>\n      <td>0.997191</td>\n      <td>0.985507</td>\n      <td>0.246649</td>\n      <td>0.979112</td>\n      <td>0.000000</td>\n      <td>0.980843</td>\n    </tr>\n    <tr>\n      <th>10963</th>\n      <td>0.971292</td>\n      <td>0.004132</td>\n      <td>0.991667</td>\n      <td>0.970339</td>\n      <td>0.004202</td>\n      <td>0.962547</td>\n      <td>0.994792</td>\n      <td>0.983516</td>\n      <td>0.990909</td>\n      <td>0.990291</td>\n      <td>...</td>\n      <td>0.000000</td>\n      <td>0.000000</td>\n      <td>0.014760</td>\n      <td>0.000000</td>\n      <td>0.000000</td>\n      <td>0.000000</td>\n      <td>0.785124</td>\n      <td>0.011152</td>\n      <td>0.980843</td>\n      <td>0.000000</td>\n    </tr>\n  </tbody>\n</table>\n<p>150 rows × 150 columns</p>\n</div>"
     },
     "metadata": {}
    }
   ]
  },
  {
   "cell_type": "markdown",
   "source": "Now that we have a matrix of the distances we can plug that into the metric MDS algorithm to get the points transformed to a 2d plane.",
   "metadata": {
    "cell_id": "31be67af53654d94b1bfbff32587cd3f",
    "tags": [],
    "is_collapsed": false,
    "deepnote_app_coordinates": {
     "x": 0,
     "y": 48,
     "w": 8,
     "h": 2
    },
    "deepnote_cell_type": "text-cell-p"
   }
  },
  {
   "cell_type": "code",
   "metadata": {
    "cell_id": "885f9993113b4c1ba78841cd8a37dec6",
    "tags": [],
    "deepnote_to_be_reexecuted": false,
    "source_hash": "f564902d",
    "execution_start": 1652401880579,
    "execution_millis": 2623,
    "deepnote_app_coordinates": {
     "x": 0,
     "y": 51,
     "w": 12,
     "h": 5
    },
    "deepnote_cell_type": "code",
    "deepnote_cell_height": 207
   },
   "source": "from sklearn.manifold import MDS\n\nmds = MDS(metric=True, dissimilarity='precomputed', random_state=0)\nX_transform = mds.fit_transform(dist_matrix)\nx = X_transform[:,0]\ny = X_transform[:,1]\n# Flip everything in the X direction just to not make this a left-right thing\nx = list(map(lambda x: -x, x))",
   "execution_count": 4,
   "outputs": []
  },
  {
   "cell_type": "markdown",
   "source": "Now let's plot the result",
   "metadata": {
    "cell_id": "92bbf22515e24a938006d461890d5046",
    "tags": [],
    "is_collapsed": false,
    "deepnote_app_coordinates": {
     "x": 0,
     "y": 57,
     "w": 8,
     "h": 2
    },
    "deepnote_cell_type": "text-cell-p"
   }
  },
  {
   "cell_type": "code",
   "metadata": {
    "cell_id": "e1f085952ce242e087ddcec2e52e6968",
    "tags": [],
    "deepnote_to_be_reexecuted": false,
    "source_hash": "837900a2",
    "execution_start": 1652401883216,
    "execution_millis": 3400,
    "deepnote_app_coordinates": {
     "x": 0,
     "y": 60,
     "w": 12,
     "h": 5
    },
    "deepnote_cell_type": "code",
    "deepnote_cell_height": 779,
    "deepnote_output_heights": [
     592
    ]
   },
   "source": "from matplotlib import pyplot as plt\n\nfig = plt.figure(2, (10,10))\nplt.scatter(x, y, s=128)\nplt.title('Voting in the current house of representatives')\nplt.show()",
   "execution_count": 5,
   "outputs": [
    {
     "data": {
      "text/plain": "<Figure size 720x720 with 1 Axes>",
      "image/png": "[encoded data removed]"
     },
     "metadata": {
      "needs_background": "light",
      "image/png": {
       "width": 603,
       "height": 590
      }
     },
     "output_type": "display_data"
    }
   ]
  },
  {
   "cell_type": "markdown",
   "source": "To make this more useful let's colour in each point with the colour of the party that the person is currently a member of. Let's start with some party colours (taken from https://en.wikipedia.org/wiki/Template:Australian_politics/party_colours)",
   "metadata": {
    "cell_id": "1089e335e18a40c1b94df96ee43b3c7b",
    "tags": [],
    "is_collapsed": false,
    "deepnote_app_coordinates": {
     "x": 0,
     "y": 66,
     "w": 8,
     "h": 2
    },
    "deepnote_cell_type": "text-cell-p"
   }
  },
  {
   "cell_type": "code",
   "metadata": {
    "cell_id": "e2223333979e44998e34985580361375",
    "tags": [],
    "deepnote_to_be_reexecuted": false,
    "source_hash": "b2023dd2",
    "execution_start": 1652401886644,
    "execution_millis": 4601,
    "deepnote_app_coordinates": {
     "x": 0,
     "y": 69,
     "w": 12,
     "h": 5
    },
    "deepnote_cell_type": "code",
    "deepnote_cell_height": 1306,
    "deepnote_output_heights": [
     579,
     null,
     21
    ]
   },
   "source": "party_colours = {\n    \"Australian Labor Party\": \"#F00011\",\n    \"Australian Greens\": \"#10C25B\",\n    # Deputy speaker. Hmmm...\n    \"CWM\": \"#0ee\",\n    \"SPK\": \"#0ee\",\n    \"Katter's Australian Party\": \"#B50204\",\n    \"Centre Alliance\": \"#ff6300\",\n    \"United Australia Party\": \"#FFED00\",\n    # TODO: What colour for the independents?\n    \"Independent\": \"#aaa\",\n    # For parties that are part of the coalition use the coalition colour\n    \"Liberal Party\": \"#080CAB\",\n    \"National Party\": \"#080CAB\",\n    \"Liberal National Party\": \"#080CAB\",\n}\n\ndef party_to_colour(party):\n    return party_colours[party]\n\ncolours = list(map(party_to_colour, people[\"party\"]))\n\nfrom matplotlib import pyplot as plt\nfrom mpl_toolkits.axes_grid1.inset_locator import zoomed_inset_axes, mark_inset\n\nfig, ax = plt.subplots(figsize=(10, 10))\nplt.xticks(visible=False)\nplt.yticks(visible=False)\nplt.scatter(x, y, c=colours, s=128)\n\nfor i, txt in enumerate(people[\"name\"]):\n    ax.annotate(txt, (x[i], y[i]), xytext=(10,-3), textcoords=\"offset pixels\")\n\nplt.title('Voting in the current house of representatives')\n\nplt.show()",
   "execution_count": 6,
   "outputs": [
    {
     "data": {
      "text/plain": "<Figure size 720x720 with 1 Axes>",
      "image/png": "[encoded data removed]"
     },
     "metadata": {
      "image/png": {
       "width": 655,
       "height": 577
      }
     },
     "output_type": "display_data"
    }
   ]
  },
  {
   "cell_type": "code",
   "metadata": {
    "cell_id": "30ff5560f1ed48a1b3f20ddf96887399",
    "tags": [],
    "deepnote_to_be_reexecuted": false,
    "source_hash": "a0e7181e",
    "execution_start": 1652401891041,
    "execution_millis": 20,
    "deepnote_app_coordinates": {
     "x": 0,
     "y": 75,
     "w": 12,
     "h": 5
    },
    "owner_user_id": "f5831284-9d4e-48af-bd69-38599eaac17e",
    "deepnote_cell_type": "code",
    "deepnote_cell_height": 333
   },
   "source": "def plot_zoomed(x0, x1, y0, y1, title=\"Zoomed in area\", show_ticks=False):\n    fig, ax = plt.subplots(figsize=(10, 10))\n    plt.xticks(visible=show_ticks)\n    plt.yticks(visible=show_ticks)\n    plt.scatter(x, y, c=colours, s=128)\n\n    ax.set_xlim(x0, x1)\n    ax.set_ylim(y0, y1)\n\n    for i, txt in enumerate(people[\"name\"]):\n        ax.annotate(txt, (x[i], y[i]), xytext=(10,-3), textcoords=\"offset pixels\")\n\n    plt.title(title)\n\n    plt.show()",
   "execution_count": 7,
   "outputs": []
  },
  {
   "cell_type": "code",
   "metadata": {
    "cell_id": "c31e699d53bd43eeaad9b66f1cfba147",
    "tags": [],
    "deepnote_to_be_reexecuted": false,
    "source_hash": "39209529",
    "allow_embed": false,
    "execution_start": 1652401891074,
    "execution_millis": 2845,
    "deepnote_app_coordinates": {
     "x": 0,
     "y": 81,
     "w": 12,
     "h": 5
    },
    "deepnote_cell_type": "code",
    "deepnote_cell_height": 676,
    "deepnote_output_heights": [
     579
    ]
   },
   "source": "plot_zoomed(-0.44, -0.40, -0.205, -0.175, title=\"Zooming in on the coalition\")",
   "execution_count": 8,
   "outputs": [
    {
     "data": {
      "text/plain": "<Figure size 720x720 with 1 Axes>",
      "image/png": "[encoded data removed]"
     },
     "metadata": {
      "image/png": {
       "width": 583,
       "height": 577
      }
     },
     "output_type": "display_data"
    }
   ]
  },
  {
   "cell_type": "code",
   "metadata": {
    "cell_id": "d6a5d1f58cde4915a804f5ee17320010",
    "tags": [],
    "deepnote_to_be_reexecuted": false,
    "source_hash": "9df1b95e",
    "allow_embed": false,
    "execution_start": 1652401893766,
    "execution_millis": 2931,
    "deepnote_app_coordinates": {
     "x": 0,
     "y": 87,
     "w": 12,
     "h": 5
    },
    "deepnote_cell_type": "code",
    "deepnote_cell_height": 689,
    "deepnote_output_heights": [
     592
    ]
   },
   "source": "plot_zoomed(-0.431, -0.417, -0.204, -0.194, title=\"Zooming in on the coalition more\", show_ticks=True)",
   "execution_count": 9,
   "outputs": [
    {
     "data": {
      "text/plain": "<Figure size 720x720 with 1 Axes>",
      "image/png": "[encoded data removed]"
     },
     "metadata": {
      "needs_background": "light",
      "image/png": {
       "width": 616,
       "height": 590
      }
     },
     "output_type": "display_data"
    }
   ]
  },
  {
   "cell_type": "code",
   "metadata": {
    "cell_id": "16471896bd8147a4a8a109543db31afe",
    "tags": [],
    "deepnote_to_be_reexecuted": false,
    "source_hash": "ac93fa18",
    "allow_embed": false,
    "execution_start": 1652401896609,
    "execution_millis": 2752,
    "deepnote_app_coordinates": {
     "x": 0,
     "y": 93,
     "w": 12,
     "h": 5
    },
    "deepnote_cell_type": "code",
    "deepnote_cell_height": 676,
    "deepnote_output_heights": [
     579
    ]
   },
   "source": "plot_zoomed(0.425, 0.5, 0.215, 0.24, title=\"Zooming in on the ALP\")",
   "execution_count": 10,
   "outputs": [
    {
     "data": {
      "text/plain": "<Figure size 720x720 with 1 Axes>",
      "image/png": "[encoded data removed]"
     },
     "metadata": {
      "image/png": {
       "width": 575,
       "height": 577
      }
     },
     "output_type": "display_data"
    }
   ]
  },
  {
   "cell_type": "code",
   "metadata": {
    "cell_id": "3860649f4adf4143a3e309b023c6c13c",
    "tags": [],
    "deepnote_to_be_reexecuted": false,
    "source_hash": "d4b3e5dd",
    "allow_embed": false,
    "execution_start": 1652401898910,
    "execution_millis": 3738,
    "deepnote_app_coordinates": {
     "x": 0,
     "y": 99,
     "w": 12,
     "h": 5
    },
    "deepnote_cell_type": "code",
    "deepnote_cell_height": 689,
    "deepnote_output_heights": [
     592
    ]
   },
   "source": "plot_zoomed(0.463, 0.473, 0.218, 0.227, title=\"Zooming in on the ALP more\", show_ticks=True)",
   "execution_count": 11,
   "outputs": [
    {
     "data": {
      "text/plain": "<Figure size 720x720 with 1 Axes>",
      "image/png": "[encoded data removed]"
     },
     "metadata": {
      "needs_background": "light",
      "image/png": {
       "width": 608,
       "height": 590
      }
     },
     "output_type": "display_data"
    }
   ]
  },
  {
   "cell_type": "markdown",
   "source": "<a style='text-decoration:none;line-height:16px;display:flex;color:#5B5B62;padding:10px;justify-content:end;' href='https://deepnote.com?utm_source=created-in-deepnote-cell&projectId=3cc29e64-76d4-4791-9f42-553d3a25e9a4' target=\"_blank\">\n<img alt='Created in deepnote.com' style='display:inline;max-height:16px;margin:0px;margin-right:7.5px;' src='data:image/svg+xml;base64,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' > </img>\nCreated in <span style='font-weight:600;margin-left:4px;'>Deepnote</span></a>",
   "metadata": {
    "tags": [],
    "created_in_deepnote_cell": true,
    "deepnote_cell_type": "markdown"
   }
  }
 ],
 "nbformat": 4,
 "nbformat_minor": 2,
 "metadata": {
  "orig_nbformat": 2,
  "deepnote": {},
  "deepnote_notebook_id": "8fc24fc0-d1c8-431e-bc81-1413ca615414",
  "deepnote_execution_queue": [],
  "deepnote_app_layout": "article"
 }
}